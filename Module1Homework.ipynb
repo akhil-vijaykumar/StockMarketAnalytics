{
 "cells": [
  {
   "cell_type": "markdown",
   "id": "9eaf167d",
   "metadata": {},
   "source": [
    "Question 1: [Macro] Average growth of GDP in 2023\n",
    "What is the average growth (in %) of GDP in 2023?\n",
    "\n",
    "Download the timeseries Real Gross Domestic Product (GDPC1) from FRED (https://fred.stlouisfed.org/series/GDPC1). Calculate year-over-year (YoY) growth rate (that is, divide current value to one 4 quarters ago). Find the average YoY growth in 2023 (average from 4 YoY numbers). Round to 1 digit after the decimal point: e.g. if you get 5.66% growth => you should answer 5.7"
   ]
  },
  {
   "cell_type": "code",
   "execution_count": 1,
   "id": "ef9c714a",
   "metadata": {},
   "outputs": [],
   "source": [
    "# IMPORTS\n",
    "import numpy as np\n",
    "import pandas as pd\n",
    "\n",
    "#Fin Data Sources\n",
    "import yfinance as yf\n",
    "import pandas_datareader as pdr\n",
    "\n",
    "#Data viz\n",
    "import plotly.graph_objs as go\n",
    "import plotly.express as px\n",
    "\n",
    "import time\n",
    "from datetime import date\n"
   ]
  },
  {
   "cell_type": "code",
   "execution_count": 2,
   "id": "72622e9f",
   "metadata": {},
   "outputs": [
    {
     "name": "stdout",
     "output_type": "stream",
     "text": [
      "Year = 2024; month= 4; day=22\n",
      "Period for indexes: 1954-04-22 to 2024-04-22 \n"
     ]
    }
   ],
   "source": [
    "end = date.today()\n",
    "print(f'Year = {end.year}; month= {end.month}; day={end.day}')\n",
    "\n",
    "start = date(year=end.year-70, month=end.month, day=end.day)\n",
    "print(f'Period for indexes: {start} to {end} ')"
   ]
  },
  {
   "cell_type": "code",
   "execution_count": 3,
   "id": "a3b450db",
   "metadata": {},
   "outputs": [],
   "source": [
    "#Downloading the Real Gross Domestic Product Timeseries\n",
    "gdpc1_df = pdr.DataReader('GDPC1','fred',start=start)"
   ]
  },
  {
   "cell_type": "code",
   "execution_count": 4,
   "id": "8f6c84d7",
   "metadata": {},
   "outputs": [
    {
     "data": {
      "text/html": [
       "<div>\n",
       "<style scoped>\n",
       "    .dataframe tbody tr th:only-of-type {\n",
       "        vertical-align: middle;\n",
       "    }\n",
       "\n",
       "    .dataframe tbody tr th {\n",
       "        vertical-align: top;\n",
       "    }\n",
       "\n",
       "    .dataframe thead th {\n",
       "        text-align: right;\n",
       "    }\n",
       "</style>\n",
       "<table border=\"1\" class=\"dataframe\">\n",
       "  <thead>\n",
       "    <tr style=\"text-align: right;\">\n",
       "      <th></th>\n",
       "      <th>GDPC1</th>\n",
       "    </tr>\n",
       "    <tr>\n",
       "      <th>DATE</th>\n",
       "      <th></th>\n",
       "    </tr>\n",
       "  </thead>\n",
       "  <tbody>\n",
       "    <tr>\n",
       "      <th>1954-07-01</th>\n",
       "      <td>2880.482</td>\n",
       "    </tr>\n",
       "    <tr>\n",
       "      <th>1954-10-01</th>\n",
       "      <td>2936.852</td>\n",
       "    </tr>\n",
       "    <tr>\n",
       "      <th>1955-01-01</th>\n",
       "      <td>3020.746</td>\n",
       "    </tr>\n",
       "    <tr>\n",
       "      <th>1955-04-01</th>\n",
       "      <td>3069.910</td>\n",
       "    </tr>\n",
       "    <tr>\n",
       "      <th>1955-07-01</th>\n",
       "      <td>3111.379</td>\n",
       "    </tr>\n",
       "    <tr>\n",
       "      <th>...</th>\n",
       "      <td>...</td>\n",
       "    </tr>\n",
       "    <tr>\n",
       "      <th>2022-10-01</th>\n",
       "      <td>21989.981</td>\n",
       "    </tr>\n",
       "    <tr>\n",
       "      <th>2023-01-01</th>\n",
       "      <td>22112.329</td>\n",
       "    </tr>\n",
       "    <tr>\n",
       "      <th>2023-04-01</th>\n",
       "      <td>22225.350</td>\n",
       "    </tr>\n",
       "    <tr>\n",
       "      <th>2023-07-01</th>\n",
       "      <td>22490.692</td>\n",
       "    </tr>\n",
       "    <tr>\n",
       "      <th>2023-10-01</th>\n",
       "      <td>22679.255</td>\n",
       "    </tr>\n",
       "  </tbody>\n",
       "</table>\n",
       "<p>278 rows × 1 columns</p>\n",
       "</div>"
      ],
      "text/plain": [
       "                GDPC1\n",
       "DATE                 \n",
       "1954-07-01   2880.482\n",
       "1954-10-01   2936.852\n",
       "1955-01-01   3020.746\n",
       "1955-04-01   3069.910\n",
       "1955-07-01   3111.379\n",
       "...               ...\n",
       "2022-10-01  21989.981\n",
       "2023-01-01  22112.329\n",
       "2023-04-01  22225.350\n",
       "2023-07-01  22490.692\n",
       "2023-10-01  22679.255\n",
       "\n",
       "[278 rows x 1 columns]"
      ]
     },
     "execution_count": 4,
     "metadata": {},
     "output_type": "execute_result"
    }
   ],
   "source": [
    "gdpc1_df"
   ]
  },
  {
   "cell_type": "code",
   "execution_count": 5,
   "id": "97d43b95",
   "metadata": {},
   "outputs": [],
   "source": [
    "#Calculating Year-Over-Year Growth Rate\n",
    "gdpc1_df['gdpc1_df_us_yoy'] = gdpc1_df.GDPC1/gdpc1_df.GDPC1.shift(4)-1"
   ]
  },
  {
   "cell_type": "code",
   "execution_count": 6,
   "id": "e8bb5c0e",
   "metadata": {},
   "outputs": [
    {
     "data": {
      "text/html": [
       "<div>\n",
       "<style scoped>\n",
       "    .dataframe tbody tr th:only-of-type {\n",
       "        vertical-align: middle;\n",
       "    }\n",
       "\n",
       "    .dataframe tbody tr th {\n",
       "        vertical-align: top;\n",
       "    }\n",
       "\n",
       "    .dataframe thead th {\n",
       "        text-align: right;\n",
       "    }\n",
       "</style>\n",
       "<table border=\"1\" class=\"dataframe\">\n",
       "  <thead>\n",
       "    <tr style=\"text-align: right;\">\n",
       "      <th></th>\n",
       "      <th>GDPC1</th>\n",
       "      <th>gdpc1_df_us_yoy</th>\n",
       "    </tr>\n",
       "    <tr>\n",
       "      <th>DATE</th>\n",
       "      <th></th>\n",
       "      <th></th>\n",
       "    </tr>\n",
       "  </thead>\n",
       "  <tbody>\n",
       "    <tr>\n",
       "      <th>1954-07-01</th>\n",
       "      <td>2880.482</td>\n",
       "      <td>NaN</td>\n",
       "    </tr>\n",
       "    <tr>\n",
       "      <th>1954-10-01</th>\n",
       "      <td>2936.852</td>\n",
       "      <td>NaN</td>\n",
       "    </tr>\n",
       "    <tr>\n",
       "      <th>1955-01-01</th>\n",
       "      <td>3020.746</td>\n",
       "      <td>NaN</td>\n",
       "    </tr>\n",
       "    <tr>\n",
       "      <th>1955-04-01</th>\n",
       "      <td>3069.910</td>\n",
       "      <td>NaN</td>\n",
       "    </tr>\n",
       "    <tr>\n",
       "      <th>1955-07-01</th>\n",
       "      <td>3111.379</td>\n",
       "      <td>0.080159</td>\n",
       "    </tr>\n",
       "    <tr>\n",
       "      <th>...</th>\n",
       "      <td>...</td>\n",
       "      <td>...</td>\n",
       "    </tr>\n",
       "    <tr>\n",
       "      <th>2022-10-01</th>\n",
       "      <td>21989.981</td>\n",
       "      <td>0.006517</td>\n",
       "    </tr>\n",
       "    <tr>\n",
       "      <th>2023-01-01</th>\n",
       "      <td>22112.329</td>\n",
       "      <td>0.017179</td>\n",
       "    </tr>\n",
       "    <tr>\n",
       "      <th>2023-04-01</th>\n",
       "      <td>22225.350</td>\n",
       "      <td>0.023825</td>\n",
       "    </tr>\n",
       "    <tr>\n",
       "      <th>2023-07-01</th>\n",
       "      <td>22490.692</td>\n",
       "      <td>0.029269</td>\n",
       "    </tr>\n",
       "    <tr>\n",
       "      <th>2023-10-01</th>\n",
       "      <td>22679.255</td>\n",
       "      <td>0.031345</td>\n",
       "    </tr>\n",
       "  </tbody>\n",
       "</table>\n",
       "<p>278 rows × 2 columns</p>\n",
       "</div>"
      ],
      "text/plain": [
       "                GDPC1  gdpc1_df_us_yoy\n",
       "DATE                                  \n",
       "1954-07-01   2880.482              NaN\n",
       "1954-10-01   2936.852              NaN\n",
       "1955-01-01   3020.746              NaN\n",
       "1955-04-01   3069.910              NaN\n",
       "1955-07-01   3111.379         0.080159\n",
       "...               ...              ...\n",
       "2022-10-01  21989.981         0.006517\n",
       "2023-01-01  22112.329         0.017179\n",
       "2023-04-01  22225.350         0.023825\n",
       "2023-07-01  22490.692         0.029269\n",
       "2023-10-01  22679.255         0.031345\n",
       "\n",
       "[278 rows x 2 columns]"
      ]
     },
     "execution_count": 6,
     "metadata": {},
     "output_type": "execute_result"
    }
   ],
   "source": [
    "gdpc1_df"
   ]
  },
  {
   "cell_type": "code",
   "execution_count": 8,
   "id": "77ab1bbf",
   "metadata": {},
   "outputs": [
    {
     "data": {
      "text/plain": [
       "GDPC1              False\n",
       "gdpc1_df_us_yoy    False\n",
       "dtype: bool"
      ]
     },
     "execution_count": 8,
     "metadata": {},
     "output_type": "execute_result"
    }
   ],
   "source": [
    "gdpc1_df['2023-01-01':'2023-10-01'].isna().any()"
   ]
  },
  {
   "cell_type": "code",
   "execution_count": 12,
   "id": "ca1f7c5c",
   "metadata": {},
   "outputs": [
    {
     "name": "stdout",
     "output_type": "stream",
     "text": [
      "The average growth (in %) of GDP in 2023 = 2.5\n"
     ]
    }
   ],
   "source": [
    "print('The average growth (in %) of GDP in 2023 =',round((gdpc1_df['2023-01-01':'2023-10-01']['gdpc1_df_us_yoy'].mean())*100,1))"
   ]
  },
  {
   "cell_type": "markdown",
   "id": "de997e3b",
   "metadata": {},
   "source": [
    "Question 2. [Macro] Inverse \"Treasury Yield\"\n",
    "Find the min value of (dgs10-dgs2) after since year 2000 (2000-01-01) and write it down as an answer, round to 1 digit after the decimal point.\n",
    "\n",
    "Download DGS2 and DGS10 interest rates series (https://fred.stlouisfed.org/series/DGS2, https://fred.stlouisfed.org/series/DGS10). Join them together to one dataframe on date (you might need to read about pandas.DataFrame.join()), calculate the difference dgs10-dgs2 daily.\n",
    "\n",
    "(Additional: think about what does the \"inverted yield curve\" mean for the market and investors? do you see the same thing in your country/market of interest? Do you think it can be a good predictive feature for the models?)"
   ]
  },
  {
   "cell_type": "code",
   "execution_count": 13,
   "id": "65d140b6",
   "metadata": {},
   "outputs": [],
   "source": [
    "dgs2_df = pdr.DataReader('DGS2','fred',start=start)"
   ]
  },
  {
   "cell_type": "code",
   "execution_count": 14,
   "id": "0e65e187",
   "metadata": {},
   "outputs": [
    {
     "data": {
      "text/html": [
       "<div>\n",
       "<style scoped>\n",
       "    .dataframe tbody tr th:only-of-type {\n",
       "        vertical-align: middle;\n",
       "    }\n",
       "\n",
       "    .dataframe tbody tr th {\n",
       "        vertical-align: top;\n",
       "    }\n",
       "\n",
       "    .dataframe thead th {\n",
       "        text-align: right;\n",
       "    }\n",
       "</style>\n",
       "<table border=\"1\" class=\"dataframe\">\n",
       "  <thead>\n",
       "    <tr style=\"text-align: right;\">\n",
       "      <th></th>\n",
       "      <th>DGS2</th>\n",
       "    </tr>\n",
       "    <tr>\n",
       "      <th>DATE</th>\n",
       "      <th></th>\n",
       "    </tr>\n",
       "  </thead>\n",
       "  <tbody>\n",
       "    <tr>\n",
       "      <th>1976-06-01</th>\n",
       "      <td>7.26</td>\n",
       "    </tr>\n",
       "    <tr>\n",
       "      <th>1976-06-02</th>\n",
       "      <td>7.23</td>\n",
       "    </tr>\n",
       "    <tr>\n",
       "      <th>1976-06-03</th>\n",
       "      <td>7.22</td>\n",
       "    </tr>\n",
       "    <tr>\n",
       "      <th>1976-06-04</th>\n",
       "      <td>7.12</td>\n",
       "    </tr>\n",
       "    <tr>\n",
       "      <th>1976-06-07</th>\n",
       "      <td>7.09</td>\n",
       "    </tr>\n",
       "    <tr>\n",
       "      <th>...</th>\n",
       "      <td>...</td>\n",
       "    </tr>\n",
       "    <tr>\n",
       "      <th>2024-04-12</th>\n",
       "      <td>4.88</td>\n",
       "    </tr>\n",
       "    <tr>\n",
       "      <th>2024-04-15</th>\n",
       "      <td>4.93</td>\n",
       "    </tr>\n",
       "    <tr>\n",
       "      <th>2024-04-16</th>\n",
       "      <td>4.97</td>\n",
       "    </tr>\n",
       "    <tr>\n",
       "      <th>2024-04-17</th>\n",
       "      <td>4.93</td>\n",
       "    </tr>\n",
       "    <tr>\n",
       "      <th>2024-04-18</th>\n",
       "      <td>4.98</td>\n",
       "    </tr>\n",
       "  </tbody>\n",
       "</table>\n",
       "<p>12493 rows × 1 columns</p>\n",
       "</div>"
      ],
      "text/plain": [
       "            DGS2\n",
       "DATE            \n",
       "1976-06-01  7.26\n",
       "1976-06-02  7.23\n",
       "1976-06-03  7.22\n",
       "1976-06-04  7.12\n",
       "1976-06-07  7.09\n",
       "...          ...\n",
       "2024-04-12  4.88\n",
       "2024-04-15  4.93\n",
       "2024-04-16  4.97\n",
       "2024-04-17  4.93\n",
       "2024-04-18  4.98\n",
       "\n",
       "[12493 rows x 1 columns]"
      ]
     },
     "execution_count": 14,
     "metadata": {},
     "output_type": "execute_result"
    }
   ],
   "source": [
    "dgs2_df"
   ]
  },
  {
   "cell_type": "code",
   "execution_count": 15,
   "id": "e7684182",
   "metadata": {},
   "outputs": [],
   "source": [
    "dgs10_df = pdr.DataReader('DGS10','fred',start=start)"
   ]
  },
  {
   "cell_type": "code",
   "execution_count": 16,
   "id": "783e1f92",
   "metadata": {},
   "outputs": [
    {
     "data": {
      "text/html": [
       "<div>\n",
       "<style scoped>\n",
       "    .dataframe tbody tr th:only-of-type {\n",
       "        vertical-align: middle;\n",
       "    }\n",
       "\n",
       "    .dataframe tbody tr th {\n",
       "        vertical-align: top;\n",
       "    }\n",
       "\n",
       "    .dataframe thead th {\n",
       "        text-align: right;\n",
       "    }\n",
       "</style>\n",
       "<table border=\"1\" class=\"dataframe\">\n",
       "  <thead>\n",
       "    <tr style=\"text-align: right;\">\n",
       "      <th></th>\n",
       "      <th>DGS10</th>\n",
       "    </tr>\n",
       "    <tr>\n",
       "      <th>DATE</th>\n",
       "      <th></th>\n",
       "    </tr>\n",
       "  </thead>\n",
       "  <tbody>\n",
       "    <tr>\n",
       "      <th>1962-01-02</th>\n",
       "      <td>4.06</td>\n",
       "    </tr>\n",
       "    <tr>\n",
       "      <th>1962-01-03</th>\n",
       "      <td>4.03</td>\n",
       "    </tr>\n",
       "    <tr>\n",
       "      <th>1962-01-04</th>\n",
       "      <td>3.99</td>\n",
       "    </tr>\n",
       "    <tr>\n",
       "      <th>1962-01-05</th>\n",
       "      <td>4.02</td>\n",
       "    </tr>\n",
       "    <tr>\n",
       "      <th>1962-01-08</th>\n",
       "      <td>4.03</td>\n",
       "    </tr>\n",
       "    <tr>\n",
       "      <th>...</th>\n",
       "      <td>...</td>\n",
       "    </tr>\n",
       "    <tr>\n",
       "      <th>2024-04-12</th>\n",
       "      <td>4.50</td>\n",
       "    </tr>\n",
       "    <tr>\n",
       "      <th>2024-04-15</th>\n",
       "      <td>4.63</td>\n",
       "    </tr>\n",
       "    <tr>\n",
       "      <th>2024-04-16</th>\n",
       "      <td>4.67</td>\n",
       "    </tr>\n",
       "    <tr>\n",
       "      <th>2024-04-17</th>\n",
       "      <td>4.59</td>\n",
       "    </tr>\n",
       "    <tr>\n",
       "      <th>2024-04-18</th>\n",
       "      <td>4.64</td>\n",
       "    </tr>\n",
       "  </tbody>\n",
       "</table>\n",
       "<p>16253 rows × 1 columns</p>\n",
       "</div>"
      ],
      "text/plain": [
       "            DGS10\n",
       "DATE             \n",
       "1962-01-02   4.06\n",
       "1962-01-03   4.03\n",
       "1962-01-04   3.99\n",
       "1962-01-05   4.02\n",
       "1962-01-08   4.03\n",
       "...           ...\n",
       "2024-04-12   4.50\n",
       "2024-04-15   4.63\n",
       "2024-04-16   4.67\n",
       "2024-04-17   4.59\n",
       "2024-04-18   4.64\n",
       "\n",
       "[16253 rows x 1 columns]"
      ]
     },
     "execution_count": 16,
     "metadata": {},
     "output_type": "execute_result"
    }
   ],
   "source": [
    "dgs10_df"
   ]
  },
  {
   "cell_type": "code",
   "execution_count": 17,
   "id": "26e5eebe",
   "metadata": {},
   "outputs": [],
   "source": [
    "dgs_join_df=dgs10_df.join(dgs2_df)"
   ]
  },
  {
   "cell_type": "code",
   "execution_count": 18,
   "id": "d5062ab7",
   "metadata": {},
   "outputs": [
    {
     "data": {
      "text/html": [
       "<div>\n",
       "<style scoped>\n",
       "    .dataframe tbody tr th:only-of-type {\n",
       "        vertical-align: middle;\n",
       "    }\n",
       "\n",
       "    .dataframe tbody tr th {\n",
       "        vertical-align: top;\n",
       "    }\n",
       "\n",
       "    .dataframe thead th {\n",
       "        text-align: right;\n",
       "    }\n",
       "</style>\n",
       "<table border=\"1\" class=\"dataframe\">\n",
       "  <thead>\n",
       "    <tr style=\"text-align: right;\">\n",
       "      <th></th>\n",
       "      <th>DGS10</th>\n",
       "      <th>DGS2</th>\n",
       "    </tr>\n",
       "    <tr>\n",
       "      <th>DATE</th>\n",
       "      <th></th>\n",
       "      <th></th>\n",
       "    </tr>\n",
       "  </thead>\n",
       "  <tbody>\n",
       "    <tr>\n",
       "      <th>1962-01-02</th>\n",
       "      <td>4.06</td>\n",
       "      <td>NaN</td>\n",
       "    </tr>\n",
       "    <tr>\n",
       "      <th>1962-01-03</th>\n",
       "      <td>4.03</td>\n",
       "      <td>NaN</td>\n",
       "    </tr>\n",
       "    <tr>\n",
       "      <th>1962-01-04</th>\n",
       "      <td>3.99</td>\n",
       "      <td>NaN</td>\n",
       "    </tr>\n",
       "    <tr>\n",
       "      <th>1962-01-05</th>\n",
       "      <td>4.02</td>\n",
       "      <td>NaN</td>\n",
       "    </tr>\n",
       "    <tr>\n",
       "      <th>1962-01-08</th>\n",
       "      <td>4.03</td>\n",
       "      <td>NaN</td>\n",
       "    </tr>\n",
       "    <tr>\n",
       "      <th>...</th>\n",
       "      <td>...</td>\n",
       "      <td>...</td>\n",
       "    </tr>\n",
       "    <tr>\n",
       "      <th>2024-04-12</th>\n",
       "      <td>4.50</td>\n",
       "      <td>4.88</td>\n",
       "    </tr>\n",
       "    <tr>\n",
       "      <th>2024-04-15</th>\n",
       "      <td>4.63</td>\n",
       "      <td>4.93</td>\n",
       "    </tr>\n",
       "    <tr>\n",
       "      <th>2024-04-16</th>\n",
       "      <td>4.67</td>\n",
       "      <td>4.97</td>\n",
       "    </tr>\n",
       "    <tr>\n",
       "      <th>2024-04-17</th>\n",
       "      <td>4.59</td>\n",
       "      <td>4.93</td>\n",
       "    </tr>\n",
       "    <tr>\n",
       "      <th>2024-04-18</th>\n",
       "      <td>4.64</td>\n",
       "      <td>4.98</td>\n",
       "    </tr>\n",
       "  </tbody>\n",
       "</table>\n",
       "<p>16253 rows × 2 columns</p>\n",
       "</div>"
      ],
      "text/plain": [
       "            DGS10  DGS2\n",
       "DATE                   \n",
       "1962-01-02   4.06   NaN\n",
       "1962-01-03   4.03   NaN\n",
       "1962-01-04   3.99   NaN\n",
       "1962-01-05   4.02   NaN\n",
       "1962-01-08   4.03   NaN\n",
       "...           ...   ...\n",
       "2024-04-12   4.50  4.88\n",
       "2024-04-15   4.63  4.93\n",
       "2024-04-16   4.67  4.97\n",
       "2024-04-17   4.59  4.93\n",
       "2024-04-18   4.64  4.98\n",
       "\n",
       "[16253 rows x 2 columns]"
      ]
     },
     "execution_count": 18,
     "metadata": {},
     "output_type": "execute_result"
    }
   ],
   "source": [
    "dgs_join_df"
   ]
  },
  {
   "cell_type": "code",
   "execution_count": 19,
   "id": "e205e2e1",
   "metadata": {},
   "outputs": [],
   "source": [
    "dgs_join_df['dgs10-dgs2']=dgs_join_df.DGS10 - dgs_join_df.DGS2"
   ]
  },
  {
   "cell_type": "code",
   "execution_count": 20,
   "id": "3657f14f",
   "metadata": {},
   "outputs": [
    {
     "data": {
      "text/html": [
       "<div>\n",
       "<style scoped>\n",
       "    .dataframe tbody tr th:only-of-type {\n",
       "        vertical-align: middle;\n",
       "    }\n",
       "\n",
       "    .dataframe tbody tr th {\n",
       "        vertical-align: top;\n",
       "    }\n",
       "\n",
       "    .dataframe thead th {\n",
       "        text-align: right;\n",
       "    }\n",
       "</style>\n",
       "<table border=\"1\" class=\"dataframe\">\n",
       "  <thead>\n",
       "    <tr style=\"text-align: right;\">\n",
       "      <th></th>\n",
       "      <th>DGS10</th>\n",
       "      <th>DGS2</th>\n",
       "      <th>dgs10-dgs2</th>\n",
       "    </tr>\n",
       "    <tr>\n",
       "      <th>DATE</th>\n",
       "      <th></th>\n",
       "      <th></th>\n",
       "      <th></th>\n",
       "    </tr>\n",
       "  </thead>\n",
       "  <tbody>\n",
       "    <tr>\n",
       "      <th>1962-01-02</th>\n",
       "      <td>4.06</td>\n",
       "      <td>NaN</td>\n",
       "      <td>NaN</td>\n",
       "    </tr>\n",
       "    <tr>\n",
       "      <th>1962-01-03</th>\n",
       "      <td>4.03</td>\n",
       "      <td>NaN</td>\n",
       "      <td>NaN</td>\n",
       "    </tr>\n",
       "    <tr>\n",
       "      <th>1962-01-04</th>\n",
       "      <td>3.99</td>\n",
       "      <td>NaN</td>\n",
       "      <td>NaN</td>\n",
       "    </tr>\n",
       "    <tr>\n",
       "      <th>1962-01-05</th>\n",
       "      <td>4.02</td>\n",
       "      <td>NaN</td>\n",
       "      <td>NaN</td>\n",
       "    </tr>\n",
       "    <tr>\n",
       "      <th>1962-01-08</th>\n",
       "      <td>4.03</td>\n",
       "      <td>NaN</td>\n",
       "      <td>NaN</td>\n",
       "    </tr>\n",
       "    <tr>\n",
       "      <th>...</th>\n",
       "      <td>...</td>\n",
       "      <td>...</td>\n",
       "      <td>...</td>\n",
       "    </tr>\n",
       "    <tr>\n",
       "      <th>2024-04-12</th>\n",
       "      <td>4.50</td>\n",
       "      <td>4.88</td>\n",
       "      <td>-0.38</td>\n",
       "    </tr>\n",
       "    <tr>\n",
       "      <th>2024-04-15</th>\n",
       "      <td>4.63</td>\n",
       "      <td>4.93</td>\n",
       "      <td>-0.30</td>\n",
       "    </tr>\n",
       "    <tr>\n",
       "      <th>2024-04-16</th>\n",
       "      <td>4.67</td>\n",
       "      <td>4.97</td>\n",
       "      <td>-0.30</td>\n",
       "    </tr>\n",
       "    <tr>\n",
       "      <th>2024-04-17</th>\n",
       "      <td>4.59</td>\n",
       "      <td>4.93</td>\n",
       "      <td>-0.34</td>\n",
       "    </tr>\n",
       "    <tr>\n",
       "      <th>2024-04-18</th>\n",
       "      <td>4.64</td>\n",
       "      <td>4.98</td>\n",
       "      <td>-0.34</td>\n",
       "    </tr>\n",
       "  </tbody>\n",
       "</table>\n",
       "<p>16253 rows × 3 columns</p>\n",
       "</div>"
      ],
      "text/plain": [
       "            DGS10  DGS2  dgs10-dgs2\n",
       "DATE                               \n",
       "1962-01-02   4.06   NaN         NaN\n",
       "1962-01-03   4.03   NaN         NaN\n",
       "1962-01-04   3.99   NaN         NaN\n",
       "1962-01-05   4.02   NaN         NaN\n",
       "1962-01-08   4.03   NaN         NaN\n",
       "...           ...   ...         ...\n",
       "2024-04-12   4.50  4.88       -0.38\n",
       "2024-04-15   4.63  4.93       -0.30\n",
       "2024-04-16   4.67  4.97       -0.30\n",
       "2024-04-17   4.59  4.93       -0.34\n",
       "2024-04-18   4.64  4.98       -0.34\n",
       "\n",
       "[16253 rows x 3 columns]"
      ]
     },
     "execution_count": 20,
     "metadata": {},
     "output_type": "execute_result"
    }
   ],
   "source": [
    "dgs_join_df"
   ]
  },
  {
   "cell_type": "code",
   "execution_count": 25,
   "id": "f2f1a94b",
   "metadata": {},
   "outputs": [
    {
     "data": {
      "text/plain": [
       "DGS10         True\n",
       "DGS2          True\n",
       "dgs10-dgs2    True\n",
       "dtype: bool"
      ]
     },
     "execution_count": 25,
     "metadata": {},
     "output_type": "execute_result"
    }
   ],
   "source": [
    "dgs_join_df['2000-01-01':].isna().any()"
   ]
  },
  {
   "cell_type": "code",
   "execution_count": 30,
   "id": "c6e7abbf",
   "metadata": {},
   "outputs": [],
   "source": [
    "d = dgs_join_df['2000-01-01':]['dgs10-dgs2'].dropna()"
   ]
  },
  {
   "cell_type": "code",
   "execution_count": 37,
   "id": "a7edd92f",
   "metadata": {},
   "outputs": [
    {
     "name": "stdout",
     "output_type": "stream",
     "text": [
      " The min value of (dgs10-dgs2) since year 2000 = -1.1\n"
     ]
    }
   ],
   "source": [
    "print(' The min value of (dgs10-dgs2) since year 2000 =',round(d.min(),1))"
   ]
  },
  {
   "cell_type": "markdown",
   "id": "1407b7a8",
   "metadata": {},
   "source": [
    "Question 3. [Index] Which Index is better recently?\n",
    "Compare S&P 500 and IPC Mexico indexes by the 5 year growth and write down the largest value as an answer (%)\n",
    "\n",
    "Download on Yahoo Finance two daily index prices for S&P 500 (^GSPC, https://finance.yahoo.com/quote/%5EGSPC/) and IPC Mexico (^MXX, https://finance.yahoo.com/quote/%5EMXX/). Compare 5Y growth for both (between 2019-04-09 and 2024-04-09). Select the higher growing index and write down the growth in % (closest integer %). E.g. if ratio end/start was 2.0925 (or growth of 109.25%), you need to write down 109 as your answer.\n",
    "\n",
    "(Additional: think of other indexes and try to download stats and compare the growth? Do create 10Y and 20Y growth stats. What is an average yearly growth rate (CAGR) for each of the indexes you select?)"
   ]
  },
  {
   "cell_type": "code",
   "execution_count": 38,
   "id": "ce55731a",
   "metadata": {},
   "outputs": [
    {
     "name": "stderr",
     "output_type": "stream",
     "text": [
      "[*********************100%%**********************]  1 of 1 completed\n"
     ]
    }
   ],
   "source": [
    "#S&P Index\n",
    "gspc_daily = yf.download(tickers = \"^GSPC\",period = \"max\",interval = \"1d\")"
   ]
  },
  {
   "cell_type": "code",
   "execution_count": 40,
   "id": "de4d0980",
   "metadata": {},
   "outputs": [
    {
     "data": {
      "text/html": [
       "<div>\n",
       "<style scoped>\n",
       "    .dataframe tbody tr th:only-of-type {\n",
       "        vertical-align: middle;\n",
       "    }\n",
       "\n",
       "    .dataframe tbody tr th {\n",
       "        vertical-align: top;\n",
       "    }\n",
       "\n",
       "    .dataframe thead th {\n",
       "        text-align: right;\n",
       "    }\n",
       "</style>\n",
       "<table border=\"1\" class=\"dataframe\">\n",
       "  <thead>\n",
       "    <tr style=\"text-align: right;\">\n",
       "      <th></th>\n",
       "      <th>Open</th>\n",
       "      <th>High</th>\n",
       "      <th>Low</th>\n",
       "      <th>Close</th>\n",
       "      <th>Adj Close</th>\n",
       "      <th>Volume</th>\n",
       "    </tr>\n",
       "    <tr>\n",
       "      <th>Date</th>\n",
       "      <th></th>\n",
       "      <th></th>\n",
       "      <th></th>\n",
       "      <th></th>\n",
       "      <th></th>\n",
       "      <th></th>\n",
       "    </tr>\n",
       "  </thead>\n",
       "  <tbody>\n",
       "    <tr>\n",
       "      <th>1927-12-30</th>\n",
       "      <td>17.660000</td>\n",
       "      <td>17.660000</td>\n",
       "      <td>17.660000</td>\n",
       "      <td>17.660000</td>\n",
       "      <td>17.660000</td>\n",
       "      <td>0</td>\n",
       "    </tr>\n",
       "    <tr>\n",
       "      <th>1928-01-03</th>\n",
       "      <td>17.760000</td>\n",
       "      <td>17.760000</td>\n",
       "      <td>17.760000</td>\n",
       "      <td>17.760000</td>\n",
       "      <td>17.760000</td>\n",
       "      <td>0</td>\n",
       "    </tr>\n",
       "    <tr>\n",
       "      <th>1928-01-04</th>\n",
       "      <td>17.719999</td>\n",
       "      <td>17.719999</td>\n",
       "      <td>17.719999</td>\n",
       "      <td>17.719999</td>\n",
       "      <td>17.719999</td>\n",
       "      <td>0</td>\n",
       "    </tr>\n",
       "    <tr>\n",
       "      <th>1928-01-05</th>\n",
       "      <td>17.549999</td>\n",
       "      <td>17.549999</td>\n",
       "      <td>17.549999</td>\n",
       "      <td>17.549999</td>\n",
       "      <td>17.549999</td>\n",
       "      <td>0</td>\n",
       "    </tr>\n",
       "    <tr>\n",
       "      <th>1928-01-06</th>\n",
       "      <td>17.660000</td>\n",
       "      <td>17.660000</td>\n",
       "      <td>17.660000</td>\n",
       "      <td>17.660000</td>\n",
       "      <td>17.660000</td>\n",
       "      <td>0</td>\n",
       "    </tr>\n",
       "    <tr>\n",
       "      <th>...</th>\n",
       "      <td>...</td>\n",
       "      <td>...</td>\n",
       "      <td>...</td>\n",
       "      <td>...</td>\n",
       "      <td>...</td>\n",
       "      <td>...</td>\n",
       "    </tr>\n",
       "    <tr>\n",
       "      <th>2024-04-15</th>\n",
       "      <td>5149.669922</td>\n",
       "      <td>5168.430176</td>\n",
       "      <td>5052.470215</td>\n",
       "      <td>5061.819824</td>\n",
       "      <td>5061.819824</td>\n",
       "      <td>3950210000</td>\n",
       "    </tr>\n",
       "    <tr>\n",
       "      <th>2024-04-16</th>\n",
       "      <td>5064.589844</td>\n",
       "      <td>5079.839844</td>\n",
       "      <td>5039.830078</td>\n",
       "      <td>5051.410156</td>\n",
       "      <td>5051.410156</td>\n",
       "      <td>4006200000</td>\n",
       "    </tr>\n",
       "    <tr>\n",
       "      <th>2024-04-17</th>\n",
       "      <td>5068.970215</td>\n",
       "      <td>5077.959961</td>\n",
       "      <td>5007.250000</td>\n",
       "      <td>5022.209961</td>\n",
       "      <td>5022.209961</td>\n",
       "      <td>3596130000</td>\n",
       "    </tr>\n",
       "    <tr>\n",
       "      <th>2024-04-18</th>\n",
       "      <td>5031.520020</td>\n",
       "      <td>5056.660156</td>\n",
       "      <td>5001.890137</td>\n",
       "      <td>5011.120117</td>\n",
       "      <td>5011.120117</td>\n",
       "      <td>3619760000</td>\n",
       "    </tr>\n",
       "    <tr>\n",
       "      <th>2024-04-19</th>\n",
       "      <td>5005.439941</td>\n",
       "      <td>5019.020020</td>\n",
       "      <td>4953.560059</td>\n",
       "      <td>4967.229980</td>\n",
       "      <td>4967.229980</td>\n",
       "      <td>3878750000</td>\n",
       "    </tr>\n",
       "  </tbody>\n",
       "</table>\n",
       "<p>24191 rows × 6 columns</p>\n",
       "</div>"
      ],
      "text/plain": [
       "                   Open         High          Low        Close    Adj Close  \\\n",
       "Date                                                                          \n",
       "1927-12-30    17.660000    17.660000    17.660000    17.660000    17.660000   \n",
       "1928-01-03    17.760000    17.760000    17.760000    17.760000    17.760000   \n",
       "1928-01-04    17.719999    17.719999    17.719999    17.719999    17.719999   \n",
       "1928-01-05    17.549999    17.549999    17.549999    17.549999    17.549999   \n",
       "1928-01-06    17.660000    17.660000    17.660000    17.660000    17.660000   \n",
       "...                 ...          ...          ...          ...          ...   \n",
       "2024-04-15  5149.669922  5168.430176  5052.470215  5061.819824  5061.819824   \n",
       "2024-04-16  5064.589844  5079.839844  5039.830078  5051.410156  5051.410156   \n",
       "2024-04-17  5068.970215  5077.959961  5007.250000  5022.209961  5022.209961   \n",
       "2024-04-18  5031.520020  5056.660156  5001.890137  5011.120117  5011.120117   \n",
       "2024-04-19  5005.439941  5019.020020  4953.560059  4967.229980  4967.229980   \n",
       "\n",
       "                Volume  \n",
       "Date                    \n",
       "1927-12-30           0  \n",
       "1928-01-03           0  \n",
       "1928-01-04           0  \n",
       "1928-01-05           0  \n",
       "1928-01-06           0  \n",
       "...                ...  \n",
       "2024-04-15  3950210000  \n",
       "2024-04-16  4006200000  \n",
       "2024-04-17  3596130000  \n",
       "2024-04-18  3619760000  \n",
       "2024-04-19  3878750000  \n",
       "\n",
       "[24191 rows x 6 columns]"
      ]
     },
     "execution_count": 40,
     "metadata": {},
     "output_type": "execute_result"
    }
   ],
   "source": [
    "gspc_daily"
   ]
  },
  {
   "cell_type": "code",
   "execution_count": 39,
   "id": "9fffe53a",
   "metadata": {},
   "outputs": [
    {
     "data": {
      "text/plain": [
       "Open         False\n",
       "High         False\n",
       "Low          False\n",
       "Close        False\n",
       "Adj Close    False\n",
       "Volume       False\n",
       "dtype: bool"
      ]
     },
     "execution_count": 39,
     "metadata": {},
     "output_type": "execute_result"
    }
   ],
   "source": [
    "gspc_daily['2019-04-09':].isna().any()"
   ]
  },
  {
   "cell_type": "code",
   "execution_count": 42,
   "id": "0362e540",
   "metadata": {},
   "outputs": [
    {
     "name": "stdout",
     "output_type": "stream",
     "text": [
      "81\n"
     ]
    }
   ],
   "source": [
    "print(round((gspc_daily.loc['2024-04-09']['Close'] / gspc_daily.loc['2019-04-09']['Close']-1)*100))"
   ]
  },
  {
   "cell_type": "code",
   "execution_count": 43,
   "id": "0602ec8b",
   "metadata": {},
   "outputs": [
    {
     "name": "stderr",
     "output_type": "stream",
     "text": [
      "[*********************100%%**********************]  1 of 1 completed\n"
     ]
    }
   ],
   "source": [
    "#IPC MEXICO\n",
    "mxx_daily = yf.download(tickers = \"^MXX\",period = \"max\",interval = \"1d\")"
   ]
  },
  {
   "cell_type": "code",
   "execution_count": 44,
   "id": "1d46a5c5",
   "metadata": {},
   "outputs": [
    {
     "data": {
      "text/html": [
       "<div>\n",
       "<style scoped>\n",
       "    .dataframe tbody tr th:only-of-type {\n",
       "        vertical-align: middle;\n",
       "    }\n",
       "\n",
       "    .dataframe tbody tr th {\n",
       "        vertical-align: top;\n",
       "    }\n",
       "\n",
       "    .dataframe thead th {\n",
       "        text-align: right;\n",
       "    }\n",
       "</style>\n",
       "<table border=\"1\" class=\"dataframe\">\n",
       "  <thead>\n",
       "    <tr style=\"text-align: right;\">\n",
       "      <th></th>\n",
       "      <th>Open</th>\n",
       "      <th>High</th>\n",
       "      <th>Low</th>\n",
       "      <th>Close</th>\n",
       "      <th>Adj Close</th>\n",
       "      <th>Volume</th>\n",
       "    </tr>\n",
       "    <tr>\n",
       "      <th>Date</th>\n",
       "      <th></th>\n",
       "      <th></th>\n",
       "      <th></th>\n",
       "      <th></th>\n",
       "      <th></th>\n",
       "      <th></th>\n",
       "    </tr>\n",
       "  </thead>\n",
       "  <tbody>\n",
       "    <tr>\n",
       "      <th>1991-11-08</th>\n",
       "      <td>1418.800049</td>\n",
       "      <td>1418.800049</td>\n",
       "      <td>1418.800049</td>\n",
       "      <td>1418.800049</td>\n",
       "      <td>1418.800049</td>\n",
       "      <td>0</td>\n",
       "    </tr>\n",
       "    <tr>\n",
       "      <th>1991-11-11</th>\n",
       "      <td>1416.900024</td>\n",
       "      <td>1416.900024</td>\n",
       "      <td>1416.900024</td>\n",
       "      <td>1416.900024</td>\n",
       "      <td>1416.900024</td>\n",
       "      <td>0</td>\n",
       "    </tr>\n",
       "    <tr>\n",
       "      <th>1991-11-12</th>\n",
       "      <td>1445.400024</td>\n",
       "      <td>1445.400024</td>\n",
       "      <td>1445.400024</td>\n",
       "      <td>1445.400024</td>\n",
       "      <td>1445.400024</td>\n",
       "      <td>0</td>\n",
       "    </tr>\n",
       "    <tr>\n",
       "      <th>1991-11-13</th>\n",
       "      <td>1453.400024</td>\n",
       "      <td>1453.400024</td>\n",
       "      <td>1453.400024</td>\n",
       "      <td>1453.400024</td>\n",
       "      <td>1453.400024</td>\n",
       "      <td>0</td>\n",
       "    </tr>\n",
       "    <tr>\n",
       "      <th>1991-11-14</th>\n",
       "      <td>1459.300049</td>\n",
       "      <td>1459.300049</td>\n",
       "      <td>1459.300049</td>\n",
       "      <td>1459.300049</td>\n",
       "      <td>1459.300049</td>\n",
       "      <td>0</td>\n",
       "    </tr>\n",
       "    <tr>\n",
       "      <th>...</th>\n",
       "      <td>...</td>\n",
       "      <td>...</td>\n",
       "      <td>...</td>\n",
       "      <td>...</td>\n",
       "      <td>...</td>\n",
       "      <td>...</td>\n",
       "    </tr>\n",
       "    <tr>\n",
       "      <th>2024-04-16</th>\n",
       "      <td>56009.730469</td>\n",
       "      <td>56148.000000</td>\n",
       "      <td>55626.750000</td>\n",
       "      <td>55797.250000</td>\n",
       "      <td>55797.250000</td>\n",
       "      <td>225862900</td>\n",
       "    </tr>\n",
       "    <tr>\n",
       "      <th>2024-04-17</th>\n",
       "      <td>55788.738281</td>\n",
       "      <td>56090.320312</td>\n",
       "      <td>55383.250000</td>\n",
       "      <td>55415.691406</td>\n",
       "      <td>55415.691406</td>\n",
       "      <td>244258900</td>\n",
       "    </tr>\n",
       "    <tr>\n",
       "      <th>2024-04-18</th>\n",
       "      <td>55597.789062</td>\n",
       "      <td>55941.621094</td>\n",
       "      <td>55585.820312</td>\n",
       "      <td>55739.429688</td>\n",
       "      <td>55739.429688</td>\n",
       "      <td>208671900</td>\n",
       "    </tr>\n",
       "    <tr>\n",
       "      <th>2024-04-19</th>\n",
       "      <td>55811.191406</td>\n",
       "      <td>56036.718750</td>\n",
       "      <td>55579.691406</td>\n",
       "      <td>55862.851562</td>\n",
       "      <td>55862.851562</td>\n",
       "      <td>138617600</td>\n",
       "    </tr>\n",
       "    <tr>\n",
       "      <th>2024-04-22</th>\n",
       "      <td>55852.281250</td>\n",
       "      <td>56138.351562</td>\n",
       "      <td>55779.238281</td>\n",
       "      <td>55857.550781</td>\n",
       "      <td>55857.550781</td>\n",
       "      <td>2148353</td>\n",
       "    </tr>\n",
       "  </tbody>\n",
       "</table>\n",
       "<p>8125 rows × 6 columns</p>\n",
       "</div>"
      ],
      "text/plain": [
       "                    Open          High           Low         Close  \\\n",
       "Date                                                                 \n",
       "1991-11-08   1418.800049   1418.800049   1418.800049   1418.800049   \n",
       "1991-11-11   1416.900024   1416.900024   1416.900024   1416.900024   \n",
       "1991-11-12   1445.400024   1445.400024   1445.400024   1445.400024   \n",
       "1991-11-13   1453.400024   1453.400024   1453.400024   1453.400024   \n",
       "1991-11-14   1459.300049   1459.300049   1459.300049   1459.300049   \n",
       "...                  ...           ...           ...           ...   \n",
       "2024-04-16  56009.730469  56148.000000  55626.750000  55797.250000   \n",
       "2024-04-17  55788.738281  56090.320312  55383.250000  55415.691406   \n",
       "2024-04-18  55597.789062  55941.621094  55585.820312  55739.429688   \n",
       "2024-04-19  55811.191406  56036.718750  55579.691406  55862.851562   \n",
       "2024-04-22  55852.281250  56138.351562  55779.238281  55857.550781   \n",
       "\n",
       "               Adj Close     Volume  \n",
       "Date                                 \n",
       "1991-11-08   1418.800049          0  \n",
       "1991-11-11   1416.900024          0  \n",
       "1991-11-12   1445.400024          0  \n",
       "1991-11-13   1453.400024          0  \n",
       "1991-11-14   1459.300049          0  \n",
       "...                  ...        ...  \n",
       "2024-04-16  55797.250000  225862900  \n",
       "2024-04-17  55415.691406  244258900  \n",
       "2024-04-18  55739.429688  208671900  \n",
       "2024-04-19  55862.851562  138617600  \n",
       "2024-04-22  55857.550781    2148353  \n",
       "\n",
       "[8125 rows x 6 columns]"
      ]
     },
     "execution_count": 44,
     "metadata": {},
     "output_type": "execute_result"
    }
   ],
   "source": [
    "mxx_daily"
   ]
  },
  {
   "cell_type": "code",
   "execution_count": 46,
   "id": "595fe430",
   "metadata": {},
   "outputs": [
    {
     "data": {
      "text/plain": [
       "Open         False\n",
       "High         False\n",
       "Low          False\n",
       "Close        False\n",
       "Adj Close    False\n",
       "Volume       False\n",
       "dtype: bool"
      ]
     },
     "execution_count": 46,
     "metadata": {},
     "output_type": "execute_result"
    }
   ],
   "source": [
    "mxx_daily['2019-04-09':].isna().any()"
   ]
  },
  {
   "cell_type": "code",
   "execution_count": 47,
   "id": "bd5fe5b0",
   "metadata": {},
   "outputs": [
    {
     "name": "stdout",
     "output_type": "stream",
     "text": [
      "28\n"
     ]
    }
   ],
   "source": [
    "print(round((mxx_daily.loc['2024-04-09']['Close'] / mxx_daily.loc['2019-04-09']['Close']-1)*100))"
   ]
  },
  {
   "cell_type": "code",
   "execution_count": 48,
   "id": "3f9c86c7",
   "metadata": {},
   "outputs": [
    {
     "name": "stdout",
     "output_type": "stream",
     "text": [
      "The S&P 500 index grow by 81 %\n"
     ]
    }
   ],
   "source": [
    "print('The S&P 500 index grow by 81 %')"
   ]
  },
  {
   "cell_type": "markdown",
   "id": "2e0f2f09",
   "metadata": {},
   "source": [
    "Question 4. [Stocks OHLCV] 52-weeks range ratio (2023) for the selected stocks\n",
    "Find the largest range ratio [=(max-min)/max] of Adj.Close prices in 2023\n",
    "\n",
    "Download the 2023 daily OHLCV data on Yahoo Finance for top6 stocks on earnings (https://companiesmarketcap.com/most-profitable-companies/): 2222.SR,BRK-B, AAPL, MSFT, GOOG, JPM.\n",
    "\n",
    "Here is the example data you should see in Pandas for \"2222.SR\": https://finance.yahoo.com/quote/2222.SR/history\n",
    "\n",
    "Calculate maximum-minimim \"Adj.Close\" price for each stock and divide it by the maximum \"Adj.Close\" value. Round the result to two decimal places (e.g. 0.1575 will be 0.16)\n",
    "\n",
    "(Additional: why this may be important for your research?)"
   ]
  },
  {
   "cell_type": "code",
   "execution_count": 49,
   "id": "db2d1408",
   "metadata": {},
   "outputs": [
    {
     "name": "stderr",
     "output_type": "stream",
     "text": [
      "[*********************100%%**********************]  1 of 1 completed\n"
     ]
    }
   ],
   "source": [
    "#OHLCV data on Yahoo Finance for Saudi Aramco stock on earnings\n",
    "saudiaramco_daily = yf.download(tickers = \"2222.SR\",period = \"max\",interval = \"1d\")"
   ]
  },
  {
   "cell_type": "code",
   "execution_count": 50,
   "id": "0407e0f8",
   "metadata": {},
   "outputs": [
    {
     "data": {
      "text/html": [
       "<div>\n",
       "<style scoped>\n",
       "    .dataframe tbody tr th:only-of-type {\n",
       "        vertical-align: middle;\n",
       "    }\n",
       "\n",
       "    .dataframe tbody tr th {\n",
       "        vertical-align: top;\n",
       "    }\n",
       "\n",
       "    .dataframe thead th {\n",
       "        text-align: right;\n",
       "    }\n",
       "</style>\n",
       "<table border=\"1\" class=\"dataframe\">\n",
       "  <thead>\n",
       "    <tr style=\"text-align: right;\">\n",
       "      <th></th>\n",
       "      <th>Open</th>\n",
       "      <th>High</th>\n",
       "      <th>Low</th>\n",
       "      <th>Close</th>\n",
       "      <th>Adj Close</th>\n",
       "      <th>Volume</th>\n",
       "    </tr>\n",
       "    <tr>\n",
       "      <th>Date</th>\n",
       "      <th></th>\n",
       "      <th></th>\n",
       "      <th></th>\n",
       "      <th></th>\n",
       "      <th></th>\n",
       "      <th></th>\n",
       "    </tr>\n",
       "  </thead>\n",
       "  <tbody>\n",
       "    <tr>\n",
       "      <th>2023-01-01</th>\n",
       "      <td>29.227272</td>\n",
       "      <td>29.454544</td>\n",
       "      <td>29.181818</td>\n",
       "      <td>29.454544</td>\n",
       "      <td>28.475794</td>\n",
       "      <td>1569087</td>\n",
       "    </tr>\n",
       "    <tr>\n",
       "      <th>2023-01-02</th>\n",
       "      <td>29.545454</td>\n",
       "      <td>29.545454</td>\n",
       "      <td>29.227272</td>\n",
       "      <td>29.227272</td>\n",
       "      <td>28.256075</td>\n",
       "      <td>4693364</td>\n",
       "    </tr>\n",
       "    <tr>\n",
       "      <th>2023-01-03</th>\n",
       "      <td>29.227272</td>\n",
       "      <td>29.227272</td>\n",
       "      <td>29.227272</td>\n",
       "      <td>29.227272</td>\n",
       "      <td>28.256075</td>\n",
       "      <td>0</td>\n",
       "    </tr>\n",
       "    <tr>\n",
       "      <th>2023-01-04</th>\n",
       "      <td>29.181818</td>\n",
       "      <td>29.227272</td>\n",
       "      <td>28.681818</td>\n",
       "      <td>28.818180</td>\n",
       "      <td>27.860575</td>\n",
       "      <td>4618455</td>\n",
       "    </tr>\n",
       "    <tr>\n",
       "      <th>2023-01-05</th>\n",
       "      <td>28.818180</td>\n",
       "      <td>28.818180</td>\n",
       "      <td>28.363636</td>\n",
       "      <td>28.681818</td>\n",
       "      <td>27.728743</td>\n",
       "      <td>4797670</td>\n",
       "    </tr>\n",
       "    <tr>\n",
       "      <th>...</th>\n",
       "      <td>...</td>\n",
       "      <td>...</td>\n",
       "      <td>...</td>\n",
       "      <td>...</td>\n",
       "      <td>...</td>\n",
       "      <td>...</td>\n",
       "    </tr>\n",
       "    <tr>\n",
       "      <th>2023-12-25</th>\n",
       "      <td>33.000000</td>\n",
       "      <td>33.099998</td>\n",
       "      <td>32.849998</td>\n",
       "      <td>33.099998</td>\n",
       "      <td>32.927525</td>\n",
       "      <td>15869070</td>\n",
       "    </tr>\n",
       "    <tr>\n",
       "      <th>2023-12-26</th>\n",
       "      <td>33.049999</td>\n",
       "      <td>33.099998</td>\n",
       "      <td>32.900002</td>\n",
       "      <td>33.049999</td>\n",
       "      <td>32.877789</td>\n",
       "      <td>14598967</td>\n",
       "    </tr>\n",
       "    <tr>\n",
       "      <th>2023-12-27</th>\n",
       "      <td>33.099998</td>\n",
       "      <td>33.250000</td>\n",
       "      <td>33.000000</td>\n",
       "      <td>33.150002</td>\n",
       "      <td>32.977268</td>\n",
       "      <td>14815683</td>\n",
       "    </tr>\n",
       "    <tr>\n",
       "      <th>2023-12-28</th>\n",
       "      <td>33.150002</td>\n",
       "      <td>33.250000</td>\n",
       "      <td>32.950001</td>\n",
       "      <td>33.049999</td>\n",
       "      <td>32.877789</td>\n",
       "      <td>12720450</td>\n",
       "    </tr>\n",
       "    <tr>\n",
       "      <th>2023-12-31</th>\n",
       "      <td>33.049999</td>\n",
       "      <td>33.099998</td>\n",
       "      <td>32.900002</td>\n",
       "      <td>33.000000</td>\n",
       "      <td>32.828049</td>\n",
       "      <td>10776909</td>\n",
       "    </tr>\n",
       "  </tbody>\n",
       "</table>\n",
       "<p>249 rows × 6 columns</p>\n",
       "</div>"
      ],
      "text/plain": [
       "                 Open       High        Low      Close  Adj Close    Volume\n",
       "Date                                                                       \n",
       "2023-01-01  29.227272  29.454544  29.181818  29.454544  28.475794   1569087\n",
       "2023-01-02  29.545454  29.545454  29.227272  29.227272  28.256075   4693364\n",
       "2023-01-03  29.227272  29.227272  29.227272  29.227272  28.256075         0\n",
       "2023-01-04  29.181818  29.227272  28.681818  28.818180  27.860575   4618455\n",
       "2023-01-05  28.818180  28.818180  28.363636  28.681818  27.728743   4797670\n",
       "...               ...        ...        ...        ...        ...       ...\n",
       "2023-12-25  33.000000  33.099998  32.849998  33.099998  32.927525  15869070\n",
       "2023-12-26  33.049999  33.099998  32.900002  33.049999  32.877789  14598967\n",
       "2023-12-27  33.099998  33.250000  33.000000  33.150002  32.977268  14815683\n",
       "2023-12-28  33.150002  33.250000  32.950001  33.049999  32.877789  12720450\n",
       "2023-12-31  33.049999  33.099998  32.900002  33.000000  32.828049  10776909\n",
       "\n",
       "[249 rows x 6 columns]"
      ]
     },
     "execution_count": 50,
     "metadata": {},
     "output_type": "execute_result"
    }
   ],
   "source": [
    "saudiaramco_daily['2023-01-01':'2023-12-31']"
   ]
  },
  {
   "cell_type": "code",
   "execution_count": 51,
   "id": "5dd18995",
   "metadata": {},
   "outputs": [
    {
     "data": {
      "text/plain": [
       "Open         False\n",
       "High         False\n",
       "Low          False\n",
       "Close        False\n",
       "Adj Close    False\n",
       "Volume       False\n",
       "dtype: bool"
      ]
     },
     "execution_count": 51,
     "metadata": {},
     "output_type": "execute_result"
    }
   ],
   "source": [
    "saudiaramco_daily['2023-01-01':'2023-12-31'].isna().any()"
   ]
  },
  {
   "cell_type": "code",
   "execution_count": 52,
   "id": "74db6e90",
   "metadata": {},
   "outputs": [
    {
     "name": "stdout",
     "output_type": "stream",
     "text": [
      "0.21\n"
     ]
    }
   ],
   "source": [
    "print(round((saudiaramco_daily['2023-01-01':'2023-12-31']['Adj Close'].max() - saudiaramco_daily['2023-01-01':'2023-12-31']['Adj Close'].min())/saudiaramco_daily['2023-01-01':'2023-12-31']['Adj Close'].max(),2))"
   ]
  },
  {
   "cell_type": "code",
   "execution_count": 53,
   "id": "5501d797",
   "metadata": {},
   "outputs": [
    {
     "name": "stderr",
     "output_type": "stream",
     "text": [
      "[*********************100%%**********************]  1 of 1 completed\n"
     ]
    }
   ],
   "source": [
    "#OHLCV data on Yahoo Finance for Berkshire Hathaway stock on earnings\n",
    "berkhath_daily = yf.download(tickers = \"BRK-B\",period = \"max\",interval = \"1d\")"
   ]
  },
  {
   "cell_type": "code",
   "execution_count": 54,
   "id": "0b89e482",
   "metadata": {},
   "outputs": [
    {
     "data": {
      "text/html": [
       "<div>\n",
       "<style scoped>\n",
       "    .dataframe tbody tr th:only-of-type {\n",
       "        vertical-align: middle;\n",
       "    }\n",
       "\n",
       "    .dataframe tbody tr th {\n",
       "        vertical-align: top;\n",
       "    }\n",
       "\n",
       "    .dataframe thead th {\n",
       "        text-align: right;\n",
       "    }\n",
       "</style>\n",
       "<table border=\"1\" class=\"dataframe\">\n",
       "  <thead>\n",
       "    <tr style=\"text-align: right;\">\n",
       "      <th></th>\n",
       "      <th>Open</th>\n",
       "      <th>High</th>\n",
       "      <th>Low</th>\n",
       "      <th>Close</th>\n",
       "      <th>Adj Close</th>\n",
       "      <th>Volume</th>\n",
       "    </tr>\n",
       "    <tr>\n",
       "      <th>Date</th>\n",
       "      <th></th>\n",
       "      <th></th>\n",
       "      <th></th>\n",
       "      <th></th>\n",
       "      <th></th>\n",
       "      <th></th>\n",
       "    </tr>\n",
       "  </thead>\n",
       "  <tbody>\n",
       "    <tr>\n",
       "      <th>1996-05-09</th>\n",
       "      <td>22.200001</td>\n",
       "      <td>24.400000</td>\n",
       "      <td>22.200001</td>\n",
       "      <td>23.200001</td>\n",
       "      <td>23.200001</td>\n",
       "      <td>4290000</td>\n",
       "    </tr>\n",
       "    <tr>\n",
       "      <th>1996-05-10</th>\n",
       "      <td>24.000000</td>\n",
       "      <td>24.200001</td>\n",
       "      <td>23.600000</td>\n",
       "      <td>24.000000</td>\n",
       "      <td>24.000000</td>\n",
       "      <td>1060000</td>\n",
       "    </tr>\n",
       "    <tr>\n",
       "      <th>1996-05-13</th>\n",
       "      <td>24.000000</td>\n",
       "      <td>24.100000</td>\n",
       "      <td>23.299999</td>\n",
       "      <td>23.900000</td>\n",
       "      <td>23.900000</td>\n",
       "      <td>700000</td>\n",
       "    </tr>\n",
       "    <tr>\n",
       "      <th>1996-05-14</th>\n",
       "      <td>24.000000</td>\n",
       "      <td>24.100000</td>\n",
       "      <td>23.100000</td>\n",
       "      <td>23.600000</td>\n",
       "      <td>23.600000</td>\n",
       "      <td>310000</td>\n",
       "    </tr>\n",
       "    <tr>\n",
       "      <th>1996-05-15</th>\n",
       "      <td>23.600000</td>\n",
       "      <td>23.700001</td>\n",
       "      <td>23.000000</td>\n",
       "      <td>23.200001</td>\n",
       "      <td>23.200001</td>\n",
       "      <td>545000</td>\n",
       "    </tr>\n",
       "    <tr>\n",
       "      <th>...</th>\n",
       "      <td>...</td>\n",
       "      <td>...</td>\n",
       "      <td>...</td>\n",
       "      <td>...</td>\n",
       "      <td>...</td>\n",
       "      <td>...</td>\n",
       "    </tr>\n",
       "    <tr>\n",
       "      <th>2024-04-16</th>\n",
       "      <td>400.970001</td>\n",
       "      <td>401.250000</td>\n",
       "      <td>396.500000</td>\n",
       "      <td>396.920013</td>\n",
       "      <td>396.920013</td>\n",
       "      <td>3435500</td>\n",
       "    </tr>\n",
       "    <tr>\n",
       "      <th>2024-04-17</th>\n",
       "      <td>398.940002</td>\n",
       "      <td>399.279999</td>\n",
       "      <td>395.660004</td>\n",
       "      <td>397.739990</td>\n",
       "      <td>397.739990</td>\n",
       "      <td>2465600</td>\n",
       "    </tr>\n",
       "    <tr>\n",
       "      <th>2024-04-18</th>\n",
       "      <td>399.700012</td>\n",
       "      <td>402.989990</td>\n",
       "      <td>399.100006</td>\n",
       "      <td>399.890015</td>\n",
       "      <td>399.890015</td>\n",
       "      <td>2669500</td>\n",
       "    </tr>\n",
       "    <tr>\n",
       "      <th>2024-04-19</th>\n",
       "      <td>401.040009</td>\n",
       "      <td>405.570007</td>\n",
       "      <td>400.170013</td>\n",
       "      <td>405.079987</td>\n",
       "      <td>405.079987</td>\n",
       "      <td>3996100</td>\n",
       "    </tr>\n",
       "    <tr>\n",
       "      <th>2024-04-22</th>\n",
       "      <td>406.839996</td>\n",
       "      <td>408.593292</td>\n",
       "      <td>406.510010</td>\n",
       "      <td>407.690002</td>\n",
       "      <td>407.690002</td>\n",
       "      <td>560948</td>\n",
       "    </tr>\n",
       "  </tbody>\n",
       "</table>\n",
       "<p>7035 rows × 6 columns</p>\n",
       "</div>"
      ],
      "text/plain": [
       "                  Open        High         Low       Close   Adj Close  \\\n",
       "Date                                                                     \n",
       "1996-05-09   22.200001   24.400000   22.200001   23.200001   23.200001   \n",
       "1996-05-10   24.000000   24.200001   23.600000   24.000000   24.000000   \n",
       "1996-05-13   24.000000   24.100000   23.299999   23.900000   23.900000   \n",
       "1996-05-14   24.000000   24.100000   23.100000   23.600000   23.600000   \n",
       "1996-05-15   23.600000   23.700001   23.000000   23.200001   23.200001   \n",
       "...                ...         ...         ...         ...         ...   \n",
       "2024-04-16  400.970001  401.250000  396.500000  396.920013  396.920013   \n",
       "2024-04-17  398.940002  399.279999  395.660004  397.739990  397.739990   \n",
       "2024-04-18  399.700012  402.989990  399.100006  399.890015  399.890015   \n",
       "2024-04-19  401.040009  405.570007  400.170013  405.079987  405.079987   \n",
       "2024-04-22  406.839996  408.593292  406.510010  407.690002  407.690002   \n",
       "\n",
       "             Volume  \n",
       "Date                 \n",
       "1996-05-09  4290000  \n",
       "1996-05-10  1060000  \n",
       "1996-05-13   700000  \n",
       "1996-05-14   310000  \n",
       "1996-05-15   545000  \n",
       "...             ...  \n",
       "2024-04-16  3435500  \n",
       "2024-04-17  2465600  \n",
       "2024-04-18  2669500  \n",
       "2024-04-19  3996100  \n",
       "2024-04-22   560948  \n",
       "\n",
       "[7035 rows x 6 columns]"
      ]
     },
     "execution_count": 54,
     "metadata": {},
     "output_type": "execute_result"
    }
   ],
   "source": [
    "berkhath_daily"
   ]
  },
  {
   "cell_type": "code",
   "execution_count": 103,
   "id": "0fea0657",
   "metadata": {},
   "outputs": [
    {
     "data": {
      "text/html": [
       "<div>\n",
       "<style scoped>\n",
       "    .dataframe tbody tr th:only-of-type {\n",
       "        vertical-align: middle;\n",
       "    }\n",
       "\n",
       "    .dataframe tbody tr th {\n",
       "        vertical-align: top;\n",
       "    }\n",
       "\n",
       "    .dataframe thead th {\n",
       "        text-align: right;\n",
       "    }\n",
       "</style>\n",
       "<table border=\"1\" class=\"dataframe\">\n",
       "  <thead>\n",
       "    <tr style=\"text-align: right;\">\n",
       "      <th></th>\n",
       "      <th>Open</th>\n",
       "      <th>High</th>\n",
       "      <th>Low</th>\n",
       "      <th>Close</th>\n",
       "      <th>Adj Close</th>\n",
       "      <th>Volume</th>\n",
       "    </tr>\n",
       "    <tr>\n",
       "      <th>Date</th>\n",
       "      <th></th>\n",
       "      <th></th>\n",
       "      <th></th>\n",
       "      <th></th>\n",
       "      <th></th>\n",
       "      <th></th>\n",
       "    </tr>\n",
       "  </thead>\n",
       "  <tbody>\n",
       "    <tr>\n",
       "      <th>2023-01-03</th>\n",
       "      <td>310.070007</td>\n",
       "      <td>312.390015</td>\n",
       "      <td>307.380005</td>\n",
       "      <td>309.910004</td>\n",
       "      <td>309.910004</td>\n",
       "      <td>3549900</td>\n",
       "    </tr>\n",
       "    <tr>\n",
       "      <th>2023-01-04</th>\n",
       "      <td>312.000000</td>\n",
       "      <td>316.890015</td>\n",
       "      <td>311.250000</td>\n",
       "      <td>314.549988</td>\n",
       "      <td>314.549988</td>\n",
       "      <td>5121200</td>\n",
       "    </tr>\n",
       "    <tr>\n",
       "      <th>2023-01-05</th>\n",
       "      <td>313.570007</td>\n",
       "      <td>314.230011</td>\n",
       "      <td>310.000000</td>\n",
       "      <td>312.899994</td>\n",
       "      <td>312.899994</td>\n",
       "      <td>3416300</td>\n",
       "    </tr>\n",
       "    <tr>\n",
       "      <th>2023-01-06</th>\n",
       "      <td>315.000000</td>\n",
       "      <td>320.160004</td>\n",
       "      <td>313.380005</td>\n",
       "      <td>318.690002</td>\n",
       "      <td>318.690002</td>\n",
       "      <td>3647900</td>\n",
       "    </tr>\n",
       "    <tr>\n",
       "      <th>2023-01-09</th>\n",
       "      <td>319.019989</td>\n",
       "      <td>320.500000</td>\n",
       "      <td>314.750000</td>\n",
       "      <td>315.529999</td>\n",
       "      <td>315.529999</td>\n",
       "      <td>4397400</td>\n",
       "    </tr>\n",
       "    <tr>\n",
       "      <th>...</th>\n",
       "      <td>...</td>\n",
       "      <td>...</td>\n",
       "      <td>...</td>\n",
       "      <td>...</td>\n",
       "      <td>...</td>\n",
       "      <td>...</td>\n",
       "    </tr>\n",
       "    <tr>\n",
       "      <th>2023-12-22</th>\n",
       "      <td>356.500000</td>\n",
       "      <td>358.260010</td>\n",
       "      <td>355.410004</td>\n",
       "      <td>356.470001</td>\n",
       "      <td>356.470001</td>\n",
       "      <td>2332200</td>\n",
       "    </tr>\n",
       "    <tr>\n",
       "      <th>2023-12-26</th>\n",
       "      <td>356.899994</td>\n",
       "      <td>357.769989</td>\n",
       "      <td>356.079987</td>\n",
       "      <td>356.829987</td>\n",
       "      <td>356.829987</td>\n",
       "      <td>1964400</td>\n",
       "    </tr>\n",
       "    <tr>\n",
       "      <th>2023-12-27</th>\n",
       "      <td>355.929993</td>\n",
       "      <td>357.079987</td>\n",
       "      <td>355.500000</td>\n",
       "      <td>356.950012</td>\n",
       "      <td>356.950012</td>\n",
       "      <td>2478500</td>\n",
       "    </tr>\n",
       "    <tr>\n",
       "      <th>2023-12-28</th>\n",
       "      <td>357.480011</td>\n",
       "      <td>358.679993</td>\n",
       "      <td>356.730011</td>\n",
       "      <td>357.570007</td>\n",
       "      <td>357.570007</td>\n",
       "      <td>2740600</td>\n",
       "    </tr>\n",
       "    <tr>\n",
       "      <th>2023-12-29</th>\n",
       "      <td>357.559998</td>\n",
       "      <td>357.859985</td>\n",
       "      <td>355.309998</td>\n",
       "      <td>356.660004</td>\n",
       "      <td>356.660004</td>\n",
       "      <td>3269400</td>\n",
       "    </tr>\n",
       "  </tbody>\n",
       "</table>\n",
       "<p>250 rows × 6 columns</p>\n",
       "</div>"
      ],
      "text/plain": [
       "                  Open        High         Low       Close   Adj Close  \\\n",
       "Date                                                                     \n",
       "2023-01-03  310.070007  312.390015  307.380005  309.910004  309.910004   \n",
       "2023-01-04  312.000000  316.890015  311.250000  314.549988  314.549988   \n",
       "2023-01-05  313.570007  314.230011  310.000000  312.899994  312.899994   \n",
       "2023-01-06  315.000000  320.160004  313.380005  318.690002  318.690002   \n",
       "2023-01-09  319.019989  320.500000  314.750000  315.529999  315.529999   \n",
       "...                ...         ...         ...         ...         ...   \n",
       "2023-12-22  356.500000  358.260010  355.410004  356.470001  356.470001   \n",
       "2023-12-26  356.899994  357.769989  356.079987  356.829987  356.829987   \n",
       "2023-12-27  355.929993  357.079987  355.500000  356.950012  356.950012   \n",
       "2023-12-28  357.480011  358.679993  356.730011  357.570007  357.570007   \n",
       "2023-12-29  357.559998  357.859985  355.309998  356.660004  356.660004   \n",
       "\n",
       "             Volume  \n",
       "Date                 \n",
       "2023-01-03  3549900  \n",
       "2023-01-04  5121200  \n",
       "2023-01-05  3416300  \n",
       "2023-01-06  3647900  \n",
       "2023-01-09  4397400  \n",
       "...             ...  \n",
       "2023-12-22  2332200  \n",
       "2023-12-26  1964400  \n",
       "2023-12-27  2478500  \n",
       "2023-12-28  2740600  \n",
       "2023-12-29  3269400  \n",
       "\n",
       "[250 rows x 6 columns]"
      ]
     },
     "execution_count": 103,
     "metadata": {},
     "output_type": "execute_result"
    }
   ],
   "source": [
    "berkhath_daily['2023-01-01':'2023-12-31']"
   ]
  },
  {
   "cell_type": "code",
   "execution_count": 55,
   "id": "2dd48b59",
   "metadata": {},
   "outputs": [
    {
     "data": {
      "text/plain": [
       "Open         False\n",
       "High         False\n",
       "Low          False\n",
       "Close        False\n",
       "Adj Close    False\n",
       "Volume       False\n",
       "dtype: bool"
      ]
     },
     "execution_count": 55,
     "metadata": {},
     "output_type": "execute_result"
    }
   ],
   "source": [
    "berkhath_daily['2023-01-01':'2023-12-31'].isna().any()"
   ]
  },
  {
   "cell_type": "code",
   "execution_count": 56,
   "id": "eb7b0530",
   "metadata": {},
   "outputs": [
    {
     "name": "stdout",
     "output_type": "stream",
     "text": [
      "0.21\n"
     ]
    }
   ],
   "source": [
    "print(round((berkhath_daily['2023-01-01':'2023-12-31']['Adj Close'].max() - berkhath_daily['2023-01-01':'2023-12-31']['Adj Close'].min())/berkhath_daily['2023-01-01':'2023-12-31']['Adj Close'].max(),2))"
   ]
  },
  {
   "cell_type": "code",
   "execution_count": 57,
   "id": "27cff76b",
   "metadata": {},
   "outputs": [
    {
     "name": "stderr",
     "output_type": "stream",
     "text": [
      "[*********************100%%**********************]  1 of 1 completed\n"
     ]
    }
   ],
   "source": [
    "#OHLCV data on Yahoo Finance for Apple stock on earnings\n",
    "apple_daily = yf.download(tickers = \"AAPL\",period = \"max\",interval = \"1d\")"
   ]
  },
  {
   "cell_type": "code",
   "execution_count": 58,
   "id": "6b585dac",
   "metadata": {},
   "outputs": [
    {
     "data": {
      "text/plain": [
       "Open         False\n",
       "High         False\n",
       "Low          False\n",
       "Close        False\n",
       "Adj Close    False\n",
       "Volume       False\n",
       "dtype: bool"
      ]
     },
     "execution_count": 58,
     "metadata": {},
     "output_type": "execute_result"
    }
   ],
   "source": [
    "apple_daily['2023-01-01':'2023-12-31'].isna().any()"
   ]
  },
  {
   "cell_type": "code",
   "execution_count": 59,
   "id": "6b458ab9",
   "metadata": {},
   "outputs": [
    {
     "name": "stdout",
     "output_type": "stream",
     "text": [
      "0.37\n"
     ]
    }
   ],
   "source": [
    "print(round((apple_daily['2023-01-01':'2023-12-31']['Adj Close'].max() - apple_daily['2023-01-01':'2023-12-31']['Adj Close'].min())/apple_daily['2023-01-01':'2023-12-31']['Adj Close'].max(),2))"
   ]
  },
  {
   "cell_type": "code",
   "execution_count": 60,
   "id": "868b0da0",
   "metadata": {},
   "outputs": [
    {
     "name": "stderr",
     "output_type": "stream",
     "text": [
      "[*********************100%%**********************]  1 of 1 completed\n"
     ]
    }
   ],
   "source": [
    "#OHLCV data on Yahoo Finance for Microsoft stock on earnings\n",
    "micro_daily = yf.download(tickers = \"MSFT\",period = \"max\",interval = \"1d\")"
   ]
  },
  {
   "cell_type": "code",
   "execution_count": 61,
   "id": "dedb26e2",
   "metadata": {},
   "outputs": [
    {
     "data": {
      "text/plain": [
       "Open         False\n",
       "High         False\n",
       "Low          False\n",
       "Close        False\n",
       "Adj Close    False\n",
       "Volume       False\n",
       "dtype: bool"
      ]
     },
     "execution_count": 61,
     "metadata": {},
     "output_type": "execute_result"
    }
   ],
   "source": [
    "micro_daily['2023-01-01':'2023-12-31'].isna().any()"
   ]
  },
  {
   "cell_type": "code",
   "execution_count": 62,
   "id": "45ddb399",
   "metadata": {},
   "outputs": [
    {
     "name": "stdout",
     "output_type": "stream",
     "text": [
      "0.42\n"
     ]
    }
   ],
   "source": [
    "print(round((micro_daily['2023-01-01':'2023-12-31']['Adj Close'].max() - micro_daily['2023-01-01':'2023-12-31']['Adj Close'].min())/micro_daily['2023-01-01':'2023-12-31']['Adj Close'].max(),2))"
   ]
  },
  {
   "cell_type": "code",
   "execution_count": 63,
   "id": "c084df4b",
   "metadata": {},
   "outputs": [
    {
     "name": "stderr",
     "output_type": "stream",
     "text": [
      "[*********************100%%**********************]  1 of 1 completed\n"
     ]
    }
   ],
   "source": [
    "#OHLCV data on Yahoo Finance for Google stock on earnings\n",
    "google_daily = yf.download(tickers = \"GOOG\",period = \"max\",interval = \"1d\")"
   ]
  },
  {
   "cell_type": "code",
   "execution_count": 64,
   "id": "9b2fe405",
   "metadata": {},
   "outputs": [
    {
     "data": {
      "text/plain": [
       "Open         False\n",
       "High         False\n",
       "Low          False\n",
       "Close        False\n",
       "Adj Close    False\n",
       "Volume       False\n",
       "dtype: bool"
      ]
     },
     "execution_count": 64,
     "metadata": {},
     "output_type": "execute_result"
    }
   ],
   "source": [
    "google_daily['2023-01-01':'2023-12-31'].isna().any()"
   ]
  },
  {
   "cell_type": "code",
   "execution_count": 65,
   "id": "3fc593e2",
   "metadata": {},
   "outputs": [
    {
     "name": "stdout",
     "output_type": "stream",
     "text": [
      "0.39\n"
     ]
    }
   ],
   "source": [
    "print(round((google_daily['2023-01-01':'2023-12-31']['Adj Close'].max() - google_daily['2023-01-01':'2023-12-31']['Adj Close'].min())/google_daily['2023-01-01':'2023-12-31']['Adj Close'].max(),2))"
   ]
  },
  {
   "cell_type": "code",
   "execution_count": 66,
   "id": "854dd075",
   "metadata": {},
   "outputs": [
    {
     "name": "stderr",
     "output_type": "stream",
     "text": [
      "[*********************100%%**********************]  1 of 1 completed\n"
     ]
    }
   ],
   "source": [
    "#OHLCV data on Yahoo Finance for JPMorgan Chase stock on earnings\n",
    "jpmc_daily = yf.download(tickers = \"JPM\",period = \"max\",interval = \"1d\")"
   ]
  },
  {
   "cell_type": "code",
   "execution_count": 67,
   "id": "c1d0abfd",
   "metadata": {},
   "outputs": [
    {
     "data": {
      "text/plain": [
       "Open         False\n",
       "High         False\n",
       "Low          False\n",
       "Close        False\n",
       "Adj Close    False\n",
       "Volume       False\n",
       "dtype: bool"
      ]
     },
     "execution_count": 67,
     "metadata": {},
     "output_type": "execute_result"
    }
   ],
   "source": [
    "jpmc_daily['2023-01-01':'2023-12-31'].isna().any()"
   ]
  },
  {
   "cell_type": "code",
   "execution_count": 68,
   "id": "8252f3f8",
   "metadata": {},
   "outputs": [
    {
     "name": "stdout",
     "output_type": "stream",
     "text": [
      "0.28\n"
     ]
    }
   ],
   "source": [
    "print(round((jpmc_daily['2023-01-01':'2023-12-31']['Adj Close'].max() - jpmc_daily['2023-01-01':'2023-12-31']['Adj Close'].min())/jpmc_daily['2023-01-01':'2023-12-31']['Adj Close'].max(),2))"
   ]
  },
  {
   "cell_type": "code",
   "execution_count": 69,
   "id": "89747821",
   "metadata": {},
   "outputs": [
    {
     "name": "stdout",
     "output_type": "stream",
     "text": [
      "The largest range ratio [=(max-min)/max] of Adj.Close prices in 2023 = 0.42(Microsoft)\n"
     ]
    }
   ],
   "source": [
    "print('The largest range ratio [=(max-min)/max] of Adj.Close prices in 2023 = 0.42(Microsoft)')"
   ]
  },
  {
   "cell_type": "markdown",
   "id": "fbb57675",
   "metadata": {},
   "source": [
    "Question 5. [Stocks] Dividend Yield\n",
    "Find the largest dividend yield for the same set of stocks\n",
    "\n",
    "Use the same list of companies (2222.SR,BRK-B, AAPL, MSFT, GOOG, JPM) and download all dividends paid in 2023. You can use get_actions() method or .dividends field in yfinance library (https://github.com/ranaroussi/yfinance?tab=readme-ov-file#quick-start)\n",
    "\n",
    "Sum up all dividends paid in 2023 per company and divide each value by the closing price (Adj.Close) at the last trading day of the year.\n",
    "\n",
    "Find the maximum value in % and round to 1 digit after the decimal point. (E.g., if you obtained $1.25 dividends paid and the end year stock price is $100, the dividend yield is 1.25% -- and your answer should be equal to 1.3)\n",
    "\n"
   ]
  },
  {
   "cell_type": "code",
   "execution_count": 83,
   "id": "eecc7e8d",
   "metadata": {},
   "outputs": [],
   "source": [
    "saudiaramco = yf.Ticker(\"2222.SR\")"
   ]
  },
  {
   "cell_type": "code",
   "execution_count": 84,
   "id": "5b79e80b",
   "metadata": {},
   "outputs": [
    {
     "data": {
      "text/html": [
       "<div>\n",
       "<style scoped>\n",
       "    .dataframe tbody tr th:only-of-type {\n",
       "        vertical-align: middle;\n",
       "    }\n",
       "\n",
       "    .dataframe tbody tr th {\n",
       "        vertical-align: top;\n",
       "    }\n",
       "\n",
       "    .dataframe thead th {\n",
       "        text-align: right;\n",
       "    }\n",
       "</style>\n",
       "<table border=\"1\" class=\"dataframe\">\n",
       "  <thead>\n",
       "    <tr style=\"text-align: right;\">\n",
       "      <th></th>\n",
       "      <th>Dividends</th>\n",
       "      <th>Stock Splits</th>\n",
       "    </tr>\n",
       "    <tr>\n",
       "      <th>Date</th>\n",
       "      <th></th>\n",
       "      <th></th>\n",
       "    </tr>\n",
       "  </thead>\n",
       "  <tbody>\n",
       "    <tr>\n",
       "      <th>2020-03-19 00:00:00+03:00</th>\n",
       "      <td>0.060992</td>\n",
       "      <td>0.0</td>\n",
       "    </tr>\n",
       "    <tr>\n",
       "      <th>2020-05-31 00:00:00+03:00</th>\n",
       "      <td>0.290744</td>\n",
       "      <td>0.0</td>\n",
       "    </tr>\n",
       "    <tr>\n",
       "      <th>2020-06-04 00:00:00+03:00</th>\n",
       "      <td>0.000000</td>\n",
       "      <td>1.1</td>\n",
       "    </tr>\n",
       "    <tr>\n",
       "      <th>2020-06-08 00:00:00+03:00</th>\n",
       "      <td>0.000000</td>\n",
       "      <td>1.1</td>\n",
       "    </tr>\n",
       "    <tr>\n",
       "      <th>2020-08-12 00:00:00+03:00</th>\n",
       "      <td>0.290744</td>\n",
       "      <td>0.0</td>\n",
       "    </tr>\n",
       "    <tr>\n",
       "      <th>2020-11-10 00:00:00+03:00</th>\n",
       "      <td>0.290744</td>\n",
       "      <td>0.0</td>\n",
       "    </tr>\n",
       "    <tr>\n",
       "      <th>2021-03-23 00:00:00+03:00</th>\n",
       "      <td>0.290744</td>\n",
       "      <td>0.0</td>\n",
       "    </tr>\n",
       "    <tr>\n",
       "      <th>2021-05-17 00:00:00+03:00</th>\n",
       "      <td>0.290744</td>\n",
       "      <td>0.0</td>\n",
       "    </tr>\n",
       "    <tr>\n",
       "      <th>2021-08-16 00:00:00+03:00</th>\n",
       "      <td>0.290744</td>\n",
       "      <td>0.0</td>\n",
       "    </tr>\n",
       "    <tr>\n",
       "      <th>2021-11-07 00:00:00+03:00</th>\n",
       "      <td>0.290744</td>\n",
       "      <td>0.0</td>\n",
       "    </tr>\n",
       "    <tr>\n",
       "      <th>2022-05-15 00:00:00+03:00</th>\n",
       "      <td>0.000000</td>\n",
       "      <td>1.1</td>\n",
       "    </tr>\n",
       "    <tr>\n",
       "      <th>2022-05-24 00:00:00+03:00</th>\n",
       "      <td>0.290727</td>\n",
       "      <td>0.0</td>\n",
       "    </tr>\n",
       "    <tr>\n",
       "      <th>2022-08-22 00:00:00+03:00</th>\n",
       "      <td>0.290727</td>\n",
       "      <td>0.0</td>\n",
       "    </tr>\n",
       "    <tr>\n",
       "      <th>2022-11-09 00:00:00+03:00</th>\n",
       "      <td>0.290727</td>\n",
       "      <td>0.0</td>\n",
       "    </tr>\n",
       "    <tr>\n",
       "      <th>2023-03-15 00:00:00+03:00</th>\n",
       "      <td>0.302364</td>\n",
       "      <td>0.0</td>\n",
       "    </tr>\n",
       "    <tr>\n",
       "      <th>2023-05-09 00:00:00+03:00</th>\n",
       "      <td>0.000000</td>\n",
       "      <td>1.1</td>\n",
       "    </tr>\n",
       "    <tr>\n",
       "      <th>2023-05-17 00:00:00+03:00</th>\n",
       "      <td>0.302400</td>\n",
       "      <td>0.0</td>\n",
       "    </tr>\n",
       "    <tr>\n",
       "      <th>2023-09-11 00:00:00+03:00</th>\n",
       "      <td>0.153000</td>\n",
       "      <td>0.0</td>\n",
       "    </tr>\n",
       "    <tr>\n",
       "      <th>2023-11-15 00:00:00+03:00</th>\n",
       "      <td>0.153000</td>\n",
       "      <td>0.0</td>\n",
       "    </tr>\n",
       "    <tr>\n",
       "      <th>2024-03-14 00:00:00+03:00</th>\n",
       "      <td>0.167000</td>\n",
       "      <td>0.0</td>\n",
       "    </tr>\n",
       "  </tbody>\n",
       "</table>\n",
       "</div>"
      ],
      "text/plain": [
       "                           Dividends  Stock Splits\n",
       "Date                                              \n",
       "2020-03-19 00:00:00+03:00   0.060992           0.0\n",
       "2020-05-31 00:00:00+03:00   0.290744           0.0\n",
       "2020-06-04 00:00:00+03:00   0.000000           1.1\n",
       "2020-06-08 00:00:00+03:00   0.000000           1.1\n",
       "2020-08-12 00:00:00+03:00   0.290744           0.0\n",
       "2020-11-10 00:00:00+03:00   0.290744           0.0\n",
       "2021-03-23 00:00:00+03:00   0.290744           0.0\n",
       "2021-05-17 00:00:00+03:00   0.290744           0.0\n",
       "2021-08-16 00:00:00+03:00   0.290744           0.0\n",
       "2021-11-07 00:00:00+03:00   0.290744           0.0\n",
       "2022-05-15 00:00:00+03:00   0.000000           1.1\n",
       "2022-05-24 00:00:00+03:00   0.290727           0.0\n",
       "2022-08-22 00:00:00+03:00   0.290727           0.0\n",
       "2022-11-09 00:00:00+03:00   0.290727           0.0\n",
       "2023-03-15 00:00:00+03:00   0.302364           0.0\n",
       "2023-05-09 00:00:00+03:00   0.000000           1.1\n",
       "2023-05-17 00:00:00+03:00   0.302400           0.0\n",
       "2023-09-11 00:00:00+03:00   0.153000           0.0\n",
       "2023-11-15 00:00:00+03:00   0.153000           0.0\n",
       "2024-03-14 00:00:00+03:00   0.167000           0.0"
      ]
     },
     "execution_count": 84,
     "metadata": {},
     "output_type": "execute_result"
    }
   ],
   "source": [
    "saudiaramco.actions"
   ]
  },
  {
   "cell_type": "code",
   "execution_count": 106,
   "id": "8e4e9fed",
   "metadata": {},
   "outputs": [
    {
     "name": "stdout",
     "output_type": "stream",
     "text": [
      "2.8\n"
     ]
    }
   ],
   "source": [
    "print(round((saudiaramco.actions['2023-01-01':'2023-12-31']['Dividends'].sum()/saudiaramco_daily.loc['2023-12-31']['Adj Close'])*100,1))"
   ]
  },
  {
   "cell_type": "code",
   "execution_count": 104,
   "id": "7f06870d",
   "metadata": {},
   "outputs": [
    {
     "data": {
      "text/plain": [
       "32.82804870605469"
      ]
     },
     "execution_count": 104,
     "metadata": {},
     "output_type": "execute_result"
    }
   ],
   "source": [
    "saudiaramco_daily.loc['2023-12-31']['Adj Close']"
   ]
  },
  {
   "cell_type": "code",
   "execution_count": 73,
   "id": "9efa4efa",
   "metadata": {},
   "outputs": [
    {
     "data": {
      "text/html": [
       "<div>\n",
       "<style scoped>\n",
       "    .dataframe tbody tr th:only-of-type {\n",
       "        vertical-align: middle;\n",
       "    }\n",
       "\n",
       "    .dataframe tbody tr th {\n",
       "        vertical-align: top;\n",
       "    }\n",
       "\n",
       "    .dataframe thead th {\n",
       "        text-align: right;\n",
       "    }\n",
       "</style>\n",
       "<table border=\"1\" class=\"dataframe\">\n",
       "  <thead>\n",
       "    <tr style=\"text-align: right;\">\n",
       "      <th></th>\n",
       "      <th>Dividends</th>\n",
       "      <th>Stock Splits</th>\n",
       "    </tr>\n",
       "    <tr>\n",
       "      <th>Date</th>\n",
       "      <th></th>\n",
       "      <th></th>\n",
       "    </tr>\n",
       "  </thead>\n",
       "  <tbody>\n",
       "    <tr>\n",
       "      <th>2010-01-21 00:00:00-05:00</th>\n",
       "      <td>0.0</td>\n",
       "      <td>50.0</td>\n",
       "    </tr>\n",
       "  </tbody>\n",
       "</table>\n",
       "</div>"
      ],
      "text/plain": [
       "                           Dividends  Stock Splits\n",
       "Date                                              \n",
       "2010-01-21 00:00:00-05:00        0.0          50.0"
      ]
     },
     "execution_count": 73,
     "metadata": {},
     "output_type": "execute_result"
    }
   ],
   "source": [
    "berkshire = yf.Ticker(\"BRK-B\")\n",
    "berkshire.actions"
   ]
  },
  {
   "cell_type": "code",
   "execution_count": 74,
   "id": "a8ef65b3",
   "metadata": {},
   "outputs": [
    {
     "name": "stdout",
     "output_type": "stream",
     "text": [
      "0.0\n"
     ]
    }
   ],
   "source": [
    "print(round((berkshire.actions['2023-01-01':'2023-12-31']['Dividends'].sum()/berkhath_daily.loc['2023-12-29']['Adj Close'])*100,1))"
   ]
  },
  {
   "cell_type": "code",
   "execution_count": 75,
   "id": "241fc1c6",
   "metadata": {},
   "outputs": [
    {
     "data": {
      "text/html": [
       "<div>\n",
       "<style scoped>\n",
       "    .dataframe tbody tr th:only-of-type {\n",
       "        vertical-align: middle;\n",
       "    }\n",
       "\n",
       "    .dataframe tbody tr th {\n",
       "        vertical-align: top;\n",
       "    }\n",
       "\n",
       "    .dataframe thead th {\n",
       "        text-align: right;\n",
       "    }\n",
       "</style>\n",
       "<table border=\"1\" class=\"dataframe\">\n",
       "  <thead>\n",
       "    <tr style=\"text-align: right;\">\n",
       "      <th></th>\n",
       "      <th>Dividends</th>\n",
       "      <th>Stock Splits</th>\n",
       "    </tr>\n",
       "    <tr>\n",
       "      <th>Date</th>\n",
       "      <th></th>\n",
       "      <th></th>\n",
       "    </tr>\n",
       "  </thead>\n",
       "  <tbody>\n",
       "    <tr>\n",
       "      <th>1987-05-11 00:00:00-04:00</th>\n",
       "      <td>0.000536</td>\n",
       "      <td>0.0</td>\n",
       "    </tr>\n",
       "    <tr>\n",
       "      <th>1987-06-16 00:00:00-04:00</th>\n",
       "      <td>0.000000</td>\n",
       "      <td>2.0</td>\n",
       "    </tr>\n",
       "    <tr>\n",
       "      <th>1987-08-10 00:00:00-04:00</th>\n",
       "      <td>0.000536</td>\n",
       "      <td>0.0</td>\n",
       "    </tr>\n",
       "    <tr>\n",
       "      <th>1987-11-17 00:00:00-05:00</th>\n",
       "      <td>0.000714</td>\n",
       "      <td>0.0</td>\n",
       "    </tr>\n",
       "    <tr>\n",
       "      <th>1988-02-12 00:00:00-05:00</th>\n",
       "      <td>0.000714</td>\n",
       "      <td>0.0</td>\n",
       "    </tr>\n",
       "    <tr>\n",
       "      <th>...</th>\n",
       "      <td>...</td>\n",
       "      <td>...</td>\n",
       "    </tr>\n",
       "    <tr>\n",
       "      <th>2023-02-10 00:00:00-05:00</th>\n",
       "      <td>0.230000</td>\n",
       "      <td>0.0</td>\n",
       "    </tr>\n",
       "    <tr>\n",
       "      <th>2023-05-12 00:00:00-04:00</th>\n",
       "      <td>0.240000</td>\n",
       "      <td>0.0</td>\n",
       "    </tr>\n",
       "    <tr>\n",
       "      <th>2023-08-11 00:00:00-04:00</th>\n",
       "      <td>0.240000</td>\n",
       "      <td>0.0</td>\n",
       "    </tr>\n",
       "    <tr>\n",
       "      <th>2023-11-10 00:00:00-05:00</th>\n",
       "      <td>0.240000</td>\n",
       "      <td>0.0</td>\n",
       "    </tr>\n",
       "    <tr>\n",
       "      <th>2024-02-09 00:00:00-05:00</th>\n",
       "      <td>0.240000</td>\n",
       "      <td>0.0</td>\n",
       "    </tr>\n",
       "  </tbody>\n",
       "</table>\n",
       "<p>87 rows × 2 columns</p>\n",
       "</div>"
      ],
      "text/plain": [
       "                           Dividends  Stock Splits\n",
       "Date                                              \n",
       "1987-05-11 00:00:00-04:00   0.000536           0.0\n",
       "1987-06-16 00:00:00-04:00   0.000000           2.0\n",
       "1987-08-10 00:00:00-04:00   0.000536           0.0\n",
       "1987-11-17 00:00:00-05:00   0.000714           0.0\n",
       "1988-02-12 00:00:00-05:00   0.000714           0.0\n",
       "...                              ...           ...\n",
       "2023-02-10 00:00:00-05:00   0.230000           0.0\n",
       "2023-05-12 00:00:00-04:00   0.240000           0.0\n",
       "2023-08-11 00:00:00-04:00   0.240000           0.0\n",
       "2023-11-10 00:00:00-05:00   0.240000           0.0\n",
       "2024-02-09 00:00:00-05:00   0.240000           0.0\n",
       "\n",
       "[87 rows x 2 columns]"
      ]
     },
     "execution_count": 75,
     "metadata": {},
     "output_type": "execute_result"
    }
   ],
   "source": [
    "aple = yf.Ticker(\"AAPL\")\n",
    "aple.actions"
   ]
  },
  {
   "cell_type": "code",
   "execution_count": 76,
   "id": "21f49552",
   "metadata": {},
   "outputs": [
    {
     "name": "stdout",
     "output_type": "stream",
     "text": [
      "0.5\n"
     ]
    }
   ],
   "source": [
    "print(round((aple.actions['2023-01-01':'2023-12-31']['Dividends'].sum()/apple_daily.loc['2023-12-29']['Adj Close'])*100,1))"
   ]
  },
  {
   "cell_type": "code",
   "execution_count": 77,
   "id": "da458552",
   "metadata": {},
   "outputs": [
    {
     "data": {
      "text/html": [
       "<div>\n",
       "<style scoped>\n",
       "    .dataframe tbody tr th:only-of-type {\n",
       "        vertical-align: middle;\n",
       "    }\n",
       "\n",
       "    .dataframe tbody tr th {\n",
       "        vertical-align: top;\n",
       "    }\n",
       "\n",
       "    .dataframe thead th {\n",
       "        text-align: right;\n",
       "    }\n",
       "</style>\n",
       "<table border=\"1\" class=\"dataframe\">\n",
       "  <thead>\n",
       "    <tr style=\"text-align: right;\">\n",
       "      <th></th>\n",
       "      <th>Dividends</th>\n",
       "      <th>Stock Splits</th>\n",
       "    </tr>\n",
       "    <tr>\n",
       "      <th>Date</th>\n",
       "      <th></th>\n",
       "      <th></th>\n",
       "    </tr>\n",
       "  </thead>\n",
       "  <tbody>\n",
       "    <tr>\n",
       "      <th>1987-09-21 00:00:00-04:00</th>\n",
       "      <td>0.00</td>\n",
       "      <td>2.0</td>\n",
       "    </tr>\n",
       "    <tr>\n",
       "      <th>1990-04-16 00:00:00-04:00</th>\n",
       "      <td>0.00</td>\n",
       "      <td>2.0</td>\n",
       "    </tr>\n",
       "    <tr>\n",
       "      <th>1991-06-27 00:00:00-04:00</th>\n",
       "      <td>0.00</td>\n",
       "      <td>1.5</td>\n",
       "    </tr>\n",
       "    <tr>\n",
       "      <th>1992-06-15 00:00:00-04:00</th>\n",
       "      <td>0.00</td>\n",
       "      <td>1.5</td>\n",
       "    </tr>\n",
       "    <tr>\n",
       "      <th>1994-05-23 00:00:00-04:00</th>\n",
       "      <td>0.00</td>\n",
       "      <td>2.0</td>\n",
       "    </tr>\n",
       "    <tr>\n",
       "      <th>...</th>\n",
       "      <td>...</td>\n",
       "      <td>...</td>\n",
       "    </tr>\n",
       "    <tr>\n",
       "      <th>2023-02-15 00:00:00-05:00</th>\n",
       "      <td>0.68</td>\n",
       "      <td>0.0</td>\n",
       "    </tr>\n",
       "    <tr>\n",
       "      <th>2023-05-17 00:00:00-04:00</th>\n",
       "      <td>0.68</td>\n",
       "      <td>0.0</td>\n",
       "    </tr>\n",
       "    <tr>\n",
       "      <th>2023-08-16 00:00:00-04:00</th>\n",
       "      <td>0.68</td>\n",
       "      <td>0.0</td>\n",
       "    </tr>\n",
       "    <tr>\n",
       "      <th>2023-11-15 00:00:00-05:00</th>\n",
       "      <td>0.75</td>\n",
       "      <td>0.0</td>\n",
       "    </tr>\n",
       "    <tr>\n",
       "      <th>2024-02-14 00:00:00-05:00</th>\n",
       "      <td>0.75</td>\n",
       "      <td>0.0</td>\n",
       "    </tr>\n",
       "  </tbody>\n",
       "</table>\n",
       "<p>90 rows × 2 columns</p>\n",
       "</div>"
      ],
      "text/plain": [
       "                           Dividends  Stock Splits\n",
       "Date                                              \n",
       "1987-09-21 00:00:00-04:00       0.00           2.0\n",
       "1990-04-16 00:00:00-04:00       0.00           2.0\n",
       "1991-06-27 00:00:00-04:00       0.00           1.5\n",
       "1992-06-15 00:00:00-04:00       0.00           1.5\n",
       "1994-05-23 00:00:00-04:00       0.00           2.0\n",
       "...                              ...           ...\n",
       "2023-02-15 00:00:00-05:00       0.68           0.0\n",
       "2023-05-17 00:00:00-04:00       0.68           0.0\n",
       "2023-08-16 00:00:00-04:00       0.68           0.0\n",
       "2023-11-15 00:00:00-05:00       0.75           0.0\n",
       "2024-02-14 00:00:00-05:00       0.75           0.0\n",
       "\n",
       "[90 rows x 2 columns]"
      ]
     },
     "execution_count": 77,
     "metadata": {},
     "output_type": "execute_result"
    }
   ],
   "source": [
    "msft = yf.Ticker(\"MSFT\")\n",
    "msft.actions"
   ]
  },
  {
   "cell_type": "code",
   "execution_count": 78,
   "id": "403fe32f",
   "metadata": {},
   "outputs": [
    {
     "name": "stdout",
     "output_type": "stream",
     "text": [
      "0.7\n"
     ]
    }
   ],
   "source": [
    "print(round((msft.actions['2023-01-01':'2023-12-31']['Dividends'].sum()/micro_daily.loc['2023-12-29']['Adj Close'])*100,1))"
   ]
  },
  {
   "cell_type": "code",
   "execution_count": 79,
   "id": "dc458d65",
   "metadata": {},
   "outputs": [
    {
     "data": {
      "text/html": [
       "<div>\n",
       "<style scoped>\n",
       "    .dataframe tbody tr th:only-of-type {\n",
       "        vertical-align: middle;\n",
       "    }\n",
       "\n",
       "    .dataframe tbody tr th {\n",
       "        vertical-align: top;\n",
       "    }\n",
       "\n",
       "    .dataframe thead th {\n",
       "        text-align: right;\n",
       "    }\n",
       "</style>\n",
       "<table border=\"1\" class=\"dataframe\">\n",
       "  <thead>\n",
       "    <tr style=\"text-align: right;\">\n",
       "      <th></th>\n",
       "      <th>Dividends</th>\n",
       "      <th>Stock Splits</th>\n",
       "    </tr>\n",
       "    <tr>\n",
       "      <th>Date</th>\n",
       "      <th></th>\n",
       "      <th></th>\n",
       "    </tr>\n",
       "  </thead>\n",
       "  <tbody>\n",
       "    <tr>\n",
       "      <th>2014-03-27 00:00:00-04:00</th>\n",
       "      <td>0.0</td>\n",
       "      <td>2.002000</td>\n",
       "    </tr>\n",
       "    <tr>\n",
       "      <th>2015-04-27 00:00:00-04:00</th>\n",
       "      <td>0.0</td>\n",
       "      <td>1.002746</td>\n",
       "    </tr>\n",
       "    <tr>\n",
       "      <th>2022-07-18 00:00:00-04:00</th>\n",
       "      <td>0.0</td>\n",
       "      <td>20.000000</td>\n",
       "    </tr>\n",
       "  </tbody>\n",
       "</table>\n",
       "</div>"
      ],
      "text/plain": [
       "                           Dividends  Stock Splits\n",
       "Date                                              \n",
       "2014-03-27 00:00:00-04:00        0.0      2.002000\n",
       "2015-04-27 00:00:00-04:00        0.0      1.002746\n",
       "2022-07-18 00:00:00-04:00        0.0     20.000000"
      ]
     },
     "execution_count": 79,
     "metadata": {},
     "output_type": "execute_result"
    }
   ],
   "source": [
    "goog = yf.Ticker(\"GOOG\")\n",
    "goog.actions"
   ]
  },
  {
   "cell_type": "code",
   "execution_count": 80,
   "id": "caf7fe08",
   "metadata": {},
   "outputs": [
    {
     "name": "stdout",
     "output_type": "stream",
     "text": [
      "0.0\n"
     ]
    }
   ],
   "source": [
    "print(round((goog.actions['2023-01-01':'2023-12-31']['Dividends'].sum()/google_daily.loc['2023-12-29']['Adj Close'])*100,1))"
   ]
  },
  {
   "cell_type": "code",
   "execution_count": 81,
   "id": "d6eb0095",
   "metadata": {},
   "outputs": [
    {
     "data": {
      "text/html": [
       "<div>\n",
       "<style scoped>\n",
       "    .dataframe tbody tr th:only-of-type {\n",
       "        vertical-align: middle;\n",
       "    }\n",
       "\n",
       "    .dataframe tbody tr th {\n",
       "        vertical-align: top;\n",
       "    }\n",
       "\n",
       "    .dataframe thead th {\n",
       "        text-align: right;\n",
       "    }\n",
       "</style>\n",
       "<table border=\"1\" class=\"dataframe\">\n",
       "  <thead>\n",
       "    <tr style=\"text-align: right;\">\n",
       "      <th></th>\n",
       "      <th>Dividends</th>\n",
       "      <th>Stock Splits</th>\n",
       "    </tr>\n",
       "    <tr>\n",
       "      <th>Date</th>\n",
       "      <th></th>\n",
       "      <th></th>\n",
       "    </tr>\n",
       "  </thead>\n",
       "  <tbody>\n",
       "    <tr>\n",
       "      <th>2023-01-05 00:00:00-05:00</th>\n",
       "      <td>1.00</td>\n",
       "      <td>0.0</td>\n",
       "    </tr>\n",
       "    <tr>\n",
       "      <th>2023-04-05 00:00:00-04:00</th>\n",
       "      <td>1.00</td>\n",
       "      <td>0.0</td>\n",
       "    </tr>\n",
       "    <tr>\n",
       "      <th>2023-07-05 00:00:00-04:00</th>\n",
       "      <td>1.00</td>\n",
       "      <td>0.0</td>\n",
       "    </tr>\n",
       "    <tr>\n",
       "      <th>2023-10-05 00:00:00-04:00</th>\n",
       "      <td>1.05</td>\n",
       "      <td>0.0</td>\n",
       "    </tr>\n",
       "  </tbody>\n",
       "</table>\n",
       "</div>"
      ],
      "text/plain": [
       "                           Dividends  Stock Splits\n",
       "Date                                              \n",
       "2023-01-05 00:00:00-05:00       1.00           0.0\n",
       "2023-04-05 00:00:00-04:00       1.00           0.0\n",
       "2023-07-05 00:00:00-04:00       1.00           0.0\n",
       "2023-10-05 00:00:00-04:00       1.05           0.0"
      ]
     },
     "execution_count": 81,
     "metadata": {},
     "output_type": "execute_result"
    }
   ],
   "source": [
    "jpm = yf.Ticker(\"JPM\")\n",
    "jpm.actions['2023-01-01':'2023-12-31']"
   ]
  },
  {
   "cell_type": "code",
   "execution_count": 82,
   "id": "d554d626",
   "metadata": {},
   "outputs": [
    {
     "name": "stdout",
     "output_type": "stream",
     "text": [
      "2.4\n"
     ]
    }
   ],
   "source": [
    "print(round((jpm.actions['2023-01-01':'2023-12-31']['Dividends'].sum()/jpmc_daily.loc['2023-12-29']['Adj Close'])*100,1))"
   ]
  },
  {
   "cell_type": "code",
   "execution_count": null,
   "id": "4a291827",
   "metadata": {},
   "outputs": [],
   "source": []
  },
  {
   "cell_type": "code",
   "execution_count": null,
   "id": "e74e1184",
   "metadata": {},
   "outputs": [],
   "source": []
  },
  {
   "cell_type": "code",
   "execution_count": null,
   "id": "06edd8e3",
   "metadata": {},
   "outputs": [],
   "source": []
  },
  {
   "cell_type": "code",
   "execution_count": null,
   "id": "02a4bbfb",
   "metadata": {},
   "outputs": [],
   "source": []
  },
  {
   "cell_type": "code",
   "execution_count": null,
   "id": "64bbf7de",
   "metadata": {},
   "outputs": [],
   "source": []
  },
  {
   "cell_type": "code",
   "execution_count": null,
   "id": "4d0c9750",
   "metadata": {},
   "outputs": [],
   "source": []
  },
  {
   "cell_type": "code",
   "execution_count": null,
   "id": "fefd22ff",
   "metadata": {},
   "outputs": [],
   "source": []
  },
  {
   "cell_type": "code",
   "execution_count": null,
   "id": "a37c29cc",
   "metadata": {},
   "outputs": [],
   "source": []
  },
  {
   "cell_type": "code",
   "execution_count": null,
   "id": "d457791c",
   "metadata": {},
   "outputs": [],
   "source": []
  },
  {
   "cell_type": "code",
   "execution_count": null,
   "id": "0f6e7592",
   "metadata": {},
   "outputs": [],
   "source": []
  }
 ],
 "metadata": {
  "kernelspec": {
   "display_name": "Python 3 (ipykernel)",
   "language": "python",
   "name": "python3"
  },
  "language_info": {
   "codemirror_mode": {
    "name": "ipython",
    "version": 3
   },
   "file_extension": ".py",
   "mimetype": "text/x-python",
   "name": "python",
   "nbconvert_exporter": "python",
   "pygments_lexer": "ipython3",
   "version": "3.11.2"
  }
 },
 "nbformat": 4,
 "nbformat_minor": 5
}
