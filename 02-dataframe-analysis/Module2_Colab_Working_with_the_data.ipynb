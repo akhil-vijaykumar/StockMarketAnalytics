{
  "nbformat": 4,
  "nbformat_minor": 0,
  "metadata": {
    "colab": {
      "provenance": [],
      "collapsed_sections": [
        "3tMLcQv95lrJ",
        "Q2oFbmvn51md",
        "F-Iucz4n6FS6"
      ],
      "include_colab_link": true
    },
    "kernelspec": {
      "name": "python3",
      "display_name": "Python 3"
    },
    "language_info": {
      "name": "python"
    }
  },
  "cells": [
    {
      "cell_type": "markdown",
      "metadata": {
        "id": "view-in-github",
        "colab_type": "text"
      },
      "source": [
        "<a href=\"https://colab.research.google.com/github/akhil-vijaykumar/StockMarketAnalytics/blob/master/02-dataframe-analysis/Module2_Colab_Working_with_the_data.ipynb\" target=\"_parent\"><img src=\"https://colab.research.google.com/assets/colab-badge.svg\" alt=\"Open In Colab\"/></a>"
      ]
    },
    {
      "cell_type": "markdown",
      "source": [
        "#0) Imports and Installs"
      ],
      "metadata": {
        "id": "pjMrcnzOTjPB"
      }
    },
    {
      "cell_type": "code",
      "source": [
        "!pip install yfinance"
      ],
      "metadata": {
        "colab": {
          "base_uri": "https://localhost:8080/"
        },
        "id": "IVglEGri0ju9",
        "outputId": "13588f63-b357-4c8e-9b0b-167f8068ecc6"
      },
      "execution_count": 1,
      "outputs": [
        {
          "output_type": "stream",
          "name": "stdout",
          "text": [
            "Requirement already satisfied: yfinance in /usr/local/lib/python3.10/dist-packages (0.2.38)\n",
            "Requirement already satisfied: pandas>=1.3.0 in /usr/local/lib/python3.10/dist-packages (from yfinance) (2.0.3)\n",
            "Requirement already satisfied: numpy>=1.16.5 in /usr/local/lib/python3.10/dist-packages (from yfinance) (1.25.2)\n",
            "Requirement already satisfied: requests>=2.31 in /usr/local/lib/python3.10/dist-packages (from yfinance) (2.31.0)\n",
            "Requirement already satisfied: multitasking>=0.0.7 in /usr/local/lib/python3.10/dist-packages (from yfinance) (0.0.11)\n",
            "Requirement already satisfied: lxml>=4.9.1 in /usr/local/lib/python3.10/dist-packages (from yfinance) (4.9.4)\n",
            "Requirement already satisfied: appdirs>=1.4.4 in /usr/local/lib/python3.10/dist-packages (from yfinance) (1.4.4)\n",
            "Requirement already satisfied: pytz>=2022.5 in /usr/local/lib/python3.10/dist-packages (from yfinance) (2023.4)\n",
            "Requirement already satisfied: frozendict>=2.3.4 in /usr/local/lib/python3.10/dist-packages (from yfinance) (2.4.2)\n",
            "Requirement already satisfied: peewee>=3.16.2 in /usr/local/lib/python3.10/dist-packages (from yfinance) (3.17.3)\n",
            "Requirement already satisfied: beautifulsoup4>=4.11.1 in /usr/local/lib/python3.10/dist-packages (from yfinance) (4.12.3)\n",
            "Requirement already satisfied: html5lib>=1.1 in /usr/local/lib/python3.10/dist-packages (from yfinance) (1.1)\n",
            "Requirement already satisfied: soupsieve>1.2 in /usr/local/lib/python3.10/dist-packages (from beautifulsoup4>=4.11.1->yfinance) (2.5)\n",
            "Requirement already satisfied: six>=1.9 in /usr/local/lib/python3.10/dist-packages (from html5lib>=1.1->yfinance) (1.16.0)\n",
            "Requirement already satisfied: webencodings in /usr/local/lib/python3.10/dist-packages (from html5lib>=1.1->yfinance) (0.5.1)\n",
            "Requirement already satisfied: python-dateutil>=2.8.2 in /usr/local/lib/python3.10/dist-packages (from pandas>=1.3.0->yfinance) (2.8.2)\n",
            "Requirement already satisfied: tzdata>=2022.1 in /usr/local/lib/python3.10/dist-packages (from pandas>=1.3.0->yfinance) (2024.1)\n",
            "Requirement already satisfied: charset-normalizer<4,>=2 in /usr/local/lib/python3.10/dist-packages (from requests>=2.31->yfinance) (3.3.2)\n",
            "Requirement already satisfied: idna<4,>=2.5 in /usr/local/lib/python3.10/dist-packages (from requests>=2.31->yfinance) (3.7)\n",
            "Requirement already satisfied: urllib3<3,>=1.21.1 in /usr/local/lib/python3.10/dist-packages (from requests>=2.31->yfinance) (2.0.7)\n",
            "Requirement already satisfied: certifi>=2017.4.17 in /usr/local/lib/python3.10/dist-packages (from requests>=2.31->yfinance) (2024.2.2)\n"
          ]
        }
      ]
    },
    {
      "cell_type": "code",
      "source": [
        "# IMPORTS\n",
        "import numpy as np\n",
        "import pandas as pd\n",
        "\n",
        "#Fin Data Sources\n",
        "import yfinance as yf\n",
        "import pandas_datareader as pdr\n",
        "\n",
        "#Data viz\n",
        "import plotly.graph_objs as go\n",
        "import plotly.express as px\n",
        "\n",
        "import time\n",
        "from datetime import date\n",
        "\n",
        "# for graphs\n",
        "import matplotlib.pyplot as plt\n"
      ],
      "metadata": {
        "id": "hF2-gtPG0sZe"
      },
      "execution_count": 2,
      "outputs": []
    },
    {
      "cell_type": "markdown",
      "source": [
        "# 1) [Code Snippet 1] IPOs data from Web\n",
        "\n",
        "* learn dataframes \"stacking\" (UNION ALL)\n",
        "* learn about type casting\n",
        "* generate new columns (simple and with function)\n"
      ],
      "metadata": {
        "id": "KiD27EofUiu2"
      }
    },
    {
      "cell_type": "code",
      "source": [
        "import pandas as pd\n",
        "import requests\n",
        "\n",
        "headers = {\n",
        "    'User-Agent': 'Mozilla/5.0 (Windows NT 10.0; Win64; x64) AppleWebKit/537.36 (KHTML, like Gecko) Chrome/58.0.3029.110 Safari/537.3',\n",
        "}\n",
        "\n",
        "url = \"https://stockanalysis.com/ipos/2023/\"\n",
        "response = requests.get(url, headers=headers)\n",
        "\n",
        "ipo_dfs = pd.read_html(response.text)"
      ],
      "metadata": {
        "id": "himlyF1FMMYP"
      },
      "execution_count": 3,
      "outputs": []
    },
    {
      "cell_type": "code",
      "source": [
        "response.content"
      ],
      "metadata": {
        "colab": {
          "base_uri": "https://localhost:8080/"
        },
        "id": "44R2h8QK9kOD",
        "outputId": "d5747922-0134-4556-b469-03049022f9f0"
      },
      "execution_count": 11,
      "outputs": [
        {
          "output_type": "execute_result",
          "data": {
            "text/plain": [
              "b'<!doctype html>\\n<html lang=\"en\">\\n\\t<head>\\n\\t\\t<meta charset=\"utf-8\" />\\n\\t\\t<meta name=\"viewport\" content=\"width=device-width, initial-scale=1\" />\\n\\t\\t\\n\\t\\t<link href=\"../../_app/immutable/assets/0.CsUeg04J.css\" rel=\"stylesheet\">\\n\\t\\t<link href=\"../../_app/immutable/assets/___StockTable.BVNI3pnz.css\" rel=\"stylesheet\"><title>All 2024 IPOs (so far) - Stock Analysis</title><!-- HEAD_svelte-1xs9uv8_START --><script defer data-api=\"/cfa/event/\" data-domain=\"stockanalysis.com\" event-is_logged_in=\"false\" event-is_pro=\"false\" src=\"/cfa/js/script.js\"></script><script data-svelte-h=\"svelte-s6v612\">window.plausible =\\n\\t\\t\\twindow.plausible ||\\n\\t\\t\\tfunction () {\\n\\t\\t\\t\\t;(window.plausible.q = window.plausible.q || []).push(arguments)\\n\\t\\t\\t}\\n\\t</script><!-- HEAD_svelte-1xs9uv8_END --><!-- HEAD_svelte-1m45x84_START --><meta name=\"description\" content=\"A list of all the stocks that have gone public with an IPO on the US stock market in the year 2024, so far.\"><link rel=\"canonical\" href=\"https://stockanalysis.com/ipos/2024/\"><meta property=\"og:title\" content=\"All 2024 IPOs (so far) - Stock Analysis\"><meta property=\"og:description\" content=\"A list of all the stocks that have gone public with an IPO on the US stock market in the year 2024, so far.\"><meta property=\"og:url\" content=\"https://stockanalysis.com/ipos/2024/\"><meta property=\"og:image\" content=\"https://stockanalysis.com/img/bear-vs-bull.jpg\"><meta property=\"og:type\" content=\"website\"><meta property=\"og:site_name\" content=\"Stock Analysis\"><meta name=\"twitter:card\" content=\"summary_large_image\"><meta name=\"twitter:site\" content=\"@stock_analysisx\"><meta name=\"twitter:title\" content=\"All 2024 IPOs (so far) - Stock Analysis\"><meta name=\"twitter:description\" content=\"A list of all the stocks that have gone public with an IPO on the US stock market in the year 2024, so far.\"><meta name=\"twitter:image\" content=\"https://stockanalysis.com/img/bear-vs-bull.jpg\"><!-- HEAD_svelte-1m45x84_END -->\\n\\t\\t<link rel=\"shortcut icon\" href=\"https://stockanalysis.com/favicon.ico\" />\\n\\t\\t<link rel=\"icon\" type=\"image/png\" sizes=\"32x32\" href=\"https://stockanalysis.com/favicon-32x32.png\" />\\n\\t\\t<link rel=\"icon\" type=\"image/png\" sizes=\"16x16\" href=\"https://stockanalysis.com/favicon-16x16.png\" />\\n\\t\\t<link rel=\"apple-touch-icon\" href=\"https://stockanalysis.com/apple-touch-icon.png\" sizes=\"180x180\" />\\n\\t</head>\\n\\t<body data-sveltekit-preload-data=\"hover\">\\n\\t\\t<div>    <header class=\"sticky top-0 z-50 bg-white shadow-md dark:bg-dark-800 landscape:static landscape:lg:sticky\"><div class=\"flex flex-row items-center gap-x-1 px-1 py-1.5 tiny:gap-x-1 tiny:px-2 xs:gap-x-3 xs:px-3 sm:py-2 lg:gap-x-4 xxl:px-4 xxxl:px-6\"><a href=\"#main\" class=\"sr-only focus:not-sr-only\" data-svelte-h=\"svelte-18qvitj\">Skip to main content</a>   <button class=\"xxl:hidden\" aria-label=\"Open Menu\" aria-controls=\"left-navigation\" aria-expanded=\"false\"><!-- HTML_TAG_START --><svg class=\"h-8 w-8 cursor-pointer text-faded\" fill=\"none\" viewBox=\"0 0 24 24\" stroke=\"currentColor\" style=\"max-width:40px\"><path stroke-linecap=\"round\" stroke-linejoin=\"round\" stroke-width=\"2\" d=\"M4 6h16M4 12h16M4 18h16\"/></svg><!-- HTML_TAG_END --></button> <a aria-label=\"Stock Analysis home page\" href=\"/\"><div class=\"mx-1 h-8 overflow-hidden md:h-auto lg:mx-0 max-w-[32px] md:max-w-none\"><!-- HTML_TAG_START --><svg viewBox=\"0 0 3060 928\" class=\"h-8 overflow-hidden md:h-9\" style=\"max-width:200px\"><g transform=\"matrix(.1 0 0 -.1 0 928)\"><path d=\"M4435 9024c-357-23-790-113-1155-240C1772 8261 655 6937 391 5361c-49-287-56-383-56-731s9-466 55-741C676 2195 1927 818 3588 371c427-115 782-157 1247-148 331 7 533 31 845 98 1004 218 1905 791 2547 1620 477 616 789 1386 882 2174 134 1129-190 2299-882 3194-606 782-1436 1334-2375 1576-409 106-632 136-1052 140-168 1-332 1-365-1zM2475 7196c18-8 39-25 47-38 11-19 14-325 18-1671l5-1648 798 703c439 387 813 711 832 721 59 32 29 54 592-415 145-120 265-218 269-218 8 0-6-13 744 685l634 590-73 3c-82 3-113 18-131 62-16 38-6 75 27 106 26 24 27 24 249 24h222l26-31 26-31v-440l-29-29c-38-37-88-39-128-5-26 23-28 30-33 120l-5 95-630-586c-852-792-840-781-869-789-14-3-36-4-49 0-12 3-197 149-411 325l-388 321-33-28c-18-15-396-346-839-737l-806-710V2240h170l2 615 3 615 28 27 27 28 283 3c155 2 297 0 316-3 18-3 44-17 57-30l24-24V2240h360v1055c0 1173-4 1112 65 1141 30 12 86 14 325 12 275-3 290-4 317-24 15-11 31-32 34-45 4-13 7-500 8-1081l1-1058h360v1779l24 28 24 28 303 3c216 2 311-1 331-9 60-25 58 14 58-949v-880h360v2508l26 31 26 31h635l27-26 26-27V2240h330c364 0 376-2 400-59 14-35 8-69-19-102l-19-24-2509-5c-1869-4-2516-2-2539 6-17 7-39 22-48 35-15 22-16 229-16 2527 0 2768-5 2548 63 2577 40 18 32 17 72 1z\" fill=\"rgba(60, 116, 212)\"/><path d=\"M6210 3430V2240h360v2380h-360V3430zM4010 3245V2240h350v2010h-350V3245zM5110 3065v-825h360v1650h-360v-825zM2900 2785v-545h360v1090h-360v-545z\" fill=\"rgba(60, 116, 212)\"/><path d=\"M12170 8059c-615-57-1007-330-1132-789-20-75-23-107-23-285s3-209 24-285c43-159 120-296 227-404 187-188 416-308 869-452 350-112 490-174 580-256 70-64 94-113 95-191 0-175-186-279-475-264-315 17-500 155-537 403-6 44-12 80-13 82-2 2-759-152-852-173-21-5-23-11-23-66 0-138 55-303 144-437 59-87 196-220 294-285 317-211 805-307 1281-251 599 69 965 367 1073 869 19 91 16 342-6 445-63 301-247 521-571 683-137 69-236 106-546 205-318 102-431 146-519 202-213 138-190 394 42 476 78 27 130 35 244 35 169 0 260-28 343-106 57-53 86-113 101-210 6-38 12-70 13-71s195 38 431 87 433 89 438 89c13 0 9 79-7 175-70 400-425 676-977 760-131 20-383 27-518 14zM20030 8054c-619-67-1071-358-1317-849-161-319-233-724-204-1138 48-676 310-1156 789-1446 363-219 933-290 1430-177 337 77 630 246 839 485 234 268 380 617 434 1036 19 143 16 502-4 650-81 586-347 1002-798 1244-312 168-750 241-1169 195zm345-734c192-22 316-79 435-199 158-159 241-401 258-748 23-460-64-814-249-1017-143-156-370-238-618-223-404 25-641 265-726 732-25 137-31 498-11 650 66 500 304 771 706 804 52 5 100 9 105 10 6 0 51-4 100-9zM24375 8059c-135-12-372-59-480-94-216-72-432-202-584-354-258-256-417-628-461-1073-16-167-8-544 15-693 68-436 222-763 480-1014 318-310 760-456 1325-438 195 7 312 22 471 62 417 106 726 366 869 732 45 114 86 272 73 283-7 7-790 230-806 230-4 0-7-22-7-49 0-122-79-279-183-364-62-51-193-111-292-133-108-25-349-25-450 0-408 100-582 476-562 1211 14 517 137 779 423 898 212 89 582 79 750-19 55-32 124-108 152-165 31-65 52-169 52-266 0-73 2-83 18-83 27 0 852 187 860 195 12 12 5 218-11 290-62 288-252 521-547 670-151 76-325 126-550 160-133 19-412 27-555 14zM14450 7385v-605h670v540h540V5080h-380v-610h1660v610h-380v2240h540v-540h670v1210h-3320v-605zM26880 7680v-310h390l-2-1142-3-1143-192-3-193-2v-610h1670v610h-390v790h247l48-77c26-43 221-358 433-700l386-623h1046v610h-365l-419 649c-231 357-420 651-420 654-1 3 197 226 438 496l439 491h297v620h-1520v-619l136-3 135-3-222-245c-122-135-264-291-316-347l-95-103h-248v700h330v620h-1610v-310zM25340 3474c-291-34-456-99-590-234-129-128-186-291-177-500 11-237 103-393 311-525 87-55 180-96 366-160 364-125 431-159 469-238 57-118-7-204-170-233-95-17-161-12-263 17-57 17-78 29-122 73-53 54-84 122-84 188 0 15-3 28-7 28-5 0-133-26-287-57l-278-58 5-75c20-289 296-520 697-585 122-19 369-20 478 0 276 48 470 178 566 378 59 123 71 179 70 317-1 185-44 305-151 420-115 125-237 188-583 300-352 115-419 159-428 278-5 76 21 116 103 157 54 27 69 30 160 30 123 0 186-20 239-74 36-37 66-108 66-157 0-20 4-23 28-18 15 3 142 29 282 58l255 52 3 38c5 56-15 135-54 216-79 166-264 287-519 340-87 19-314 32-385 24zM29275 3469c-284-32-507-151-619-332-66-107-87-180-93-323-9-208 41-357 161-479 124-125 228-180 571-300 281-98 309-111 367-163 66-60 83-122 51-189-24-52-78-82-174-99-245-43-447 66-466 252-3 30-9 54-12 54s-131-26-283-57l-278-57v-56c0-124 60-251 170-360 129-127 313-213 531-246 150-23 452-14 564 16 165 44 325 140 406 242 95 119 143 265 142 433 0 290-129 477-420 612-43 20-184 71-315 114-347 114-404 148-429 259-18 76 23 139 116 181 66 30 223 33 301 6 81-28 135-97 149-190 5-29 12-47 19-44 6 2 130 28 276 57s269 57 274 61c18 16-9 163-43 235-40 86-88 145-165 202-127 94-297 152-507 171-129 12-179 12-294 0zM11430 2503c-183-511-337-936-342-945-7-15-23-18-93-18h-85v-400h900v400h-103c-57 0-106 3-109 6s10 54 30 115l37 109 369-2 369-3 38-100c21-55 38-106 39-112 0-10-27-13-105-13h-105v-400l478 2 477 3 3 197 2 197-92 3-93 3-375 943-375 942h-531l-334-927zm704 13c64-181 116-333 116-337 0-11-450-12-450-1-2 20 206 680 211 674 4-4 59-155 123-336zM13690 3230v-200h250l-2-742-3-743-122-3-123-3v-399h1050v400h-120c-87 0-122 3-125 13-3 6-4 224-3 484l3 472 468-685 468-684 282 2 282 3 3 943 2 942h250v400h-1060v-400h250v-490c0-269-1-490-3-490-1 0-212 310-467 690l-465 689-407 1h-408v-200zM17555 3413c-3-10-130-362-282-783-151-421-301-837-332-925l-58-160-86-3-87-3v-399l448 2 447 3 3 198 2 197h-110c-60 0-110 3-110 7 0 5 16 56 36 115l36 108h736l28-72c14-40 33-88 40-107 8-18 14-37 14-42s-47-9-105-9h-105v-400h950v399l-87 3-88 3-375 940-376 940-266 3c-246 2-266 1-273-15zm379-902c64-184 115-336 113-338s-106-2-230-1l-225 3 89 290c49 160 96 314 105 343 9 30 19 50 23 45 5-4 60-158 125-342zM19490 3230v-200h250V1540h-260l2-198 3-197 933-3 932-2v790h-430v-350h-600v1450h250v400h-1080v-200zM21750 3230v-200h185l348-535 347-536-2-207-3-207-122-3-123-3v-399h1080v400h-250v425l329 530 329 530 96 3 96 3v399h-1000v-400h95c52 0 95-3 95-8 0-4-72-130-159-280l-159-273-167 267c-91 146-169 272-172 280-4 11 14 14 96 14h101v400h-1040v-200zM26880 3230v-200h250V1540h-250l2-198 3-197 538-3 537-2v399l-122 3-123 3-3 743-2 742h250v400h-1080v-200z\"/></g></svg><!-- HTML_TAG_END --></div></a> <div class=\"ml-0.5 max-w-screen-xsm grow md:ml-2 xxl:ml-6 xxxl:ml-12\"><form action=\"/symbol-lookup/\" method=\"get\" role=\"search\"><div class=\"relative flex items-center\"><div class=\"absolute inset-y-0 left-0 flex items-center pl-2.5\"><!-- HTML_TAG_START --><svg class=\"h-4 w-4 text-icon xs:h-5 xs:w-5\" fill=\"none\" stroke-linecap=\"round\" stroke-linejoin=\"round\" stroke-width=\"3\" stroke=\"currentColor\" viewBox=\"0 0 24 24\" style=\"max-width: 40px\" aria-hidden=\"true\"><path d=\"M21 21l-6-6m2-5a7 7 0 11-14 0 7 7 0 0114 0z\" /></svg><!-- HTML_TAG_END --></div> <input class=\"grow rounded-sm border border-default py-1.5 pl-7 text-sm placeholder-gray-700 dark:placeholder-gray-200 focus:border-default focus:shadow-lg focus:outline-none focus:ring-0 tiny:pl-8 xs:pl-10 xs:text-base md:py-2 w-full bg-gray-50 hover:bg-white focus:bg-white dark:bg-dark-700 dark:hover:bg-dark-700 dark:focus:bg-dark-700\" type=\"text\" aria-label=\"Search\" role=\"combobox\" aria-expanded=\"false\" aria-controls=\"owned_listbox\" autocomplete=\"off\" spellcheck=\"false\" aria-autocomplete=\"list\" placeholder=\"Company or stock symbol...\" name=\"q\" value=\"\">    </div></form></div>   <div class=\"ml-auto hidden space-x-2 xxl:flex\"><a class=\"inline-flex w-full items-center justify-center whitespace-nowrap rounded-sm bg-white px-4 py-1.5 text-lg font-semibold text-default hover:bg-gray-50 focus:outline-none focus:ring-2 focus:ring-blue-500 dark:bg-dark-800 dark:text-default dark:hover:bg-dark-700\" href=\"/login/\" data-svelte-h=\"svelte-1kqtjev\">Log In</a> <a class=\"inline-flex items-center justify-center whitespace-nowrap rounded-sm border border-transparent bg-blue-brand_light px-4 py-1.5 text-lg font-semibold text-white shadow-sm hover:bg-blue-brand_sharp focus:outline-none focus:ring-2 focus:ring-blue-500 dark:text-white\" href=\"/pro/\">Sign Up</a></div></div></header> <div class=\"grow xxl:grid-cols-leftnav xxl:grid\"> <div class=\"z-40 border-r border-gray-100 bg-white dark:border-neutral-700 dark:bg-dark-800 hidden xxl:block\"><div class=\"top-14 mt-1 overflow-y-auto overscroll-contain bg-white px-3 pb-4 pt-2 dark:bg-dark-800 xs:px-4 sm:px-3 xxl:sticky xxl:mt-0 xxl:px-5 xxl:py-4\" id=\"left-navigation\"><nav class=\"flex flex-col text-sm font-semibold\"><div class=\"flex grow items-center rounded-md text-sm font-semibold text-gray-600 hover:bg-gray-50 hover:text-gray-900 dark:hover:bg-neutral-700\"><a class=\"flex grow items-center px-2 py-1.5 text-gray-600 dark:text-gray-300 xs:py-2\" href=\"/\" title=\"Home\"><!-- HTML_TAG_START --><svg class=\"h-5 w-5 xs:h-6 xs:w-6 text-gray-500 dark:text-dark-400 xxl:h-5 xxl:w-5 xxxl:h-6 xxxl:w-6\" fill=\"none\" viewBox=\"0 0 24 24\" stroke=\"currentColor\" style=\"max-width:40px\" aria-hidden=\"true\"><path stroke-linecap=\"round\" stroke-linejoin=\"round\" stroke-width=\"2\" d=\"M3 12l2-2m0 0l7-7 7 7M5 10v10a1 1 0 001 1h3m10-11l2 2m-2-2v10a1 1 0 01-1 1h-3m-6 0a1 1 0 001-1v-4a1 1 0 011-1h2a1 1 0 011 1v4a1 1 0 001 1m-6 0h6\"/></svg><!-- HTML_TAG_END --> <span class=\"ml-3\">Home</span></a></div><div><div class=\"mt-1 flex grow items-center rounded-md text-sm font-semibold text-gray-600 hover:bg-gray-50 hover:text-gray-900 dark:hover:bg-neutral-700\"><a class=\"mr-1 flex grow items-center px-2 py-1.5 text-gray-600 dark:text-gray-300 xs:py-2 xxl:mr-0\" href=\"/stocks/\" title=\"Stocks\"><!-- HTML_TAG_START --><svg class=\"h-5 w-5 xs:h-6 xs:w-6 text-gray-500 dark:text-dark-400 xxl:h-5 xxl:w-5 xxxl:h-6 xxxl:w-6\" fill=\"none\" viewBox=\"0 0 24 24\" stroke=\"currentColor\" style=\"max-width:40px\" aria-hidden=\"true\"><path stroke-linecap=\"round\" stroke-linejoin=\"round\" stroke-width=\"2\" d=\"M9 19v-6a2 2 0 00-2-2H5a2 2 0 00-2 2v6a2 2 0 002 2h2a2 2 0 002-2zm0 0V9a2 2 0 012-2h2a2 2 0 012 2v10m-6 0a2 2 0 002 2h2a2 2 0 002-2m0 0V5a2 2 0 012-2h2a2 2 0 012 2v14a2 2 0 01-2 2h-2a2 2 0 01-2-2z\"/></svg><!-- HTML_TAG_END --> <span class=\"ml-3\">Stocks</span></a> <button class=\"ml-auto cursor-pointer border-l border-gray-300 px-2 dark:border-dark-600 xxl:px-1\" aria-controls=\"Stocks-menu\" aria-expanded=\"false\" aria-label=\"Expand Stocks menu\"><svg class=\"h-5 w-5 text-gray-300 dark:text-dark-400\" viewBox=\"0 0 20 20\" style=\"max-width: 20px\"><path d=\"M6 6L14 10L6 14V6Z\" fill=\"currentColor\"></path></svg></button></div> <ul class=\"hidden\" id=\"Stocks-menu\"><li><a class=\"block rounded-md py-1.5 pl-11 pr-2 text-gray-600 hover:bg-gray-50 hover:text-gray-900 dark:text-gray-300 hover:dark:bg-dark-700\" href=\"/stocks/screener/\" title=\"Stock Screener\">Stock Screener</a> </li><li><a class=\"block rounded-md py-1.5 pl-11 pr-2 text-gray-600 hover:bg-gray-50 hover:text-gray-900 dark:text-gray-300 hover:dark:bg-dark-700\" href=\"/stocks/earnings-calendar/\" title=\"Earnings Calendar\">Earnings Calendar</a> </li><li><a class=\"block rounded-md py-1.5 pl-11 pr-2 text-gray-600 hover:bg-gray-50 hover:text-gray-900 dark:text-gray-300 hover:dark:bg-dark-700\" href=\"/stocks/industry/\" title=\"By Industry\">By Industry</a> </li><li><a class=\"block rounded-md py-1.5 pl-11 pr-2 text-gray-600 hover:bg-gray-50 hover:text-gray-900 dark:text-gray-300 hover:dark:bg-dark-700\" href=\"/list/\" title=\"Stock Lists\">Stock Lists</a> </li><li><a class=\"block rounded-md py-1.5 pl-11 pr-2 text-gray-600 hover:bg-gray-50 hover:text-gray-900 dark:text-gray-300 hover:dark:bg-dark-700\" href=\"/analysts/\" title=\"Top Analysts\">Top Analysts</a> </li><li><a class=\"block rounded-md py-1.5 pl-11 pr-2 text-gray-600 hover:bg-gray-50 hover:text-gray-900 dark:text-gray-300 hover:dark:bg-dark-700\" href=\"/analysts/top-stocks/\" title=\"Top Stocks\">Top Stocks</a> </li></ul></div><div><div class=\"mt-1 flex grow items-center rounded-md text-sm font-semibold text-gray-600 hover:bg-gray-50 hover:text-gray-900 dark:hover:bg-neutral-700 bg-gray-100 dark:bg-dark-700\"><a class=\"mr-1 flex grow items-center px-2 py-1.5 text-gray-600 dark:text-gray-300 xs:py-2 xxl:mr-0\" href=\"/ipos/\" title=\"IPOs\"><!-- HTML_TAG_START --><svg class=\"h-5 w-5 xs:h-6 xs:w-6 text-gray-500 dark:text-dark-400 xxl:h-5 xxl:w-5 xxxl:h-6 xxxl:w-6\" fill=\"none\" viewBox=\"0 0 24 24\" stroke=\"currentColor\" style=\"max-width:40px\" aria-hidden=\"true\"><path stroke-linecap=\"round\" stroke-linejoin=\"round\" stroke-width=\"2\" d=\"M8 7V3m8 4V3m-9 8h10M5 21h14a2 2 0 002-2V7a2 2 0 00-2-2H5a2 2 0 00-2 2v12a2 2 0 002 2z\"/></svg><!-- HTML_TAG_END --> <span class=\"ml-3\">IPOs</span></a> <button class=\"ml-auto cursor-pointer border-l border-gray-300 px-2 dark:border-dark-600 xxl:px-1\" aria-controls=\"IPOs-menu\" aria-expanded=\"true\" aria-label=\"Expand IPOs menu\"><svg class=\"h-5 w-5 text-gray-300 dark:text-dark-400 rotate-90 text-gray-400\" viewBox=\"0 0 20 20\" style=\"max-width: 20px\"><path d=\"M6 6L14 10L6 14V6Z\" fill=\"currentColor\"></path></svg></button></div> <ul class=\"block pt-0.5\" id=\"IPOs-menu\"><li><a class=\"block rounded-md py-1.5 pl-11 pr-2 text-gray-600 hover:bg-gray-50 hover:text-gray-900 dark:text-gray-300 hover:dark:bg-dark-700\" href=\"/ipos/\" title=\"Recent IPOs\">Recent IPOs</a> </li><li><a class=\"block rounded-md py-1.5 pl-11 pr-2 text-gray-600 hover:bg-gray-50 hover:text-gray-900 dark:text-gray-300 hover:dark:bg-dark-700\" href=\"/ipos/calendar/\" title=\"IPO Calendar\">IPO Calendar</a> </li><li><a class=\"block rounded-md py-1.5 pl-11 pr-2 text-gray-600 hover:bg-gray-50 hover:text-gray-900 dark:text-gray-300 hover:dark:bg-dark-700\" href=\"/ipos/statistics/\" title=\"IPO Statistics\">IPO Statistics</a> </li><li><a class=\"block rounded-md py-1.5 pl-11 pr-2 text-gray-600 hover:bg-gray-50 hover:text-gray-900 dark:text-gray-300 hover:dark:bg-dark-700\" href=\"/ipos/news/\" title=\"IPO News\">IPO News</a> </li><li><a class=\"block rounded-md py-1.5 pl-11 pr-2 text-gray-600 hover:bg-gray-50 hover:text-gray-900 dark:text-gray-300 hover:dark:bg-dark-700\" href=\"/ipos/screener/\" title=\"IPO Screener\">IPO Screener</a> </li></ul></div><div><div class=\"mt-1 flex grow items-center rounded-md text-sm font-semibold text-gray-600 hover:bg-gray-50 hover:text-gray-900 dark:hover:bg-neutral-700\"><a class=\"mr-1 flex grow items-center px-2 py-1.5 text-gray-600 dark:text-gray-300 xs:py-2 xxl:mr-0\" href=\"/etf/\" title=\"ETFs\"><!-- HTML_TAG_START --><svg class=\"h-5 w-5 xs:h-6 xs:w-6 text-gray-500 dark:text-dark-400 xxl:h-5 xxl:w-5 xxxl:h-6 xxxl:w-6\" fill=\"none\" viewBox=\"0 0 24 24\" stroke=\"currentColor\" style=\"max-width:40px\" aria-hidden=\"true\"><path stroke-linecap=\"round\" stroke-linejoin=\"round\" stroke-width=\"2\" d=\"M19 11H5m14 0a2 2 0 012 2v6a2 2 0 01-2 2H5a2 2 0 01-2-2v-6a2 2 0 012-2m14 0V9a2 2 0 00-2-2M5 11V9a2 2 0 012-2m0 0V5a2 2 0 012-2h6a2 2 0 012 2v2M7 7h10\"/></svg><!-- HTML_TAG_END --> <span class=\"ml-3\">ETFs</span></a> <button class=\"ml-auto cursor-pointer border-l border-gray-300 px-2 dark:border-dark-600 xxl:px-1\" aria-controls=\"ETFs-menu\" aria-expanded=\"false\" aria-label=\"Expand ETFs menu\"><svg class=\"h-5 w-5 text-gray-300 dark:text-dark-400\" viewBox=\"0 0 20 20\" style=\"max-width: 20px\"><path d=\"M6 6L14 10L6 14V6Z\" fill=\"currentColor\"></path></svg></button></div> <ul class=\"hidden\" id=\"ETFs-menu\"><li><a class=\"block rounded-md py-1.5 pl-11 pr-2 text-gray-600 hover:bg-gray-50 hover:text-gray-900 dark:text-gray-300 hover:dark:bg-dark-700\" href=\"/etf/screener/\" title=\"ETF Screener\">ETF Screener</a> </li><li><a class=\"block rounded-md py-1.5 pl-11 pr-2 text-gray-600 hover:bg-gray-50 hover:text-gray-900 dark:text-gray-300 hover:dark:bg-dark-700\" href=\"/etf/compare/\" title=\"Comparison Tool\">Comparison Tool</a> </li><li><a class=\"block rounded-md py-1.5 pl-11 pr-2 text-gray-600 hover:bg-gray-50 hover:text-gray-900 dark:text-gray-300 hover:dark:bg-dark-700\" href=\"/etf/list/new/\" title=\"New Launches\">New Launches</a> </li><li><a class=\"block rounded-md py-1.5 pl-11 pr-2 text-gray-600 hover:bg-gray-50 hover:text-gray-900 dark:text-gray-300 hover:dark:bg-dark-700\" href=\"/etf/provider/\" title=\"ETF Providers\">ETF Providers</a> </li></ul></div><div class=\"flex grow items-center rounded-md text-sm font-semibold text-gray-600 hover:bg-gray-50 hover:text-gray-900 dark:hover:bg-neutral-700 mt-1\"><a class=\"flex grow items-center px-2 py-1.5 text-gray-600 dark:text-gray-300 xs:py-2\" href=\"/news/\" title=\"News\"><!-- HTML_TAG_START --><svg class=\"h-5 w-5 xs:h-6 xs:w-6 text-gray-500 dark:text-dark-400 xxl:h-5 xxl:w-5 xxxl:h-6 xxxl:w-6\" fill=\"none\" viewBox=\"0 0 24 24\" stroke=\"currentColor\" style=\"max-width:40px\" aria-hidden=\"true\"><path stroke-linecap=\"round\" stroke-linejoin=\"round\" stroke-width=\"2\" d=\"M19 20H5a2 2 0 01-2-2V6a2 2 0 012-2h10a2 2 0 012 2v1m2 13a2 2 0 01-2-2V7m2 13a2 2 0 002-2V9a2 2 0 00-2-2h-2m-4-3H9M7 16h6M7 8h6v4H7V8z\"/></svg><!-- HTML_TAG_END --> <span class=\"ml-3\">News</span></a></div><div class=\"flex grow items-center rounded-md text-sm font-semibold text-gray-600 hover:bg-gray-50 hover:text-gray-900 dark:hover:bg-neutral-700 mt-1\"><a class=\"flex grow items-center px-2 py-1.5 text-gray-600 dark:text-gray-300 xs:py-2\" href=\"/trending/\" title=\"Trending\"><!-- HTML_TAG_START --><svg class=\"h-5 w-5 xs:h-6 xs:w-6 text-gray-500 dark:text-dark-400 xxl:h-5 xxl:w-5 xxxl:h-6 xxxl:w-6\" fill=\"none\" viewBox=\"0 0 24 24\" stroke=\"currentColor\" style=\"max-width:40px\" aria-hidden=\"true\"><path stroke-linecap=\"round\" stroke-linejoin=\"round\" stroke-width=\"2\" d=\"M13 7h8m0 0v8m0-8l-8 8-4-4-6 6\"/></svg><!-- HTML_TAG_END --> <span class=\"ml-3\">Trending</span></a></div><div><div class=\"mt-1 flex grow items-center rounded-md text-sm font-semibold text-gray-600 hover:bg-gray-50 hover:text-gray-900 dark:hover:bg-neutral-700\"><a class=\"mr-1 flex grow items-center px-2 py-1.5 text-gray-600 dark:text-gray-300 xs:py-2 xxl:mr-0\" href=\"/markets/gainers/\" title=\"Market Movers\"><!-- HTML_TAG_START --><svg class=\"h-5 w-5 xs:h-6 xs:w-6 text-gray-500 dark:text-dark-400 xxl:h-5 xxl:w-5 xxxl:h-6 xxxl:w-6\" fill=\"none\" viewBox=\"0 0 24 24\" stroke=\"currentColor\" style=\"max-width:40px\" aria-hidden=\"true\"><path stroke-linecap=\"round\" stroke-linejoin=\"round\" stroke-width=\"2\" d=\"M16 8v8m-4-5v5m-4-2v2m-2 4h12a2 2 0 002-2V6a2 2 0 00-2-2H6a2 2 0 00-2 2v12a2 2 0 002 2z\"/></svg><!-- HTML_TAG_END --> <span class=\"ml-3\">Market Movers</span></a> <button class=\"ml-auto cursor-pointer border-l border-gray-300 px-2 dark:border-dark-600 xxl:px-1\" aria-controls=\"Market Movers-menu\" aria-expanded=\"false\" aria-label=\"Expand Market Movers menu\"><svg class=\"h-5 w-5 text-gray-300 dark:text-dark-400\" viewBox=\"0 0 20 20\" style=\"max-width: 20px\"><path d=\"M6 6L14 10L6 14V6Z\" fill=\"currentColor\"></path></svg></button></div> <ul class=\"hidden\" id=\"Market Movers-menu\"><li><a class=\"block rounded-md py-1.5 pl-11 pr-2 text-gray-600 hover:bg-gray-50 hover:text-gray-900 dark:text-gray-300 hover:dark:bg-dark-700\" href=\"/markets/gainers/\" title=\"Top Gainers\">Top Gainers</a> </li><li><a class=\"block rounded-md py-1.5 pl-11 pr-2 text-gray-600 hover:bg-gray-50 hover:text-gray-900 dark:text-gray-300 hover:dark:bg-dark-700\" href=\"/markets/losers/\" title=\"Top Losers\">Top Losers</a> </li><li><a class=\"block rounded-md py-1.5 pl-11 pr-2 text-gray-600 hover:bg-gray-50 hover:text-gray-900 dark:text-gray-300 hover:dark:bg-dark-700\" href=\"/markets/active/\" title=\"Most Active\">Most Active</a> </li><li><a class=\"block rounded-md py-1.5 pl-11 pr-2 text-gray-600 hover:bg-gray-50 hover:text-gray-900 dark:text-gray-300 hover:dark:bg-dark-700\" href=\"/markets/premarket/\" title=\"Premarket\">Premarket</a> </li><li><a class=\"block rounded-md py-1.5 pl-11 pr-2 text-gray-600 hover:bg-gray-50 hover:text-gray-900 dark:text-gray-300 hover:dark:bg-dark-700\" href=\"/markets/afterhours/\" title=\"After Hours\">After Hours</a> </li></ul></div><div class=\"flex grow items-center rounded-md text-sm font-semibold text-gray-600 hover:bg-gray-50 hover:text-gray-900 dark:hover:bg-neutral-700 mt-1\"><a class=\"flex grow items-center px-2 py-1.5 text-gray-600 dark:text-gray-300 xs:py-2\" href=\"/actions/\" title=\"Corporate Actions\"><!-- HTML_TAG_START --><svg class=\"h-5 w-5 xs:h-6 xs:w-6 text-gray-500 dark:text-dark-400 xxl:h-5 xxl:w-5 xxxl:h-6 xxxl:w-6\" fill=\"none\" viewBox=\"0 0 24 24\" stroke=\"currentColor\" style=\"max-width:40px\" aria-hidden=\"true\"><path stroke-linecap=\"round\" stroke-linejoin=\"round\" stroke-width=\"2\" d=\"M5 8h14M5 8a2 2 0 110-4h14a2 2 0 110 4M5 8v10a2 2 0 002 2h10a2 2 0 002-2V8m-9 4h4\"/></svg><!-- HTML_TAG_END --> <span class=\"ml-3\">Corporate Actions</span></a></div><div class=\"flex grow items-center rounded-md text-sm font-semibold text-gray-600 hover:bg-gray-50 hover:text-gray-900 dark:hover:bg-neutral-700 mt-1\"><a class=\"flex grow items-center px-2 py-1.5 text-gray-600 dark:text-gray-300 xs:py-2\" href=\"/subscribe/\" title=\"Market Newsletter\"><!-- HTML_TAG_START --><svg class=\"h-5 w-5 xs:h-6 xs:w-6 text-gray-500 dark:text-dark-400 xxl:h-5 xxl:w-5 xxxl:h-6 xxxl:w-6\" fill=\"none\" viewBox=\"0 0 24 24\" stroke=\"currentColor\" style=\"max-width:40px\" aria-hidden=\"true\"><path stroke-linecap=\"round\" stroke-linejoin=\"round\" stroke-width=\"2\" d=\"M21.75 6.75v10.5a2.25 2.25 0 01-2.25 2.25h-15a2.25 2.25 0 01-2.25-2.25V6.75m19.5 0A2.25 2.25 0 0019.5 4.5h-15a2.25 2.25 0 00-2.25 2.25m19.5 0v.243a2.25 2.25 0 01-1.07 1.916l-7.5 4.615a2.25 2.25 0 01-2.36 0L3.32 8.91a2.25 2.25 0 01-1.07-1.916V6.75\" /></svg><!-- HTML_TAG_END --> <span class=\"ml-3\">Market Newsletter</span></a></div><div class=\"flex grow items-center rounded-md text-sm font-semibold text-gray-600 hover:bg-gray-50 hover:text-gray-900 dark:hover:bg-neutral-700\"><a class=\"flex grow items-center px-2 py-1.5 text-gray-600 dark:text-gray-300 xs:py-2\" href=\"/pro/\" title=\"Stock Analysis Pro\"><!-- HTML_TAG_START --><svg class=\"h-5 w-5 xs:h-6 xs:w-6 text-gray-500 dark:text-dark-400 xxl:h-5 xxl:w-5 xxxl:h-6 xxxl:w-6\" fill=\"none\" viewBox=\"0 0 24 24\" stroke=\"currentColor\" style=\"max-width:40px\" aria-hidden=\"true\"><path stroke-linecap=\"round\" stroke-linejoin=\"round\" stroke-width=\"2\" d=\"M19 7.5v3m0 0v3m0-3h3m-3 0h-3m-2.25-4.125a3.375 3.375 0 11-6.75 0 3.375 3.375 0 016.75 0zM4 19.235v-.11a6.375 6.375 0 0112.75 0v.109A12.318 12.318 0 0110.374 21c-2.331 0-4.512-.645-6.374-1.766z\" /></svg><!-- HTML_TAG_END --> <span class=\"ml-3\">Stock Analysis Pro</span></a></div><div class=\"flex grow items-center rounded-md text-sm font-semibold text-gray-600 hover:bg-gray-50 hover:text-gray-900 dark:hover:bg-neutral-700 mt-1\"><a class=\"flex grow items-center px-2 py-1.5 text-gray-600 dark:text-gray-300 xs:py-2\" href=\"/watchlist/\" title=\"Watchlist\"><!-- HTML_TAG_START --><svg class=\"h-5 w-5 xs:h-6 xs:w-6 text-gray-500 dark:text-dark-400 xxl:h-5 xxl:w-5 xxxl:h-6 xxxl:w-6\" fill=\"none\" viewBox=\"0 0 24 24\" stroke=\"currentColor\" style=\"max-width:40px\" aria-hidden=\"true\"><path stroke-linecap=\"round\" stroke-linejoin=\"round\" stroke-width=\"2\" d=\"M12 4v16m8-8H4\" /></svg><!-- HTML_TAG_END --> <span class=\"ml-3\">Watchlist</span></a></div></nav> <div class=\"mt-4 hidden cursor-pointer items-center border-t border-default pt-1 xxl:flex\"><button class=\"flex grow items-center rounded-md text-sm font-semibold text-gray-600 hover:bg-gray-50 hover:text-gray-900 dark:text-gray-300 hover:dark:bg-dark-700 xxl:p-2\" title=\"Collapse Menu\"><!-- HTML_TAG_START --><svg class=\"h-6 w-6 text-gray-500 dark:text-dark-400 xxl:h-5 xxl:w-5 xxxl:h-6 xxxl:w-6\" fill=\"none\" viewBox=\"0 0 24 24\" stroke=\"currentColor\" style=\"max-width:40px\"><path stroke-linecap=\"round\" stroke-linejoin=\"round\" stroke-width=\"2\" d=\"M11 19l-7-7 7-7m8 14l-7-7 7-7\"/></svg><!-- HTML_TAG_END --> <span class=\"ml-3\">Collapse</span></button></div></div> </div> <div> <main id=\"main\" class=\"contain\"> <h1>All 2024 IPOs</h1> <nav class=\"mb-1.5 border-b-[3px] border-below-title dark:border-gray-500\"><ul class=\"navmenu\"><li><a href=\"/ipos/\" data-title=\"IPOs\" class=\"active\" data-svelte-h=\"svelte-1bhiis3\">Recent</a></li> <li><a href=\"/ipos/calendar/\" data-title=\"Calendar\" data-svelte-h=\"svelte-1ytno9j\">Calendar</a></li> <li><a href=\"/ipos/statistics/\" data-title=\"Statistics\" data-svelte-h=\"svelte-13wni21\">Statistics</a></li> <li><a href=\"/ipos/news/\" data-title=\"News\" data-svelte-h=\"svelte-zayr5d\">News</a></li></ul></nav> <div class=\"wrsb\"><div><nav class=\"mb-3\"><ul class=\"navmenu\"><li><a href=\"/ipos/\" data-title=\"Latest\" data-svelte-h=\"svelte-99iqag\">Latest</a></li> <li><a href=\"/ipos/2024/\" data-title=\"2024\" class=\"active\" data-svelte-h=\"svelte-1hdvzzv\">2024</a></li> <li><a href=\"/ipos/2023/\" data-title=\"2023\" data-svelte-h=\"svelte-rag93n\">2023</a></li> <li><a href=\"/ipos/2022/\" data-title=\"2022\" data-svelte-h=\"svelte-yjs2jf\">2022</a></li> <li><a href=\"/ipos/2021/\" data-title=\"2021\" data-svelte-h=\"svelte-104a47v\">2021</a></li> <li><a href=\"/ipos/2020/\" data-title=\"2020\" data-svelte-h=\"svelte-1khaofv\">2020</a></li> <li><a href=\"/ipos/2019/\" data-title=\"2019\" data-svelte-h=\"svelte-pw48fj\">2019</a></li></ul></nav> <div class=\"mb-2 mt-4 lg:mb-3\"><div class=\"rounded border border-gray-300 bg-white p-3 dark:border-dark-600 dark:bg-contrast-light sm:p-4\"><div class=\"flex-row items-center sm:flex sm:space-x-4\"><div class=\"float-left mr-1 shrink-0 sm:mr-0 sm:block\"><!-- HTML_TAG_START --><svg class=\"h-6 sm:h-7 w-6 sm:w-7 text-blue-400\" viewBox=\"0 0 20 20\" fill=\"currentColor\" style=\"max-width:40px\" aria-hidden=\"true\"><path fill-rule=\"evenodd\" d=\"M18 10a8 8 0 11-16 0 8 8 0 0116 0zm-7-4a1 1 0 11-2 0 1 1 0 012 0zM9 9a1 1 0 000 2v3a1 1 0 001 1h1a1 1 0 100-2v-3a1 1 0 00-1-1H9z\" clip-rule=\"evenodd\"/></svg><!-- HTML_TAG_END --></div> <div class=\"flex-1 sm:ml-3 md:flex md:justify-between\"><p class=\"text-base md:text-lg\"></p></div></div></div></div>  <div class=\"controls groups\"><div class=\"title-group\"><h2>64 IPOs</h2>  <button class=\"ml-auto block md:hidden\" aria-label=\"Open table menu\"><!-- HTML_TAG_START --><svg class=\"h-7 w-7 text-gray-700 dark:text-dark-200 bp:h-[1.9rem] bp:w-[1.9rem]\" viewBox=\"0 0 20 20\" fill=\"currentColor\" style=\"max-width:40px\"><path fill-rule=\"evenodd\" d=\"M5.293 7.293a1 1 0 011.414 0L10 10.586l3.293-3.293a1 1 0 111.414 1.414l-4 4a1 1 0 01-1.414 0l-4-4a1 1 0 010-1.414z\" clip-rule=\"evenodd\"/></svg><!-- HTML_TAG_END --></button></div> <div class=\"btn-group hidem\"><div class=\"relative flex min-w-[80px] max-w-[100px] items-center xs:max-w-[130px] sm:max-w-[150px]\"><label for=\"filter\" class=\"sr-only\" data-svelte-h=\"svelte-134vv3h\">Filter results</label> <input class=\"controls-input w-full focus:border-blue-500 focus:ring-blue-500 sm:py-2\" type=\"text\" name=\"filter\" id=\"filter\" autocomplete=\"off\" placeholder=\"Filter...\"> <div class=\"absolute inset-y-0 right-0 flex items-center pr-3\"></div></div>  <div class=\"relative inline-block text-left\"><button class=\"controls-btn hidden tiny:flex\"><span class=\"truncate\">Export</span> <!-- HTML_TAG_START --><svg class=\"-mr-1 ml-1 h-5 w-5 xs:ml-2 undefined\" viewBox=\"0 0 20 20\" fill=\"currentColor\" style=\"max-width:40px\" aria-hidden=\"true\"><path fill-rule=\"evenodd\" d=\"M5.293 7.293a1 1 0 011.414 0L10 10.586l3.293-3.293a1 1 0 111.414 1.414l-4 4a1 1 0 01-1.414 0l-4-4a1 1 0 010-1.414z\" clip-rule=\"evenodd\"/></svg><!-- HTML_TAG_END --></button> </div> <div class=\"relative inline-block text-left\"><button class=\"controls-btn\"><span class=\"truncate\">Columns</span> <!-- HTML_TAG_START --><svg class=\"-mr-1 ml-1 h-5 w-5 xs:ml-2 undefined\" viewBox=\"0 0 20 20\" fill=\"currentColor\" style=\"max-width:40px\" aria-hidden=\"true\"><path fill-rule=\"evenodd\" d=\"M5.293 7.293a1 1 0 011.414 0L10 10.586l3.293-3.293a1 1 0 111.414 1.414l-4 4a1 1 0 01-1.414 0l-4-4a1 1 0 010-1.414z\" clip-rule=\"evenodd\"/></svg><!-- HTML_TAG_END --></button> </div> <div class=\"relative inline-block text-left\"><button class=\"controls-btn\" aria-label=\"Table options\"><!-- HTML_TAG_START --><svg class=\"w-5 h-5\" fill=\"none\" viewBox=\"0 0 24 24\" stroke=\"currentColor\" style=\"max-width:40px\"><path stroke-linecap=\"round\" stroke-linejoin=\"round\" stroke-width=\"2\" d=\"M12 5v.01M12 12v.01M12 19v.01M12 6a1 1 0 110-2 1 1 0 010 2zm0 7a1 1 0 110-2 1 1 0 010 2zm0 7a1 1 0 110-2 1 1 0 010 2z\"/></svg><!-- HTML_TAG_END --></button> </div></div></div>     <div id=\"main-table-wrap\" class=\"styled-scrollbar bottom-scrollbar overflow-x-auto\"><table id=\"main-table\" class=\"symbol-table svelte-eurwtr\"><thead><tr class=\"svelte-eurwtr\"><th id=\"ipoDate\" class=\" svelte-eurwtr\" draggable=\"true\"> <span class=\"svelte-eurwtr\">IPO Date <!-- HTML_TAG_START --><svg class=\"mt-0.5 w-4 h-4\" viewBox=\"0 0 20 20\" fill=\"currentColor\" style=\"max-width:40px\"><path fill-rule=\"evenodd\" d=\"M5.293 7.293a1 1 0 011.414 0L10 10.586l3.293-3.293a1 1 0 111.414 1.414l-4 4a1 1 0 01-1.414 0l-4-4a1 1 0 010-1.414z\" clip-rule=\"evenodd\"/></svg><!-- HTML_TAG_END --></span> </th><th id=\"s\" class=\"sym svelte-eurwtr\" draggable=\"true\">Symbol </th><th id=\"n\" class=\"slw svelte-eurwtr\" draggable=\"true\">Company Name </th><th id=\"ipoPrice\" class=\" svelte-eurwtr\" draggable=\"true\">IPO Price </th><th id=\"ippc\" class=\" svelte-eurwtr\" draggable=\"true\">Current </th><th id=\"ipr\" class=\" svelte-eurwtr\" draggable=\"true\">Return </th></tr></thead> <tbody><tr class=\"svelte-eurwtr\"><td class=\"svelte-eurwtr\">May 1, 2024</td><td class=\"sym svelte-eurwtr\"><!-- HTML_TAG_START --><a href=\"/stocks/vik/\">VIK</a><!-- HTML_TAG_END --></td><td class=\"slw svelte-eurwtr\">Viking Holdings Ltd.</td><td class=\"svelte-eurwtr\">$24.00</td><td class=\"svelte-eurwtr\">$26.99</td><td class=\"rg svelte-eurwtr\">12.46%</td> </tr><tr class=\"svelte-eurwtr\"><td class=\"svelte-eurwtr\">Apr 26, 2024</td><td class=\"sym svelte-eurwtr\"><!-- HTML_TAG_START --><a href=\"/stocks/zone/\">ZONE</a><!-- HTML_TAG_END --></td><td class=\"slw svelte-eurwtr\">CleanCore Solutions, Inc.</td><td class=\"svelte-eurwtr\">$4.00</td><td class=\"svelte-eurwtr\">$3.02</td><td class=\"rr svelte-eurwtr\">-24.63%</td> </tr><tr class=\"svelte-eurwtr\"><td class=\"svelte-eurwtr\">Apr 25, 2024</td><td class=\"sym svelte-eurwtr\"><!-- HTML_TAG_START --><a href=\"/stocks/rbrk/\">RBRK</a><!-- HTML_TAG_END --></td><td class=\"slw svelte-eurwtr\">Rubrik, Inc.</td><td class=\"svelte-eurwtr\">$32.00</td><td class=\"svelte-eurwtr\">$33.91</td><td class=\"rg svelte-eurwtr\">5.97%</td> </tr><tr class=\"svelte-eurwtr\"><td class=\"svelte-eurwtr\">Apr 25, 2024</td><td class=\"sym svelte-eurwtr\"><!-- HTML_TAG_START --><a href=\"/stocks/loar/\">LOAR</a><!-- HTML_TAG_END --></td><td class=\"slw svelte-eurwtr\">Loar Holdings Inc.</td><td class=\"svelte-eurwtr\">$28.00</td><td class=\"svelte-eurwtr\">$46.40</td><td class=\"rg svelte-eurwtr\">65.71%</td> </tr><tr class=\"svelte-eurwtr\"><td class=\"svelte-eurwtr\">Apr 25, 2024</td><td class=\"sym svelte-eurwtr\"><!-- HTML_TAG_START --><a href=\"/stocks/mrx/\">MRX</a><!-- HTML_TAG_END --></td><td class=\"slw svelte-eurwtr\">Marex Group plc</td><td class=\"svelte-eurwtr\">$19.00</td><td class=\"svelte-eurwtr\">$18.85</td><td class=\"rr svelte-eurwtr\">-0.79%</td> </tr><tr class=\"svelte-eurwtr\"><td class=\"svelte-eurwtr\">Apr 23, 2024</td><td class=\"sym svelte-eurwtr\"><!-- HTML_TAG_START --><a href=\"/stocks/nci/\">NCI</a><!-- HTML_TAG_END --></td><td class=\"slw svelte-eurwtr\">Neo-Concept International Group Holdings Limited</td><td class=\"svelte-eurwtr\">$4.00</td><td class=\"svelte-eurwtr\">$1.17</td><td class=\"rr svelte-eurwtr\">-70.75%</td> </tr><tr class=\"svelte-eurwtr\"><td class=\"svelte-eurwtr\">Apr 22, 2024</td><td class=\"sym svelte-eurwtr\"><!-- HTML_TAG_START --><a href=\"/stocks/yygh/\">YYGH</a><!-- HTML_TAG_END --></td><td class=\"slw svelte-eurwtr\">YY Group Holding Limited</td><td class=\"svelte-eurwtr\">$4.00</td><td class=\"svelte-eurwtr\">$2.22</td><td class=\"rr svelte-eurwtr\">-45.00%</td> </tr><tr class=\"svelte-eurwtr\"><td class=\"svelte-eurwtr\">Apr 22, 2024</td><td class=\"sym svelte-eurwtr\"><!-- HTML_TAG_START --><a href=\"/stocks/mfi/\">MFI</a><!-- HTML_TAG_END --></td><td class=\"slw svelte-eurwtr\">mF International Limited</td><td class=\"svelte-eurwtr\">$5.00</td><td class=\"svelte-eurwtr\">$1.40</td><td class=\"rr svelte-eurwtr\">-72.00%</td> </tr><tr class=\"svelte-eurwtr\"><td class=\"svelte-eurwtr\">Apr 19, 2024</td><td class=\"sym svelte-eurwtr\"><!-- HTML_TAG_START --><a href=\"/stocks/trsg/\">TRSG</a><!-- HTML_TAG_END --></td><td class=\"slw svelte-eurwtr\">Tungray Technologies Inc</td><td class=\"svelte-eurwtr\">$4.00</td><td class=\"svelte-eurwtr\">$6.57</td><td class=\"rg svelte-eurwtr\">64.25%</td> </tr><tr class=\"svelte-eurwtr\"><td class=\"svelte-eurwtr\">Apr 18, 2024</td><td class=\"sym svelte-eurwtr\"><!-- HTML_TAG_START --><a href=\"/stocks/ibta/\">IBTA</a><!-- HTML_TAG_END --></td><td class=\"slw svelte-eurwtr\">Ibotta, Inc.</td><td class=\"svelte-eurwtr\">$88.00</td><td class=\"svelte-eurwtr\">$103.99</td><td class=\"rg svelte-eurwtr\">18.17%</td> </tr><tr class=\"svelte-eurwtr\"><td class=\"svelte-eurwtr\">Apr 18, 2024</td><td class=\"sym svelte-eurwtr\"><!-- HTML_TAG_START --><a href=\"/stocks/ctri/\">CTRI</a><!-- HTML_TAG_END --></td><td class=\"slw svelte-eurwtr\">Centuri Holdings, Inc.</td><td class=\"svelte-eurwtr\">$21.00</td><td class=\"svelte-eurwtr\">$24.28</td><td class=\"rg svelte-eurwtr\">15.62%</td> </tr><tr class=\"svelte-eurwtr\"><td class=\"svelte-eurwtr\">Apr 18, 2024</td><td class=\"sym svelte-eurwtr\"><!-- HTML_TAG_START --><a href=\"/stocks/cdtg/\">CDTG</a><!-- HTML_TAG_END --></td><td class=\"slw svelte-eurwtr\">CDT Environmental Technology Investment Holdings Limited</td><td class=\"svelte-eurwtr\">$4.00</td><td class=\"svelte-eurwtr\">$3.32</td><td class=\"rr svelte-eurwtr\">-17.00%</td> </tr><tr class=\"svelte-eurwtr\"><td class=\"svelte-eurwtr\">Apr 18, 2024</td><td class=\"sym svelte-eurwtr\"><!-- HTML_TAG_START --><a href=\"/stocks/mten/\">MTEN</a><!-- HTML_TAG_END --></td><td class=\"slw svelte-eurwtr\">Mingteng International Corporation Inc.</td><td class=\"svelte-eurwtr\">$4.00</td><td class=\"svelte-eurwtr\">$4.50</td><td class=\"rg svelte-eurwtr\">12.53%</td> </tr><tr class=\"svelte-eurwtr\"><td class=\"svelte-eurwtr\">Apr 17, 2024</td><td class=\"sym svelte-eurwtr\"><!-- HTML_TAG_START --><a href=\"/stocks/june/\">JUNE</a><!-- HTML_TAG_END --></td><td class=\"slw svelte-eurwtr\">Junee Limited</td><td class=\"svelte-eurwtr\">$4.00</td><td class=\"svelte-eurwtr\">$4.00</td><td class=\"svelte-eurwtr\" data-svelte-h=\"svelte-17887i7\">-</td> </tr><tr class=\"svelte-eurwtr\"><td class=\"svelte-eurwtr\">Apr 16, 2024</td><td class=\"sym svelte-eurwtr\"><!-- HTML_TAG_START --><a href=\"/stocks/twg/\">TWG</a><!-- HTML_TAG_END --></td><td class=\"slw svelte-eurwtr\">Top Wealth Group Holding Limited</td><td class=\"svelte-eurwtr\">$4.00</td><td class=\"svelte-eurwtr\">$1.26</td><td class=\"rr svelte-eurwtr\">-68.50%</td> </tr><tr class=\"svelte-eurwtr\"><td class=\"svelte-eurwtr\">Apr 12, 2024</td><td class=\"sym svelte-eurwtr\"><!-- HTML_TAG_START --><a href=\"/stocks/uls/\">ULS</a><!-- HTML_TAG_END --></td><td class=\"slw svelte-eurwtr\">UL Solutions Inc.</td><td class=\"svelte-eurwtr\">$28.00</td><td class=\"svelte-eurwtr\">$35.15</td><td class=\"rg svelte-eurwtr\">25.54%</td> </tr><tr class=\"svelte-eurwtr\"><td class=\"svelte-eurwtr\">Apr 11, 2024</td><td class=\"sym svelte-eurwtr\"><!-- HTML_TAG_START --><a href=\"/stocks/pacs/\">PACS</a><!-- HTML_TAG_END --></td><td class=\"slw svelte-eurwtr\">PACS Group, Inc.</td><td class=\"svelte-eurwtr\">$21.00</td><td class=\"svelte-eurwtr\">$24.99</td><td class=\"rg svelte-eurwtr\">19.00%</td> </tr><tr class=\"svelte-eurwtr\"><td class=\"svelte-eurwtr\">Apr 10, 2024</td><td class=\"sym svelte-eurwtr\"><!-- HTML_TAG_START --><a href=\"/stocks/mndr/\">MNDR</a><!-- HTML_TAG_END --></td><td class=\"slw svelte-eurwtr\">Mobile-health Network Solutions</td><td class=\"svelte-eurwtr\">$4.00</td><td class=\"svelte-eurwtr\">$22.07</td><td class=\"rg svelte-eurwtr\">451.75%</td> </tr><tr class=\"svelte-eurwtr\"><td class=\"svelte-eurwtr\">Apr 5, 2024</td><td class=\"sym svelte-eurwtr\"><!-- HTML_TAG_START --><a href=\"/stocks/ctnm/\">CTNM</a><!-- HTML_TAG_END --></td><td class=\"slw svelte-eurwtr\">Contineum Therapeutics, Inc.</td><td class=\"svelte-eurwtr\">$16.00</td><td class=\"svelte-eurwtr\">$14.90</td><td class=\"rr svelte-eurwtr\">-6.88%</td> </tr><tr class=\"svelte-eurwtr\"><td class=\"svelte-eurwtr\">Apr 2, 2024</td><td class=\"sym svelte-eurwtr\"><!-- HTML_TAG_START --><a href=\"/stocks/mamo/\">MAMO</a><!-- HTML_TAG_END --></td><td class=\"slw svelte-eurwtr\">Massimo Group</td><td class=\"svelte-eurwtr\">$4.50</td><td class=\"svelte-eurwtr\">$3.97</td><td class=\"rr svelte-eurwtr\">-11.89%</td> </tr><tr class=\"svelte-eurwtr\"><td class=\"svelte-eurwtr\">Apr 2, 2024</td><td class=\"sym svelte-eurwtr\"><!-- HTML_TAG_START --><a href=\"/stocks/zbao/\">ZBAO</a><!-- HTML_TAG_END --></td><td class=\"slw svelte-eurwtr\">Zhibao Technology Inc.</td><td class=\"svelte-eurwtr\">$4.00</td><td class=\"svelte-eurwtr\">$3.31</td><td class=\"rr svelte-eurwtr\">-17.25%</td> </tr><tr class=\"svelte-eurwtr\"><td class=\"svelte-eurwtr\">Mar 28, 2024</td><td class=\"sym svelte-eurwtr\"><!-- HTML_TAG_START --><a href=\"/stocks/bold/\">BOLD</a><!-- HTML_TAG_END --></td><td class=\"slw svelte-eurwtr\">Boundless Bio, Inc.</td><td class=\"svelte-eurwtr\">$16.00</td><td class=\"svelte-eurwtr\">$9.05</td><td class=\"rr svelte-eurwtr\">-43.44%</td> </tr><tr class=\"svelte-eurwtr\"><td class=\"svelte-eurwtr\">Mar 28, 2024</td><td class=\"sym svelte-eurwtr\"><!-- HTML_TAG_START --><a href=\"/stocks/ubxg/\">UBXG</a><!-- HTML_TAG_END --></td><td class=\"slw svelte-eurwtr\">U-BX Technology Ltd.</td><td class=\"svelte-eurwtr\">$5.00</td><td class=\"svelte-eurwtr\">$4.51</td><td class=\"rr svelte-eurwtr\">-9.80%</td> </tr><tr class=\"svelte-eurwtr\"><td class=\"svelte-eurwtr\">Mar 28, 2024</td><td class=\"sym svelte-eurwtr\"><!-- HTML_TAG_START --><a href=\"/stocks/mma/\">MMA</a><!-- HTML_TAG_END --></td><td class=\"slw svelte-eurwtr\">Alta Global Group Limited</td><td class=\"svelte-eurwtr\">$5.00</td><td class=\"svelte-eurwtr\">$3.28</td><td class=\"rr svelte-eurwtr\">-34.40%</td> </tr><tr class=\"svelte-eurwtr\"><td class=\"svelte-eurwtr\">Mar 26, 2024</td><td class=\"sym svelte-eurwtr\"><!-- HTML_TAG_START --><a href=\"/stocks/ibac/\">IBAC</a><!-- HTML_TAG_END --></td><td class=\"slw svelte-eurwtr\">IB Acquisition Corp.</td><td class=\"svelte-eurwtr\">$10.00</td><td class=\"svelte-eurwtr\">$10.05</td><td class=\"rg svelte-eurwtr\">0.50%</td> </tr><tr class=\"svelte-eurwtr\"><td class=\"svelte-eurwtr\">Mar 22, 2024</td><td class=\"sym svelte-eurwtr\"><!-- HTML_TAG_START --><a href=\"/stocks/auna/\">AUNA</a><!-- HTML_TAG_END --></td><td class=\"slw svelte-eurwtr\">Auna S.A.</td><td class=\"svelte-eurwtr\">$12.00</td><td class=\"svelte-eurwtr\">$6.76</td><td class=\"rr svelte-eurwtr\">-43.67%</td> </tr><tr class=\"svelte-eurwtr\"><td class=\"svelte-eurwtr\">Mar 21, 2024</td><td class=\"sym svelte-eurwtr\"><!-- HTML_TAG_START --><a href=\"/stocks/rddt/\">RDDT</a><!-- HTML_TAG_END --></td><td class=\"slw svelte-eurwtr\">Reddit, Inc.</td><td class=\"svelte-eurwtr\">$34.00</td><td class=\"svelte-eurwtr\">$47.70</td><td class=\"rg svelte-eurwtr\">40.29%</td> </tr><tr class=\"svelte-eurwtr\"><td class=\"svelte-eurwtr\">Mar 21, 2024</td><td class=\"sym svelte-eurwtr\"><!-- HTML_TAG_START --><a href=\"/stocks/bkha/\">BKHA</a><!-- HTML_TAG_END --></td><td class=\"slw svelte-eurwtr\">Black Hawk Acquisition Corporation</td><td class=\"svelte-eurwtr\">$10.00</td><td class=\"svelte-eurwtr\">$10.30</td><td class=\"rg svelte-eurwtr\">3.00%</td> </tr><tr class=\"svelte-eurwtr\"><td class=\"svelte-eurwtr\">Mar 21, 2024</td><td class=\"sym svelte-eurwtr\"><!-- HTML_TAG_START --><a href=\"/stocks/lobo/\">LOBO</a><!-- HTML_TAG_END --></td><td class=\"slw svelte-eurwtr\">LOBO EV Technologies Ltd</td><td class=\"svelte-eurwtr\">$4.00</td><td class=\"svelte-eurwtr\">$3.03</td><td class=\"rr svelte-eurwtr\">-24.25%</td> </tr><tr class=\"svelte-eurwtr\"><td class=\"svelte-eurwtr\">Mar 20, 2024</td><td class=\"sym svelte-eurwtr\"><!-- HTML_TAG_START --><a href=\"/stocks/alab/\">ALAB</a><!-- HTML_TAG_END --></td><td class=\"slw svelte-eurwtr\">Astera Labs, Inc.</td><td class=\"svelte-eurwtr\">$36.00</td><td class=\"svelte-eurwtr\">$79.06</td><td class=\"rg svelte-eurwtr\">119.61%</td> </tr><tr class=\"svelte-eurwtr\"><td class=\"svelte-eurwtr\">Mar 20, 2024</td><td class=\"sym svelte-eurwtr\"><!-- HTML_TAG_START --><a href=\"/stocks/intj/\">INTJ</a><!-- HTML_TAG_END --></td><td class=\"slw svelte-eurwtr\">Intelligent Group Limited</td><td class=\"svelte-eurwtr\">$4.00</td><td class=\"svelte-eurwtr\">$1.12</td><td class=\"rr svelte-eurwtr\">-72.00%</td> </tr><tr class=\"svelte-eurwtr\"><td class=\"svelte-eurwtr\">Mar 6, 2024</td><td class=\"sym svelte-eurwtr\"><!-- HTML_TAG_START --><a href=\"/stocks/ryde/\">RYDE</a><!-- HTML_TAG_END --></td><td class=\"slw svelte-eurwtr\">Ryde Group Ltd</td><td class=\"svelte-eurwtr\">$4.00</td><td class=\"svelte-eurwtr\">$3.90</td><td class=\"rr svelte-eurwtr\">-2.50%</td> </tr><tr class=\"svelte-eurwtr\"><td class=\"svelte-eurwtr\">Mar 5, 2024</td><td class=\"sym svelte-eurwtr\"><!-- HTML_TAG_START --><a href=\"/stocks/lgcl/\">LGCL</a><!-- HTML_TAG_END --></td><td class=\"slw svelte-eurwtr\">Lucas GC Limited</td><td class=\"svelte-eurwtr\">$4.00</td><td class=\"svelte-eurwtr\">$3.07</td><td class=\"rr svelte-eurwtr\">-23.25%</td> </tr><tr class=\"svelte-eurwtr\"><td class=\"svelte-eurwtr\">Feb 27, 2024</td><td class=\"sym svelte-eurwtr\"><!-- HTML_TAG_START --><a href=\"/stocks/smxt/\">SMXT</a><!-- HTML_TAG_END --></td><td class=\"slw svelte-eurwtr\">SolarMax Technology, Inc.</td><td class=\"svelte-eurwtr\">$4.00</td><td class=\"svelte-eurwtr\">$10.36</td><td class=\"rg svelte-eurwtr\">159.00%</td> </tr><tr class=\"svelte-eurwtr\"><td class=\"svelte-eurwtr\">Feb 22, 2024</td><td class=\"sym svelte-eurwtr\"><!-- HTML_TAG_START --><a href=\"/stocks/vhai/\">VHAI</a><!-- HTML_TAG_END --></td><td class=\"slw svelte-eurwtr\">Vocodia Holdings Corp</td><td class=\"svelte-eurwtr\">$4.25</td><td class=\"svelte-eurwtr\">$0.16</td><td class=\"rr svelte-eurwtr\">-96.16%</td> </tr><tr class=\"svelte-eurwtr\"><td class=\"svelte-eurwtr\">Feb 21, 2024</td><td class=\"sym svelte-eurwtr\"><!-- HTML_TAG_START --><a href=\"/stocks/dycq/\">DYCQ</a><!-- HTML_TAG_END --></td><td class=\"slw svelte-eurwtr\">DT Cloud Acquisition Corporation</td><td class=\"svelte-eurwtr\">$10.00</td><td class=\"svelte-eurwtr\">$10.35</td><td class=\"rg svelte-eurwtr\">1.70%</td> </tr><tr class=\"svelte-eurwtr\"><td class=\"svelte-eurwtr\">Feb 16, 2024</td><td class=\"sym svelte-eurwtr\"><!-- HTML_TAG_START --><a href=\"/stocks/chro/\">CHRO</a><!-- HTML_TAG_END --></td><td class=\"slw svelte-eurwtr\">Chromocell Therapeutics Corp</td><td class=\"svelte-eurwtr\">$6.00</td><td class=\"svelte-eurwtr\">$1.74</td><td class=\"rr svelte-eurwtr\">-71.00%</td> </tr><tr class=\"svelte-eurwtr\"><td class=\"svelte-eurwtr\">Feb 14, 2024</td><td class=\"sym svelte-eurwtr\"><!-- HTML_TAG_START --><a href=\"/stocks/umac/\">UMAC</a><!-- HTML_TAG_END --></td><td class=\"slw svelte-eurwtr\">Unusual Machines, Inc.</td><td class=\"svelte-eurwtr\">$4.00</td><td class=\"svelte-eurwtr\">$1.23</td><td class=\"rr svelte-eurwtr\">-69.25%</td> </tr><tr class=\"svelte-eurwtr\"><td class=\"svelte-eurwtr\">Feb 9, 2024</td><td class=\"sym svelte-eurwtr\"><!-- HTML_TAG_START --><a href=\"/stocks/tbbb/\">TBBB</a><!-- HTML_TAG_END --></td><td class=\"slw svelte-eurwtr\">BBB Foods Inc.</td><td class=\"svelte-eurwtr\">$17.50</td><td class=\"svelte-eurwtr\">$23.00</td><td class=\"rg svelte-eurwtr\">31.43%</td> </tr><tr class=\"svelte-eurwtr\"><td class=\"svelte-eurwtr\">Feb 9, 2024</td><td class=\"sym svelte-eurwtr\"><!-- HTML_TAG_START --><a href=\"/stocks/hlxb/\">HLXB</a><!-- HTML_TAG_END --></td><td class=\"slw svelte-eurwtr\">Helix Acquisition Corp. II</td><td class=\"svelte-eurwtr\">$10.00</td><td class=\"svelte-eurwtr\">$10.23</td><td class=\"rg svelte-eurwtr\">2.30%</td> </tr><tr class=\"svelte-eurwtr\"><td class=\"svelte-eurwtr\">Feb 9, 2024</td><td class=\"sym svelte-eurwtr\"><!-- HTML_TAG_START --><a href=\"/stocks/mgx/\">MGX</a><!-- HTML_TAG_END --></td><td class=\"slw svelte-eurwtr\">Metagenomi, Inc.</td><td class=\"svelte-eurwtr\">$15.00</td><td class=\"svelte-eurwtr\">$6.17</td><td class=\"rr svelte-eurwtr\">-58.87%</td> </tr><tr class=\"svelte-eurwtr\"><td class=\"svelte-eurwtr\">Feb 9, 2024</td><td class=\"sym svelte-eurwtr\"><!-- HTML_TAG_START --><a href=\"/stocks/telo/\">TELO</a><!-- HTML_TAG_END --></td><td class=\"slw svelte-eurwtr\">Telomir Pharmaceuticals, Inc.</td><td class=\"svelte-eurwtr\">$7.00</td><td class=\"svelte-eurwtr\">$6.84</td><td class=\"rr svelte-eurwtr\">-2.29%</td> </tr><tr class=\"svelte-eurwtr\"><td class=\"svelte-eurwtr\">Feb 8, 2024</td><td class=\"sym svelte-eurwtr\"><!-- HTML_TAG_START --><a href=\"/stocks/kytx/\">KYTX</a><!-- HTML_TAG_END --></td><td class=\"slw svelte-eurwtr\">Kyverna Therapeutics, Inc.</td><td class=\"svelte-eurwtr\">$22.00</td><td class=\"svelte-eurwtr\">$15.03</td><td class=\"rr svelte-eurwtr\">-31.68%</td> </tr><tr class=\"svelte-eurwtr\"><td class=\"svelte-eurwtr\">Feb 8, 2024</td><td class=\"sym svelte-eurwtr\"><!-- HTML_TAG_START --><a href=\"/stocks/pmnt/\">PMNT</a><!-- HTML_TAG_END --></td><td class=\"slw svelte-eurwtr\">Perfect Moment Ltd.</td><td class=\"svelte-eurwtr\">$6.00</td><td class=\"svelte-eurwtr\">$2.85</td><td class=\"rr svelte-eurwtr\">-52.50%</td> </tr><tr class=\"svelte-eurwtr\"><td class=\"svelte-eurwtr\">Feb 7, 2024</td><td class=\"sym svelte-eurwtr\"><!-- HTML_TAG_START --><a href=\"/stocks/ahr/\">AHR</a><!-- HTML_TAG_END --></td><td class=\"slw svelte-eurwtr\">American Healthcare REIT, Inc.</td><td class=\"svelte-eurwtr\">$12.00</td><td class=\"svelte-eurwtr\">$13.97</td><td class=\"rg svelte-eurwtr\">16.42%</td> </tr><tr class=\"svelte-eurwtr\"><td class=\"svelte-eurwtr\">Feb 6, 2024</td><td class=\"sym svelte-eurwtr\"><!-- HTML_TAG_START --><a href=\"/stocks/legt/\">LEGT</a><!-- HTML_TAG_END --></td><td class=\"slw svelte-eurwtr\">Legato Merger Corp. III</td><td class=\"svelte-eurwtr\">$10.00</td><td class=\"svelte-eurwtr\">$10.11</td><td class=\"rg svelte-eurwtr\">1.10%</td> </tr><tr class=\"svelte-eurwtr\"><td class=\"svelte-eurwtr\">Feb 2, 2024</td><td class=\"sym svelte-eurwtr\"><!-- HTML_TAG_START --><a href=\"/stocks/anro/\">ANRO</a><!-- HTML_TAG_END --></td><td class=\"slw svelte-eurwtr\">Alto Neuroscience, Inc.</td><td class=\"svelte-eurwtr\">$16.00</td><td class=\"svelte-eurwtr\">$14.40</td><td class=\"rr svelte-eurwtr\">-10.00%</td> </tr><tr class=\"svelte-eurwtr\"><td class=\"svelte-eurwtr\">Feb 2, 2024</td><td class=\"sym svelte-eurwtr\"><!-- HTML_TAG_START --><a href=\"/stocks/guts/\">GUTS</a><!-- HTML_TAG_END --></td><td class=\"slw svelte-eurwtr\">Fractyl Health, Inc.</td><td class=\"svelte-eurwtr\">$15.00</td><td class=\"svelte-eurwtr\">$6.51</td><td class=\"rr svelte-eurwtr\">-56.60%</td> </tr><tr class=\"svelte-eurwtr\"><td class=\"svelte-eurwtr\">Feb 1, 2024</td><td class=\"sym svelte-eurwtr\"><!-- HTML_TAG_START --><a href=\"/stocks/as/\">AS</a><!-- HTML_TAG_END --></td><td class=\"slw svelte-eurwtr\">Amer Sports, Inc.</td><td class=\"svelte-eurwtr\">$13.00</td><td class=\"svelte-eurwtr\">$14.48</td><td class=\"rg svelte-eurwtr\">22.92%</td> </tr><tr class=\"svelte-eurwtr\"><td class=\"svelte-eurwtr\">Jan 31, 2024</td><td class=\"sym svelte-eurwtr\"><!-- HTML_TAG_START --><a href=\"/stocks/fblg/\">FBLG</a><!-- HTML_TAG_END --></td><td class=\"slw svelte-eurwtr\">FibroBiologics, Inc.</td><td class=\"svelte-eurwtr\">$30.00</td><td class=\"svelte-eurwtr\">$6.72</td><td class=\"rr svelte-eurwtr\">-77.60%</td> </tr><tr class=\"svelte-eurwtr\"><td class=\"svelte-eurwtr\">Jan 26, 2024</td><td class=\"sym svelte-eurwtr\"><!-- HTML_TAG_START --><a href=\"/stocks/btsg/\">BTSG</a><!-- HTML_TAG_END --></td><td class=\"slw svelte-eurwtr\">BrightSpring Health Services, Inc.</td><td class=\"svelte-eurwtr\">$13.00</td><td class=\"svelte-eurwtr\">$11.06</td><td class=\"rr svelte-eurwtr\">-14.92%</td> </tr><tr class=\"svelte-eurwtr\"><td class=\"svelte-eurwtr\">Jan 26, 2024</td><td class=\"sym svelte-eurwtr\"><!-- HTML_TAG_START --><a href=\"/stocks/avbp/\">AVBP</a><!-- HTML_TAG_END --></td><td class=\"slw svelte-eurwtr\">ArriVent BioPharma, Inc.</td><td class=\"svelte-eurwtr\">$18.00</td><td class=\"svelte-eurwtr\">$16.80</td><td class=\"rr svelte-eurwtr\">-6.67%</td> </tr><tr class=\"svelte-eurwtr\"><td class=\"svelte-eurwtr\">Jan 26, 2024</td><td class=\"sym svelte-eurwtr\"><!-- HTML_TAG_START --><a href=\"/stocks/hao/\">HAO</a><!-- HTML_TAG_END --></td><td class=\"slw svelte-eurwtr\">Haoxi Health Technology Ltd.</td><td class=\"svelte-eurwtr\">$4.00</td><td class=\"svelte-eurwtr\">$9.11</td><td class=\"rg svelte-eurwtr\">128.50%</td> </tr><tr class=\"svelte-eurwtr\"><td class=\"svelte-eurwtr\">Jan 25, 2024</td><td class=\"sym svelte-eurwtr\"><!-- HTML_TAG_START --><a href=\"/stocks/cgon/\">CGON</a><!-- HTML_TAG_END --></td><td class=\"slw svelte-eurwtr\">CG Oncology, Inc.</td><td class=\"svelte-eurwtr\">$19.00</td><td class=\"svelte-eurwtr\">$39.50</td><td class=\"rg svelte-eurwtr\">107.89%</td> </tr><tr class=\"svelte-eurwtr\"><td class=\"svelte-eurwtr\">Jan 25, 2024</td><td class=\"sym svelte-eurwtr\"><!-- HTML_TAG_START --><a href=\"/stocks/yibo/\">YIBO</a><!-- HTML_TAG_END --></td><td class=\"slw svelte-eurwtr\">Planet Image International Limited</td><td class=\"svelte-eurwtr\">$4.00</td><td class=\"svelte-eurwtr\">$2.10</td><td class=\"rr svelte-eurwtr\">-47.50%</td> </tr><tr class=\"svelte-eurwtr\"><td class=\"svelte-eurwtr\">Jan 24, 2024</td><td class=\"sym svelte-eurwtr\"><!-- HTML_TAG_START --><a href=\"/stocks/sugp/\">SUGP</a><!-- HTML_TAG_END --></td><td class=\"slw svelte-eurwtr\">SU Group Holdings Limited</td><td class=\"svelte-eurwtr\">$4.00</td><td class=\"svelte-eurwtr\">$2.05</td><td class=\"rr svelte-eurwtr\">-48.75%</td> </tr><tr class=\"svelte-eurwtr\"><td class=\"svelte-eurwtr\">Jan 24, 2024</td><td class=\"sym svelte-eurwtr\"><!-- HTML_TAG_START --><a href=\"/stocks/jl/\">JL</a><!-- HTML_TAG_END --></td><td class=\"slw svelte-eurwtr\">J-Long Group Limited</td><td class=\"svelte-eurwtr\">$5.00</td><td class=\"svelte-eurwtr\">$0.77</td><td class=\"rr svelte-eurwtr\">-84.56%</td> </tr><tr class=\"svelte-eurwtr\"><td class=\"svelte-eurwtr\">Jan 19, 2024</td><td class=\"sym svelte-eurwtr\"><!-- HTML_TAG_START --><a href=\"/stocks/kspi/\">KSPI</a><!-- HTML_TAG_END --></td><td class=\"slw svelte-eurwtr\">Kaspi.kz JSC</td><td class=\"svelte-eurwtr\">$92.00</td><td class=\"svelte-eurwtr\">$116.53</td><td class=\"rg svelte-eurwtr\">26.66%</td> </tr><tr class=\"svelte-eurwtr\"><td class=\"svelte-eurwtr\">Jan 19, 2024</td><td class=\"sym svelte-eurwtr\"><!-- HTML_TAG_START --><a href=\"/stocks/jvsa/\">JVSA</a><!-- HTML_TAG_END --></td><td class=\"slw svelte-eurwtr\">JVSPAC Acquisition Corp.</td><td class=\"svelte-eurwtr\">$10.00</td><td class=\"svelte-eurwtr\">$10.40</td><td class=\"rg svelte-eurwtr\">0.90%</td> </tr><tr class=\"svelte-eurwtr\"><td class=\"svelte-eurwtr\">Jan 18, 2024</td><td class=\"sym svelte-eurwtr\"><!-- HTML_TAG_START --><a href=\"/stocks/psbd/\">PSBD</a><!-- HTML_TAG_END --></td><td class=\"slw svelte-eurwtr\">Palmer Square Capital BDC Inc.</td><td class=\"svelte-eurwtr\">$16.45</td><td class=\"svelte-eurwtr\">$16.50</td><td class=\"rg svelte-eurwtr\">0.30%</td> </tr><tr class=\"svelte-eurwtr\"><td class=\"svelte-eurwtr\">Jan 18, 2024</td><td class=\"sym svelte-eurwtr\"><!-- HTML_TAG_START --><a href=\"/stocks/cctg/\">CCTG</a><!-- HTML_TAG_END --></td><td class=\"slw svelte-eurwtr\">CCSC Technology International Holdings Limited</td><td class=\"svelte-eurwtr\">$6.00</td><td class=\"svelte-eurwtr\">$2.30</td><td class=\"rr svelte-eurwtr\">-61.67%</td> </tr><tr class=\"svelte-eurwtr\"><td class=\"svelte-eurwtr\">Jan 12, 2024</td><td class=\"sym svelte-eurwtr\"><!-- HTML_TAG_START --><a href=\"/stocks/synx/\">SYNX</a><!-- HTML_TAG_END --></td><td class=\"slw svelte-eurwtr\">Silynxcom Ltd.</td><td class=\"svelte-eurwtr\">$4.00</td><td class=\"svelte-eurwtr\">$2.80</td><td class=\"rr svelte-eurwtr\">-33.25%</td> </tr><tr class=\"svelte-eurwtr\"><td class=\"svelte-eurwtr\">Jan 11, 2024</td><td class=\"sym svelte-eurwtr\"><!-- HTML_TAG_START --><a href=\"/stocks/sdhc/\">SDHC</a><!-- HTML_TAG_END --></td><td class=\"slw svelte-eurwtr\">Smith Douglas Homes Corp.</td><td class=\"svelte-eurwtr\">$21.00</td><td class=\"svelte-eurwtr\">$29.19</td><td class=\"rg svelte-eurwtr\">39.00%</td> </tr><tr class=\"svelte-eurwtr\"><td class=\"svelte-eurwtr\">Jan 9, 2024</td><td class=\"sym svelte-eurwtr\"><!-- HTML_TAG_START --><a href=\"/stocks/roma/\">ROMA</a><!-- HTML_TAG_END --></td><td class=\"slw svelte-eurwtr\">Roma Green Finance Limited</td><td class=\"svelte-eurwtr\">$4.00</td><td class=\"svelte-eurwtr\">$0.70</td><td class=\"rr svelte-eurwtr\">-82.05%</td> </tr></tbody></table>  </div>  <div class=\"mt-4 text-center\"><button class=\"text-lg text-link hover:text-default\" data-svelte-h=\"svelte-rs67om\">Back to Top \\xe2\\x86\\x91</button></div></div> <aside class=\"flex flex-col space-y-10 pt-6\"><div><h3 class=\"mb-2.5\">Upcoming IPOs</h3> <div class=\"rounded border border-default\"><table class=\"w-full whitespace-nowrap text-left text-[0.95rem]\"><thead><tr class=\"border-b border-default\"><th class=\"border-r border-default p-2\">Date</th> <th class=\"border-r border-default p-2\" data-svelte-h=\"svelte-sd240z\">Symbol</th> <th class=\"p-2\" data-svelte-h=\"svelte-xiekth\">Name</th></tr></thead> <tbody><tr class=\"border-b border-default last:border-b-0\"><td class=\"border-r border-default p-2\">May 3</td> <td class=\"border-r border-default p-2\"><a href=\"/stocks/kmcm/\">KMCM</a></td> <td class=\"truncate whitespace-pre-wrap p-2 xs:max-w-[150px] xs:whitespace-nowrap\">Key Mining</td> </tr><tr class=\"border-b border-default last:border-b-0\"><td class=\"border-r border-default p-2\">May 7</td> <td class=\"border-r border-default p-2\"><a href=\"/stocks/nne/\">NNE</a></td> <td class=\"truncate whitespace-pre-wrap p-2 xs:max-w-[150px] xs:whitespace-nowrap\">Nano Nuclear Energy</td> </tr><tr class=\"border-b border-default last:border-b-0\"><td class=\"border-r border-default p-2\">May 9</td> <td class=\"border-r border-default p-2\"><a href=\"/stocks/svco/\">SVCO</a></td> <td class=\"truncate whitespace-pre-wrap p-2 xs:max-w-[150px] xs:whitespace-nowrap\">Silvaco Group</td> </tr><tr class=\"border-b border-default last:border-b-0\"><td class=\"border-r border-default p-2\">May 9</td> <td class=\"border-r border-default p-2\"><a href=\"/stocks/pal/\">PAL</a></td> <td class=\"truncate whitespace-pre-wrap p-2 xs:max-w-[150px] xs:whitespace-nowrap\">Proficient Auto Logistics</td> </tr><tr class=\"border-b border-default last:border-b-0\"><td class=\"border-r border-default p-2\">May 10</td> <td class=\"border-r border-default p-2\"><a href=\"/stocks/lrtx/\">LRTX</a></td> <td class=\"truncate whitespace-pre-wrap p-2 xs:max-w-[150px] xs:whitespace-nowrap\">Lirum Therapeutics</td> </tr></tbody></table></div> <a href=\"/ipos/calendar/\" class=\"button mt-4 w-full\">Full IPO Calendar</a></div> <div class=\"rounded border border-gray-200 p-4 text-sm dark:border-dark-700\"><h3>IPO News</h3> <ul class=\"text-gray-700 dark:text-dark-300\"><li class=\"mb-3 last:mb-1\">8 hours ago - <a href=\"https://www.businesswire.com/news/home/20240502620220/en/Games-Global-Announces-Launch-of-IPO/\" target=\"_blank\" rel=\"noopener noreferrer nofollow\">Games Global Announces Launch of IPO</a> - Business Wire </li><li class=\"mb-3 last:mb-1\">1 day ago - <a href=\"https://www.fastcompany.com/91116756/viking-holdings-ipo-stock-price-today-vik-cruises-nyse-debut\" target=\"_blank\" rel=\"noopener noreferrer nofollow\">Viking Holdings IPO: stock price cruises in NYSE trading debut</a> - Fast Company </li><li class=\"mb-3 last:mb-1\">1 day ago - <a href=\"https://www.cnbc.com/2024/05/01/viking-ipo-vik-cruise-line-company-trading-on-nyse.html\" target=\"_blank\" rel=\"noopener noreferrer nofollow\">Cruise line Viking targets $10.4 billion valuation in IPO</a> - CNBC </li><li class=\"mb-3 last:mb-1\">1 day ago - <a href=\"https://www.barrons.com/articles/viking-stock-price-ipo-cruise-3a2df1de\" target=\"_blank\" rel=\"noopener noreferrer nofollow\">Viking Stock Priced at $24 as Cruise Operator Sets Sail to Year\\'s Biggest U.S. IPO</a> - Barrons </li><li class=\"mb-3 last:mb-1\">3 days ago - <a href=\"https://www.reuters.com/markets/deals/coca-cola-gears-up-ipo-8-bln-african-bottling-arm-bloomberg-reports-2024-04-29/\" target=\"_blank\" rel=\"noopener noreferrer nofollow\">Coca-Cola gears up for IPO of $8 bln African bottling arm, Bloomberg reports</a> - Reuters </li><li class=\"mb-3 last:mb-1\">3 days ago - <a href=\"https://www.marketwatch.com/story/viking-upsizes-ipo-as-more-shareholders-look-to-sell-stock-5a621cd0\" target=\"_blank\" rel=\"noopener noreferrer nofollow\">Viking upsizes IPO, as more shareholders look to sell stock</a> - Market Watch </li><li class=\"mb-3 last:mb-1\">6 days ago - <a href=\"https://www.cnbc.com/2024/04/26/euronext-boss-says-long-awaited-cvc-debut-shows-the-ipo-market-is-back.html\" target=\"_blank\" rel=\"noopener noreferrer nofollow\">Long-awaited $2 billion CVC debut shows the IPO market is back on track, Euronext boss says</a> - CNBC </li><li class=\"mb-3 last:mb-1\">7 days ago - <a href=\"https://www.marketwatch.com/story/rubriks-stock-pops-20-in-ipo-debut-dae7662b\" target=\"_blank\" rel=\"noopener noreferrer nofollow\">Rubrik\\'s stock pops 20% in IPO debut</a> - Market Watch </li><li class=\"mb-3 last:mb-1\">7 days ago - <a href=\"https://www.cnbc.com/2024/04/25/rubrik-ipo-rbrk-starts-trading-on-new-york-stock-exchange.html\" target=\"_blank\" rel=\"noopener noreferrer nofollow\">Rubrik opens at $38.60 per share in market debut, after pricing IPO at $32</a> - CNBC </li><li class=\"mb-3 last:mb-1\">7 days ago - <a href=\"https://www.marketwatch.com/story/rubrik-leads-trio-of-stock-debuts-in-busy-day-for-ipos-eb71309f\" target=\"_blank\" rel=\"noopener noreferrer nofollow\">Rubrik leads trio of stock debuts in busy day for IPOs</a> - Market Watch </li></ul> <a href=\"/ipos/news/\" class=\"button mt-4 w-full\">More IPO News</a></div></aside></div></main></div></div>   <footer class=\"clear-both mt-auto bg-gray-800 dark:bg-neutral-900\"><div class=\"mx-auto max-w-7xl px-5 pt-12 sm:px-6 lg:px-8 lg:pb-8 lg:pt-16\"><div class=\"xl:grid xl:grid-cols-3 xl:gap-8\"><div class=\"grid grid-cols-2 gap-8 xl:col-span-2\"><div class=\"md:grid md:grid-cols-2 md:gap-8\"><div data-svelte-h=\"svelte-4aulao\"><h4 class=\"text-sm font-semibold uppercase tracking-wider text-gray-400 dark:text-dark-400\">Sections</h4> <ul class=\"mt-4 space-y-4 text-gray-300 hover:text-white\"><li><a class=\"text-gray-300 hover:text-white dark:text-neutral-200 hover:dark:underline\" href=\"/stocks/\">Stocks</a></li> <li><a class=\"text-gray-300 hover:text-white dark:text-neutral-200 hover:dark:underline\" href=\"/ipos/\">IPOs</a></li> <li><a class=\"text-gray-300 hover:text-white dark:text-neutral-200 hover:dark:underline\" href=\"/etf/\">ETFs</a></li> <li><a class=\"text-gray-300 hover:text-white dark:text-neutral-200 hover:dark:underline\" href=\"/blog/\">Blog</a></li></ul></div> <div class=\"mt-12 md:mt-0\"><h4 class=\"text-sm font-semibold uppercase tracking-wider text-gray-400 dark:text-dark-400\" data-svelte-h=\"svelte-1nki7xq\">Services</h4> <ul class=\"mt-4 space-y-4\"><li><a class=\"text-gray-300 hover:text-white dark:text-neutral-200 hover:dark:underline\" href=\"/pro/\" data-svelte-h=\"svelte-1x0hv7t\">Stock Analysis Pro</a></li> <li data-svelte-h=\"svelte-jv5tof\"><a class=\"text-gray-300 hover:text-white dark:text-neutral-200 hover:dark:underline\" href=\"/subscribe/\">Free Newsletter</a></li> <li data-svelte-h=\"svelte-1g6ai5i\"><a class=\"text-gray-300 hover:text-white dark:text-neutral-200 hover:dark:underline\" href=\"/support/\">Get Support</a></li></ul></div></div> <div class=\"md:grid md:grid-cols-2 md:gap-8\" data-svelte-h=\"svelte-6bzfk1\"><div><h4 class=\"text-sm font-semibold uppercase tracking-wider text-gray-400 dark:text-dark-400\">Website</h4> <ul class=\"mt-4 space-y-4\"><li><a class=\"text-gray-300 hover:text-white dark:text-neutral-200 hover:dark:underline\" href=\"/login/\">Login</a></li> <li><a class=\"text-gray-300 hover:text-white dark:text-neutral-200 hover:dark:underline\" href=\"/faq/\">FAQ</a></li> <li><a class=\"text-gray-300 hover:text-white dark:text-neutral-200 hover:dark:underline\" href=\"/changelog/\">Changelog</a></li> <li><a class=\"text-gray-300 hover:text-white dark:text-neutral-200 hover:dark:underline\" href=\"/sitemap/\">Sitemap</a></li> <li><a class=\"text-gray-300 hover:text-white dark:text-neutral-200 hover:dark:underline\" href=\"/advertise/\">Advertise</a></li></ul></div> <div class=\"mt-12 md:mt-0\"><h4 class=\"text-sm font-semibold uppercase tracking-wider text-gray-400 dark:text-dark-400\">Company</h4> <ul class=\"mt-4 space-y-4\"><li><a class=\"text-gray-300 hover:text-white dark:text-neutral-200 hover:dark:underline\" href=\"/about/\">About</a></li> <li><a class=\"text-gray-300 hover:text-white dark:text-neutral-200 hover:dark:underline\" href=\"/contact/\">Contact Us</a></li> <li><a class=\"text-gray-300 hover:text-white dark:text-neutral-200 hover:dark:underline\" href=\"/terms-of-use/\">Terms of Use</a></li> <li><a class=\"text-gray-300 hover:text-white dark:text-neutral-200 hover:dark:underline\" href=\"/privacy-policy/\">Privacy Policy</a></li> <li><a class=\"text-gray-300 hover:text-white dark:text-neutral-200 hover:dark:underline\" href=\"/data-disclaimer/\">Data Disclaimer</a></li></ul></div></div></div> <div class=\"mt-8 xl:mt-0\"><h4 class=\"text-sm font-semibold uppercase tracking-wider text-gray-400 dark:text-dark-400\" data-svelte-h=\"svelte-16157co\">Market Newsletter</h4> <p class=\"mt-4 text-gray-300\" data-svelte-h=\"svelte-4795ly\">Daily market news in bullet point format.</p> <form class=\"mt-4 sm:flex sm:max-w-md\" method=\"POST\" action=\"/subscribe/\" data-svelte-h=\"svelte-2tvjaj\"><input type=\"email\" name=\"email\" id=\"email-footer\" autocomplete=\"email\" required class=\"placeholder-faded w-full min-w-0 appearance-none rounded-md border border-transparent bg-white px-4 py-2 text-gray-900 focus:border-white focus:outline-none focus:ring-2 focus:ring-white focus:ring-offset-2 focus:ring-offset-gray-800 dark:bg-dark-700 dark:focus:border-neutral-400 dark:focus:ring-neutral-400\" placeholder=\"Enter your email\"> <div class=\"mt-3 rounded-md sm:ml-3 sm:mt-0 sm:shrink-0\"><button name=\"submit\" type=\"submit\" class=\"button w-full cursor-pointer rounded text-base font-semibold sm:w-auto\">Subscribe</button></div></form></div></div> <div class=\"mt-8 border-t border-gray-700 pt-8 dark:border-dark-700 md:flex md:items-center md:justify-between\"><div class=\"flex space-x-6 md:order-2\"><a href=\"https://www.facebook.com/stockanalysisoff/\" target=\"_blank\" rel=\"noopener noreferrer\" class=\"text-gray-400 hover:text-gray-300 dark:text-dark-400 dark:hover:text-dark-300\" aria-label=\"Follow on Facebook\"><!-- HTML_TAG_START --><svg class=\"pointer-events-none h-8 w-8\" fill=\"currentColor\" viewBox=\"0 0 24 24\" style=\"max-width:40px\" aria-hidden=\"true\"><path fill-rule=\"evenodd\" d=\"M22 12c0-5.523-4.477-10-10-10S2 6.477 2 12c0 4.991 3.657 9.128 8.438 9.878v-6.987h-2.54V12h2.54V9.797c0-2.506 1.492-3.89 3.777-3.89 1.094 0 2.238.195 2.238.195v2.46h-1.26c-1.243 0-1.63.771-1.63 1.562V12h2.773l-.443 2.89h-2.33v6.988C18.343 21.128 22 16.991 22 12z\" clip-rule=\"evenodd\"/></svg><!-- HTML_TAG_END --></a> <a href=\"https://twitter.com/stock_analysisx\" target=\"_blank\" rel=\"noopener noreferrer\" class=\"text-gray-400 hover:text-gray-300 dark:text-dark-400 dark:hover:text-dark-300\" aria-label=\"Follow on Twitter\"><!-- HTML_TAG_START --><svg class=\"pointer-events-none h-8 w-8\" fill=\"currentColor\" viewBox=\"0 0 24 24\" style=\"max-width:40px\" aria-hidden=\"true\"><path d=\"M8.29 20.251c7.547 0 11.675-6.253 11.675-11.675 0-.178 0-.355-.012-.53A8.348 8.348 0 0022 5.92a8.19 8.19 0 01-2.357.646 4.118 4.118 0 001.804-2.27 8.224 8.224 0 01-2.605.996 4.107 4.107 0 00-6.993 3.743 11.65 11.65 0 01-8.457-4.287 4.106 4.106 0 001.27 5.477A4.072 4.072 0 012.8 9.713v.052a4.105 4.105 0 003.292 4.022 4.095 4.095 0 01-1.853.07 4.108 4.108 0 003.834 2.85A8.233 8.233 0 012 18.407a11.616 11.616 0 006.29 1.84\"/></svg><!-- HTML_TAG_END --></a></div> <p class=\"mt-8 text-gray-400 dark:text-dark-400 md:order-1 md:mt-0\" data-svelte-h=\"svelte-wkgyvn\">\\xc2\\xa9 2024 Stock Analysis. All rights reserved.</p></div>  <div class=\"mt-8 border-t border-gray-700 dark:border-dark-700 pt-8 pb-6 text-center text-sm text-gray-400 dark:text-dark-400\" data-svelte-h=\"svelte-h3sc3x\">Real-time quotes provided by <a href=\"https://iexcloud.io/\" target=\"_blank\" rel=\"noopener noreferrer\" class=\"text-gray-300 dark:text-neutral-300 hover:dark:text-neutral-100 hover:text-white underline hover:no-underline\">IEX Cloud</a>. Other market data may be delayed by 15 minutes or more.</div></div></footer>    \\n\\t\\t\\t\\n\\t\\t\\t<script>\\n\\t\\t\\t\\t{\\n\\t\\t\\t\\t\\t__sveltekit_1lyz7bz = {\\n\\t\\t\\t\\t\\t\\tbase: new URL(\"../..\", location).pathname.slice(0, -1)\\n\\t\\t\\t\\t\\t};\\n\\n\\t\\t\\t\\t\\tconst element = document.currentScript.parentElement;\\n\\n\\t\\t\\t\\t\\tconst data = [{\"type\":\"data\",\"data\":{session:null,loc:{co:\"US\",isUS:true,isEU:false,isCA:false},theme:void 0},\"uses\":{}},null,{\"type\":\"data\",\"data\":{query:{type:\"s\",index:\"histip\",main:\"ipoDate\",sortDirection:\"desc\",columns:[\"ipoDate\",\"s\",\"n\",\"ipoPrice\",\"ippc\",\"ipr\"],filters:[\"ipoDate-year-2024\"]},year:\"2024\",data:[{s:\"VIK\",ipoDate:\"2024-05-01\",n:\"Viking Holdings Ltd.\",ipoPrice:24,ippc:26.99,ipr:12.45833},{s:\"ZONE\",ipoDate:\"2024-04-26\",n:\"CleanCore Solutions, Inc.\",ipoPrice:4,ippc:3.015,ipr:-24.625},{s:\"RBRK\",ipoDate:\"2024-04-25\",n:\"Rubrik, Inc.\",ipoPrice:32,ippc:33.91,ipr:5.96875},{s:\"LOAR\",ipoDate:\"2024-04-25\",n:\"Loar Holdings Inc.\",ipoPrice:28,ippc:46.4,ipr:65.71429},{s:\"MRX\",ipoDate:\"2024-04-25\",n:\"Marex Group plc\",ipoPrice:19,ippc:18.85,ipr:-.78947},{s:\"NCI\",ipoDate:\"2024-04-23\",n:\"Neo-Concept International Group Holdings Limited\",ipoPrice:4,ippc:1.17,ipr:-70.75},{s:\"YYGH\",ipoDate:\"2024-04-22\",n:\"YY Group Holding Limited\",ipoPrice:4,ippc:2.22,ipr:-45},{s:\"MFI\",ipoDate:\"2024-04-22\",n:\"mF International Limited\",ipoPrice:5,ippc:1.4,ipr:-72},{s:\"TRSG\",ipoDate:\"2024-04-19\",n:\"Tungray Technologies Inc\",ipoPrice:4,ippc:6.57,ipr:64.25},{s:\"IBTA\",ipoDate:\"2024-04-18\",n:\"Ibotta, Inc.\",ipoPrice:88,ippc:103.99,ipr:18.17045},{s:\"CTRI\",ipoDate:\"2024-04-18\",n:\"Centuri Holdings, Inc.\",ipoPrice:21,ippc:24.28,ipr:15.61905},{s:\"CDTG\",ipoDate:\"2024-04-18\",n:\"CDT Environmental Technology Investment Holdings Limited\",ipoPrice:4,ippc:3.32,ipr:-17},{s:\"MTEN\",ipoDate:\"2024-04-18\",n:\"Mingteng International Corporation Inc.\",ipoPrice:4,ippc:4.501,ipr:12.525},{s:\"JUNE\",ipoDate:\"2024-04-17\",n:\"Junee Limited\",ipoPrice:4,ippc:4},{s:\"TWG\",ipoDate:\"2024-04-16\",n:\"Top Wealth Group Holding Limited\",ipoPrice:4,ippc:1.26,ipr:-68.5},{s:\"ULS\",ipoDate:\"2024-04-12\",n:\"UL Solutions Inc.\",ipoPrice:28,ippc:35.15,ipr:25.53571},{s:\"PACS\",ipoDate:\"2024-04-11\",n:\"PACS Group, Inc.\",ipoPrice:21,ippc:24.99,ipr:19},{s:\"MNDR\",ipoDate:\"2024-04-10\",n:\"Mobile-health Network Solutions\",ipoPrice:4,ippc:22.07,ipr:451.75},{s:\"CTNM\",ipoDate:\"2024-04-05\",n:\"Contineum Therapeutics, Inc.\",ipoPrice:16,ippc:14.9,ipr:-6.875},{s:\"MAMO\",ipoDate:\"2024-04-02\",n:\"Massimo Group\",ipoPrice:4.5,ippc:3.965,ipr:-11.88889},{s:\"ZBAO\",ipoDate:\"2024-04-02\",n:\"Zhibao Technology Inc.\",ipoPrice:4,ippc:3.31,ipr:-17.25},{s:\"BOLD\",ipoDate:\"2024-03-28\",n:\"Boundless Bio, Inc.\",ipoPrice:16,ippc:9.05,ipr:-43.4375},{s:\"UBXG\",ipoDate:\"2024-03-28\",n:\"U-BX Technology Ltd.\",ipoPrice:5,ippc:4.51,ipr:-9.8},{s:\"MMA\",ipoDate:\"2024-03-28\",n:\"Alta Global Group Limited\",ipoPrice:5,ippc:3.28,ipr:-34.4},{s:\"IBAC\",ipoDate:\"2024-03-26\",n:\"IB Acquisition Corp.\",ipoPrice:10,ippc:10.05,ipr:.5},{s:\"AUNA\",ipoDate:\"2024-03-22\",n:\"Auna S.A.\",ipoPrice:12,ippc:6.76,ipr:-43.66667},{s:\"RDDT\",ipoDate:\"2024-03-21\",n:\"Reddit, Inc.\",ipoPrice:34,ippc:47.7,ipr:40.29412},{s:\"BKHA\",ipoDate:\"2024-03-21\",n:\"Black Hawk Acquisition Corporation\",ipoPrice:10,ippc:10.3,ipr:3},{s:\"LOBO\",ipoDate:\"2024-03-21\",n:\"LOBO EV Technologies Ltd\",ipoPrice:4,ippc:3.03,ipr:-24.25},{s:\"ALAB\",ipoDate:\"2024-03-20\",n:\"Astera Labs, Inc.\",ipoPrice:36,ippc:79.06,ipr:119.61111},{s:\"INTJ\",ipoDate:\"2024-03-20\",n:\"Intelligent Group Limited\",ipoPrice:4,ippc:1.12,ipr:-72},{s:\"RYDE\",ipoDate:\"2024-03-06\",n:\"Ryde Group Ltd\",ipoPrice:4,ippc:3.9,ipr:-2.5},{s:\"LGCL\",ipoDate:\"2024-03-05\",n:\"Lucas GC Limited\",ipoPrice:4,ippc:3.07,ipr:-23.25},{s:\"SMXT\",ipoDate:\"2024-02-27\",n:\"SolarMax Technology, Inc.\",ipoPrice:4,ippc:10.36,ipr:159},{s:\"VHAI\",ipoDate:\"2024-02-22\",n:\"Vocodia Holdings Corp\",ipoPrice:4.25,ippc:.163,ipr:-96.16471},{s:\"DYCQ\",ipoDate:\"2024-02-21\",n:\"DT Cloud Acquisition Corporation\",ipoPrice:10,ippc:10.35,ipr:1.7},{s:\"CHRO\",ipoDate:\"2024-02-16\",n:\"Chromocell Therapeutics Corp\",ipoPrice:6,ippc:1.74,ipr:-71},{s:\"UMAC\",ipoDate:\"2024-02-14\",n:\"Unusual Machines, Inc.\",ipoPrice:4,ippc:1.23,ipr:-69.25},{s:\"TBBB\",ipoDate:\"2024-02-09\",n:\"BBB Foods Inc.\",ipoPrice:17.5,ippc:23,ipr:31.42857},{s:\"HLXB\",ipoDate:\"2024-02-09\",n:\"Helix Acquisition Corp. II\",ipoPrice:10,ippc:10.23,ipr:2.3},{s:\"MGX\",ipoDate:\"2024-02-09\",n:\"Metagenomi, Inc.\",ipoPrice:15,ippc:6.17,ipr:-58.86667},{s:\"TELO\",ipoDate:\"2024-02-09\",n:\"Telomir Pharmaceuticals, Inc.\",ipoPrice:7,ippc:6.84,ipr:-2.28571},{s:\"KYTX\",ipoDate:\"2024-02-08\",n:\"Kyverna Therapeutics, Inc.\",ipoPrice:22,ippc:15.03,ipr:-31.68182},{s:\"PMNT\",ipoDate:\"2024-02-08\",n:\"Perfect Moment Ltd.\",ipoPrice:6,ippc:2.85,ipr:-52.5},{s:\"AHR\",ipoDate:\"2024-02-07\",n:\"American Healthcare REIT, Inc.\",ipoPrice:12,ippc:13.97,ipr:16.41667},{s:\"LEGT\",ipoDate:\"2024-02-06\",n:\"Legato Merger Corp. III\",ipoPrice:10,ippc:10.11,ipr:1.1},{s:\"ANRO\",ipoDate:\"2024-02-02\",n:\"Alto Neuroscience, Inc.\",ipoPrice:16,ippc:14.4,ipr:-10},{s:\"GUTS\",ipoDate:\"2024-02-02\",n:\"Fractyl Health, Inc.\",ipoPrice:15,ippc:6.51,ipr:-56.6},{s:\"AS\",ipoDate:\"2024-02-01\",n:\"Amer Sports, Inc.\",ipoPrice:13,ippc:14.48,ipr:22.92308},{s:\"FBLG\",ipoDate:\"2024-01-31\",n:\"FibroBiologics, Inc.\",ipoPrice:30,ippc:6.72,ipr:-77.6},{s:\"BTSG\",ipoDate:\"2024-01-26\",n:\"BrightSpring Health Services, Inc.\",ipoPrice:13,ippc:11.06,ipr:-14.92308},{s:\"AVBP\",ipoDate:\"2024-01-26\",n:\"ArriVent BioPharma, Inc.\",ipoPrice:18,ippc:16.8,ipr:-6.66667},{s:\"HAO\",ipoDate:\"2024-01-26\",n:\"Haoxi Health Technology Ltd.\",ipoPrice:4,ippc:9.11,ipr:128.5},{s:\"CGON\",ipoDate:\"2024-01-25\",n:\"CG Oncology, Inc.\",ipoPrice:19,ippc:39.5,ipr:107.89474},{s:\"YIBO\",ipoDate:\"2024-01-25\",n:\"Planet Image International Limited\",ipoPrice:4,ippc:2.1,ipr:-47.5},{s:\"SUGP\",ipoDate:\"2024-01-24\",n:\"SU Group Holdings Limited\",ipoPrice:4,ippc:2.05,ipr:-48.75},{s:\"JL\",ipoDate:\"2024-01-24\",n:\"J-Long Group Limited\",ipoPrice:5,ippc:.772,ipr:-84.56},{s:\"KSPI\",ipoDate:\"2024-01-19\",n:\"Kaspi.kz JSC\",ipoPrice:92,ippc:116.53,ipr:26.66304},{s:\"JVSA\",ipoDate:\"2024-01-19\",n:\"JVSPAC Acquisition Corp.\",ipoPrice:10,ippc:10.4,ipr:.9},{s:\"PSBD\",ipoDate:\"2024-01-18\",n:\"Palmer Square Capital BDC Inc.\",ipoPrice:16.45,ippc:16.5,ipr:.30395},{s:\"CCTG\",ipoDate:\"2024-01-18\",n:\"CCSC Technology International Holdings Limited\",ipoPrice:6,ippc:2.3,ipr:-61.66667},{s:\"SYNX\",ipoDate:\"2024-01-12\",n:\"Silynxcom Ltd.\",ipoPrice:4,ippc:2.8,ipr:-33.25},{s:\"SDHC\",ipoDate:\"2024-01-11\",n:\"Smith Douglas Homes Corp.\",ipoPrice:21,ippc:29.19,ipr:39},{s:\"ROMA\",ipoDate:\"2024-01-09\",n:\"Roma Green Finance Limited\",ipoPrice:4,ippc:.703,ipr:-82.05}],ipoCalendarMin:[{s:\"KMCM\",n:\"Key Mining\",i:\"May 3\"},{s:\"NNE\",n:\"Nano Nuclear Energy\",i:\"May 7\"},{s:\"SVCO\",n:\"Silvaco Group\",i:\"May 9\"},{s:\"PAL\",n:\"Proficient Auto Logistics\",i:\"May 9\"},{s:\"LRTX\",n:\"Lirum Therapeutics\",i:\"May 10\"}],ipoNewsMin:[{t:\"Games Global Announces Launch of IPO\",u:\"https://www.businesswire.com/news/home/20240502620220/en/Games-Global-Announces-Launch-of-IPO/\",n:\"Business Wire\",d:\"8 hours ago\"},{t:\"Viking Holdings IPO: stock price cruises in NYSE trading debut\",u:\"https://www.fastcompany.com/91116756/viking-holdings-ipo-stock-price-today-vik-cruises-nyse-debut\",n:\"Fast Company\",d:\"1 day ago\"},{t:\"Cruise line Viking targets $10.4 billion valuation in IPO\",u:\"https://www.cnbc.com/2024/05/01/viking-ipo-vik-cruise-line-company-trading-on-nyse.html\",n:\"CNBC\",d:\"1 day ago\"},{t:\"Viking Stock Priced at $24 as Cruise Operator Sets Sail to Year\\'s Biggest U.S. IPO\",u:\"https://www.barrons.com/articles/viking-stock-price-ipo-cruise-3a2df1de\",n:\"Barrons\",d:\"1 day ago\"},{t:\"Coca-Cola gears up for IPO of $8 bln African bottling arm, Bloomberg reports\",u:\"https://www.reuters.com/markets/deals/coca-cola-gears-up-ipo-8-bln-african-bottling-arm-bloomberg-reports-2024-04-29/\",n:\"Reuters\",d:\"3 days ago\"},{t:\"Viking upsizes IPO, as more shareholders look to sell stock\",u:\"https://www.marketwatch.com/story/viking-upsizes-ipo-as-more-shareholders-look-to-sell-stock-5a621cd0\",n:\"Market Watch\",d:\"3 days ago\"},{t:\"Long-awaited $2 billion CVC debut shows the IPO market is back on track, Euronext boss says\",u:\"https://www.cnbc.com/2024/04/26/euronext-boss-says-long-awaited-cvc-debut-shows-the-ipo-market-is-back.html\",n:\"CNBC\",d:\"6 days ago\"},{t:\"Rubrik\\'s stock pops 20% in IPO debut\",u:\"https://www.marketwatch.com/story/rubriks-stock-pops-20-in-ipo-debut-dae7662b\",n:\"Market Watch\",d:\"7 days ago\"},{t:\"Rubrik opens at $38.60 per share in market debut, after pricing IPO at $32\",u:\"https://www.cnbc.com/2024/04/25/rubrik-ipo-rbrk-starts-trading-on-new-york-stock-exchange.html\",n:\"CNBC\",d:\"7 days ago\"},{t:\"Rubrik leads trio of stock debuts in busy day for IPOs\",u:\"https://www.marketwatch.com/story/rubrik-leads-trio-of-stock-debuts-in-busy-day-for-ipos-eb71309f\",n:\"Market Watch\",d:\"7 days ago\"}],info:\"\"},\"uses\":{\"params\":[\"year\"]}}];\\n\\n\\t\\t\\t\\t\\tPromise.all([\\n\\t\\t\\t\\t\\t\\timport(\"../../_app/immutable/entry/start.CjMRb22d.js\"),\\n\\t\\t\\t\\t\\t\\timport(\"../../_app/immutable/entry/app.WN10Lp_z.js\")\\n\\t\\t\\t\\t\\t]).then(([kit, app]) => {\\n\\t\\t\\t\\t\\t\\tkit.start(app, element, {\\n\\t\\t\\t\\t\\t\\t\\tnode_ids: [0, 10, 52],\\n\\t\\t\\t\\t\\t\\t\\tdata,\\n\\t\\t\\t\\t\\t\\t\\tform: null,\\n\\t\\t\\t\\t\\t\\t\\terror: null\\n\\t\\t\\t\\t\\t\\t});\\n\\t\\t\\t\\t\\t});\\n\\t\\t\\t\\t}\\n\\t\\t\\t</script>\\n\\t\\t</div>\\n\\t</body>\\n</html>\\n'"
            ]
          },
          "metadata": {},
          "execution_count": 11
        }
      ]
    },
    {
      "cell_type": "code",
      "source": [
        "ipos_2023 = ipo_dfs[0]\n",
        "ipos_2023.info()"
      ],
      "metadata": {
        "colab": {
          "base_uri": "https://localhost:8080/"
        },
        "id": "-2PLyQciLlIS",
        "outputId": "ec4c7361-ff40-470a-b930-6fdce1984921"
      },
      "execution_count": 4,
      "outputs": [
        {
          "output_type": "stream",
          "name": "stdout",
          "text": [
            "<class 'pandas.core.frame.DataFrame'>\n",
            "RangeIndex: 154 entries, 0 to 153\n",
            "Data columns (total 6 columns):\n",
            " #   Column        Non-Null Count  Dtype \n",
            "---  ------        --------------  ----- \n",
            " 0   IPO Date      154 non-null    object\n",
            " 1   Symbol        154 non-null    object\n",
            " 2   Company Name  154 non-null    object\n",
            " 3   IPO Price     154 non-null    object\n",
            " 4   Current       154 non-null    object\n",
            " 5   Return        154 non-null    object\n",
            "dtypes: object(6)\n",
            "memory usage: 7.3+ KB\n"
          ]
        }
      ]
    },
    {
      "cell_type": "code",
      "source": [
        "url = \"https://stockanalysis.com/ipos/2024/\"\n",
        "response = requests.get(url, headers=headers)\n",
        "\n",
        "ipo_dfs = pd.read_html(response.text)"
      ],
      "metadata": {
        "id": "hTcAcTB3M26t"
      },
      "execution_count": 5,
      "outputs": []
    },
    {
      "cell_type": "code",
      "source": [
        "ipos_2024 = ipo_dfs[0]\n",
        "ipos_2024.info()"
      ],
      "metadata": {
        "colab": {
          "base_uri": "https://localhost:8080/"
        },
        "id": "RwzFdIl2M6hy",
        "outputId": "ba8ddb8d-9d07-4dd0-e7bc-4a1cd963c336"
      },
      "execution_count": 6,
      "outputs": [
        {
          "output_type": "stream",
          "name": "stdout",
          "text": [
            "<class 'pandas.core.frame.DataFrame'>\n",
            "RangeIndex: 64 entries, 0 to 63\n",
            "Data columns (total 6 columns):\n",
            " #   Column        Non-Null Count  Dtype \n",
            "---  ------        --------------  ----- \n",
            " 0   IPO Date      64 non-null     object\n",
            " 1   Symbol        64 non-null     object\n",
            " 2   Company Name  64 non-null     object\n",
            " 3   IPO Price     64 non-null     object\n",
            " 4   Current       64 non-null     object\n",
            " 5   Return        64 non-null     object\n",
            "dtypes: object(6)\n",
            "memory usage: 3.1+ KB\n"
          ]
        }
      ]
    },
    {
      "cell_type": "code",
      "source": [
        "# \"stacking dataframes\"\n",
        "# pd.concat() is used to concatenate the DataFrames vertically.\n",
        "# The ignore_index=True parameter ensures that the resulting DataFrame has a new index,\n",
        "# ignoring the original indices of the input DataFrames.\n",
        "# The stacked_df now contains the concatenated DataFrame.\n",
        "stacked_ipos_df = pd.concat([ipos_2024, ipos_2023], ignore_index=True)"
      ],
      "metadata": {
        "id": "dH_BNx0gNkWA"
      },
      "execution_count": 7,
      "outputs": []
    },
    {
      "cell_type": "code",
      "source": [
        "stacked_ipos_df.head(1)"
      ],
      "metadata": {
        "colab": {
          "base_uri": "https://localhost:8080/",
          "height": 81
        },
        "id": "yG2kue1ENw7W",
        "outputId": "24e9a7a2-726e-48c8-f757-55d17750eff7"
      },
      "execution_count": 8,
      "outputs": [
        {
          "output_type": "execute_result",
          "data": {
            "text/plain": [
              "      IPO Date Symbol          Company Name IPO Price Current  Return\n",
              "0  May 1, 2024    VIK  Viking Holdings Ltd.    $24.00  $26.99  12.46%"
            ],
            "text/html": [
              "\n",
              "  <div id=\"df-d3692d3d-e7d7-4e92-acd9-8e2473d5598f\" class=\"colab-df-container\">\n",
              "    <div>\n",
              "<style scoped>\n",
              "    .dataframe tbody tr th:only-of-type {\n",
              "        vertical-align: middle;\n",
              "    }\n",
              "\n",
              "    .dataframe tbody tr th {\n",
              "        vertical-align: top;\n",
              "    }\n",
              "\n",
              "    .dataframe thead th {\n",
              "        text-align: right;\n",
              "    }\n",
              "</style>\n",
              "<table border=\"1\" class=\"dataframe\">\n",
              "  <thead>\n",
              "    <tr style=\"text-align: right;\">\n",
              "      <th></th>\n",
              "      <th>IPO Date</th>\n",
              "      <th>Symbol</th>\n",
              "      <th>Company Name</th>\n",
              "      <th>IPO Price</th>\n",
              "      <th>Current</th>\n",
              "      <th>Return</th>\n",
              "    </tr>\n",
              "  </thead>\n",
              "  <tbody>\n",
              "    <tr>\n",
              "      <th>0</th>\n",
              "      <td>May 1, 2024</td>\n",
              "      <td>VIK</td>\n",
              "      <td>Viking Holdings Ltd.</td>\n",
              "      <td>$24.00</td>\n",
              "      <td>$26.99</td>\n",
              "      <td>12.46%</td>\n",
              "    </tr>\n",
              "  </tbody>\n",
              "</table>\n",
              "</div>\n",
              "    <div class=\"colab-df-buttons\">\n",
              "\n",
              "  <div class=\"colab-df-container\">\n",
              "    <button class=\"colab-df-convert\" onclick=\"convertToInteractive('df-d3692d3d-e7d7-4e92-acd9-8e2473d5598f')\"\n",
              "            title=\"Convert this dataframe to an interactive table.\"\n",
              "            style=\"display:none;\">\n",
              "\n",
              "  <svg xmlns=\"http://www.w3.org/2000/svg\" height=\"24px\" viewBox=\"0 -960 960 960\">\n",
              "    <path d=\"M120-120v-720h720v720H120Zm60-500h600v-160H180v160Zm220 220h160v-160H400v160Zm0 220h160v-160H400v160ZM180-400h160v-160H180v160Zm440 0h160v-160H620v160ZM180-180h160v-160H180v160Zm440 0h160v-160H620v160Z\"/>\n",
              "  </svg>\n",
              "    </button>\n",
              "\n",
              "  <style>\n",
              "    .colab-df-container {\n",
              "      display:flex;\n",
              "      gap: 12px;\n",
              "    }\n",
              "\n",
              "    .colab-df-convert {\n",
              "      background-color: #E8F0FE;\n",
              "      border: none;\n",
              "      border-radius: 50%;\n",
              "      cursor: pointer;\n",
              "      display: none;\n",
              "      fill: #1967D2;\n",
              "      height: 32px;\n",
              "      padding: 0 0 0 0;\n",
              "      width: 32px;\n",
              "    }\n",
              "\n",
              "    .colab-df-convert:hover {\n",
              "      background-color: #E2EBFA;\n",
              "      box-shadow: 0px 1px 2px rgba(60, 64, 67, 0.3), 0px 1px 3px 1px rgba(60, 64, 67, 0.15);\n",
              "      fill: #174EA6;\n",
              "    }\n",
              "\n",
              "    .colab-df-buttons div {\n",
              "      margin-bottom: 4px;\n",
              "    }\n",
              "\n",
              "    [theme=dark] .colab-df-convert {\n",
              "      background-color: #3B4455;\n",
              "      fill: #D2E3FC;\n",
              "    }\n",
              "\n",
              "    [theme=dark] .colab-df-convert:hover {\n",
              "      background-color: #434B5C;\n",
              "      box-shadow: 0px 1px 3px 1px rgba(0, 0, 0, 0.15);\n",
              "      filter: drop-shadow(0px 1px 2px rgba(0, 0, 0, 0.3));\n",
              "      fill: #FFFFFF;\n",
              "    }\n",
              "  </style>\n",
              "\n",
              "    <script>\n",
              "      const buttonEl =\n",
              "        document.querySelector('#df-d3692d3d-e7d7-4e92-acd9-8e2473d5598f button.colab-df-convert');\n",
              "      buttonEl.style.display =\n",
              "        google.colab.kernel.accessAllowed ? 'block' : 'none';\n",
              "\n",
              "      async function convertToInteractive(key) {\n",
              "        const element = document.querySelector('#df-d3692d3d-e7d7-4e92-acd9-8e2473d5598f');\n",
              "        const dataTable =\n",
              "          await google.colab.kernel.invokeFunction('convertToInteractive',\n",
              "                                                    [key], {});\n",
              "        if (!dataTable) return;\n",
              "\n",
              "        const docLinkHtml = 'Like what you see? Visit the ' +\n",
              "          '<a target=\"_blank\" href=https://colab.research.google.com/notebooks/data_table.ipynb>data table notebook</a>'\n",
              "          + ' to learn more about interactive tables.';\n",
              "        element.innerHTML = '';\n",
              "        dataTable['output_type'] = 'display_data';\n",
              "        await google.colab.output.renderOutput(dataTable, element);\n",
              "        const docLink = document.createElement('div');\n",
              "        docLink.innerHTML = docLinkHtml;\n",
              "        element.appendChild(docLink);\n",
              "      }\n",
              "    </script>\n",
              "  </div>\n",
              "\n",
              "\n",
              "    </div>\n",
              "  </div>\n"
            ],
            "application/vnd.google.colaboratory.intrinsic+json": {
              "type": "dataframe",
              "variable_name": "stacked_ipos_df",
              "summary": "{\n  \"name\": \"stacked_ipos_df\",\n  \"rows\": 218,\n  \"fields\": [\n    {\n      \"column\": \"IPO Date\",\n      \"properties\": {\n        \"dtype\": \"string\",\n        \"num_unique_values\": 139,\n        \"samples\": [\n          \"Jan 26, 2023\",\n          \"Sep 27, 2023\",\n          \"Feb 1, 2024\"\n        ],\n        \"semantic_type\": \"\",\n        \"description\": \"\"\n      }\n    },\n    {\n      \"column\": \"Symbol\",\n      \"properties\": {\n        \"dtype\": \"string\",\n        \"num_unique_values\": 218,\n        \"samples\": [\n          \"VSME\",\n          \"SKWD\",\n          \"VTMX\"\n        ],\n        \"semantic_type\": \"\",\n        \"description\": \"\"\n      }\n    },\n    {\n      \"column\": \"Company Name\",\n      \"properties\": {\n        \"dtype\": \"string\",\n        \"num_unique_values\": 218,\n        \"samples\": [\n          \"VS Media Holdings Limited\",\n          \"Skyward Specialty Insurance Group, Inc.\",\n          \"Corporaci\\u00c3\\u00b3n Inmobiliaria Vesta, S.A.B. de C.V.\"\n        ],\n        \"semantic_type\": \"\",\n        \"description\": \"\"\n      }\n    },\n    {\n      \"column\": \"IPO Price\",\n      \"properties\": {\n        \"dtype\": \"category\",\n        \"num_unique_values\": 50,\n        \"samples\": [\n          \"$36.00\",\n          \"$14.00\",\n          \"$4.13\"\n        ],\n        \"semantic_type\": \"\",\n        \"description\": \"\"\n      }\n    },\n    {\n      \"column\": \"Current\",\n      \"properties\": {\n        \"dtype\": \"string\",\n        \"num_unique_values\": 198,\n        \"samples\": [\n          \"$3.10\",\n          \"$0.82\",\n          \"$24.99\"\n        ],\n        \"semantic_type\": \"\",\n        \"description\": \"\"\n      }\n    },\n    {\n      \"column\": \"Return\",\n      \"properties\": {\n        \"dtype\": \"string\",\n        \"num_unique_values\": 208,\n        \"samples\": [\n          \"-72.75%\",\n          \"25.54%\",\n          \"-90.81%\"\n        ],\n        \"semantic_type\": \"\",\n        \"description\": \"\"\n      }\n    }\n  ]\n}"
            }
          },
          "metadata": {},
          "execution_count": 8
        }
      ]
    },
    {
      "cell_type": "code",
      "source": [
        "# Need to convert everything to a proper type (date, str, int, float, etc.)\n",
        "stacked_ipos_df.info()"
      ],
      "metadata": {
        "colab": {
          "base_uri": "https://localhost:8080/"
        },
        "id": "hDIN7ExoN2HN",
        "outputId": "0930ebd7-b635-4cf3-dc51-67e856eec7d6"
      },
      "execution_count": 9,
      "outputs": [
        {
          "output_type": "stream",
          "name": "stdout",
          "text": [
            "<class 'pandas.core.frame.DataFrame'>\n",
            "RangeIndex: 218 entries, 0 to 217\n",
            "Data columns (total 6 columns):\n",
            " #   Column        Non-Null Count  Dtype \n",
            "---  ------        --------------  ----- \n",
            " 0   IPO Date      218 non-null    object\n",
            " 1   Symbol        218 non-null    object\n",
            " 2   Company Name  218 non-null    object\n",
            " 3   IPO Price     218 non-null    object\n",
            " 4   Current       218 non-null    object\n",
            " 5   Return        218 non-null    object\n",
            "dtypes: object(6)\n",
            "memory usage: 10.3+ KB\n"
          ]
        }
      ]
    },
    {
      "cell_type": "code",
      "source": [],
      "metadata": {
        "id": "VWwhY7gQMt93"
      },
      "execution_count": null,
      "outputs": []
    },
    {
      "cell_type": "code",
      "source": [
        "# convert to datetime\n",
        "stacked_ipos_df['IPO Date'] = pd.to_datetime(stacked_ipos_df['IPO Date'],format='mixed')"
      ],
      "metadata": {
        "id": "SHcYYJRdPlO4"
      },
      "execution_count": 13,
      "outputs": []
    },
    {
      "cell_type": "code",
      "source": [
        "stacked_ipos_df.info()"
      ],
      "metadata": {
        "colab": {
          "base_uri": "https://localhost:8080/"
        },
        "id": "5UWE0UcYNqBh",
        "outputId": "28043e84-acd6-47e5-c7c9-69b5f1c276f9"
      },
      "execution_count": 14,
      "outputs": [
        {
          "output_type": "stream",
          "name": "stdout",
          "text": [
            "<class 'pandas.core.frame.DataFrame'>\n",
            "RangeIndex: 218 entries, 0 to 217\n",
            "Data columns (total 6 columns):\n",
            " #   Column        Non-Null Count  Dtype         \n",
            "---  ------        --------------  -----         \n",
            " 0   IPO Date      218 non-null    datetime64[ns]\n",
            " 1   Symbol        218 non-null    object        \n",
            " 2   Company Name  218 non-null    object        \n",
            " 3   IPO Price     218 non-null    object        \n",
            " 4   Current       218 non-null    object        \n",
            " 5   Return        218 non-null    object        \n",
            "dtypes: datetime64[ns](1), object(5)\n",
            "memory usage: 10.3+ KB\n"
          ]
        }
      ]
    },
    {
      "cell_type": "code",
      "source": [
        "# Problem --> not always the columns are filled\n",
        "missing_prices_df = stacked_ipos_df[stacked_ipos_df['IPO Price'].astype(str).str.find('-') >= 0]\n",
        "missing_prices_df"
      ],
      "metadata": {
        "id": "EzwZDld_O0w1"
      },
      "execution_count": null,
      "outputs": []
    },
    {
      "cell_type": "code",
      "source": [
        "# it has some missing values --> use defensive errors='coerce' (if don't have time to crack into the data errors)\n",
        "#     : pd.to_numeric() function call, which will convert problematic values to NaN.\n",
        "#     otherwise you'll get a ValueError: Unable to parse string \"-\" at position 9\n",
        "stacked_ipos_df['IPO Price'] = pd.to_numeric(stacked_ipos_df['IPO Price'].str.replace('$', ''), errors='coerce')\n",
        "# not sure why, but need to call it again to transform 'object' to 'float64'\n",
        "stacked_ipos_df['IPO Price'] = pd.to_numeric(stacked_ipos_df['IPO Price'])"
      ],
      "metadata": {
        "id": "vmDWcxKgPnlL"
      },
      "execution_count": null,
      "outputs": []
    },
    {
      "cell_type": "code",
      "source": [
        "# Convert \"Current\" column\n",
        "stacked_ipos_df['Current'] = pd.to_numeric(stacked_ipos_df['Current'].str.replace('$', ''), errors='coerce')\n",
        "\n",
        "# Convert 'Return' to numeric format (percentage)\n",
        "stacked_ipos_df['Return'] = pd.to_numeric(stacked_ipos_df['Return'].str.replace('%', ''), errors='coerce') / 100"
      ],
      "metadata": {
        "id": "gbe3S9fHN37D"
      },
      "execution_count": null,
      "outputs": []
    },
    {
      "cell_type": "code",
      "source": [
        "# Correctly applied transformations with 'defensive' techniques, but now not all are non-null\n",
        "stacked_ipos_df.info()"
      ],
      "metadata": {
        "id": "gfs4qeRwQWK2"
      },
      "execution_count": null,
      "outputs": []
    },
    {
      "cell_type": "code",
      "source": [
        "# simple way of checking NULLs\n",
        "# (you need to understand how vector operations work .isnull() and calls chaining .isnull().sum())\n",
        "stacked_ipos_df.isnull().sum()"
      ],
      "metadata": {
        "id": "Jf9zdDwHYYsV"
      },
      "execution_count": null,
      "outputs": []
    },
    {
      "cell_type": "code",
      "source": [
        "# Do you want to leave the record or not?\n",
        "stacked_ipos_df[stacked_ipos_df.Return.isnull()]"
      ],
      "metadata": {
        "id": "NEFIZVUyQ9PM"
      },
      "execution_count": null,
      "outputs": []
    },
    {
      "cell_type": "code",
      "source": [
        "# now you can operate with columns as a numeric type\n",
        "stacked_ipos_df['IPO Price'].mean()"
      ],
      "metadata": {
        "id": "8kvPzKyxWnV_"
      },
      "execution_count": null,
      "outputs": []
    },
    {
      "cell_type": "code",
      "source": [
        "# generate a new field -- SIMPLE calculation (no function needed)\n",
        "stacked_ipos_df['Price Increase'] = stacked_ipos_df['Current'] - stacked_ipos_df['IPO Price']"
      ],
      "metadata": {
        "id": "Z0KTC3pgc6FG"
      },
      "execution_count": null,
      "outputs": []
    },
    {
      "cell_type": "code",
      "source": [
        "stacked_ipos_df.head(1)"
      ],
      "metadata": {
        "id": "4rc95HmUdMrO"
      },
      "execution_count": null,
      "outputs": []
    },
    {
      "cell_type": "code",
      "source": [
        "# Descriptive Analytics of a dataset\n",
        "stacked_ipos_df.describe()"
      ],
      "metadata": {
        "id": "fAvkHuZ8XKp_"
      },
      "execution_count": null,
      "outputs": []
    },
    {
      "cell_type": "code",
      "source": [
        "# some visualisation: bar chart using Plotly Express\n",
        "import plotly.express as px\n",
        "\n",
        "# Truncate to the first day in the month - for Bar names\n",
        "stacked_ipos_df['Date_monthly'] = stacked_ipos_df['IPO Date'].dt.to_period('M').dt.to_timestamp()\n",
        "\n",
        "# Count the number of deals for each month and year\n",
        "monthly_deals = stacked_ipos_df['Date_monthly'].value_counts().reset_index().sort_values(by='Date_monthly')\n",
        "monthly_deals.columns = ['Date_monthly', 'Number of Deals']\n",
        "\n",
        "# Plotting the bar chart using Plotly Express\n",
        "fig = px.bar(monthly_deals,\n",
        "             x='Date_monthly',\n",
        "             y='Number of Deals',\n",
        "             labels={'Month_Year': 'Month and Year', 'Number of Deals': 'Number of Deals'},\n",
        "             title='Number of IPO Deals per Month and Year',\n",
        "             text='Number of Deals'\n",
        "             )\n",
        "fig.update_traces(textposition='outside', # Position the text outside the bars\n",
        "                  textfont=dict(color='black',size=14), # Adjust the font size of the text\n",
        "                  )\n",
        "fig.update_layout(title_x=0.5) # Center the title\n",
        "\n",
        "fig.show()"
      ],
      "metadata": {
        "id": "EK5AywUmS4VZ"
      },
      "execution_count": null,
      "outputs": []
    },
    {
      "cell_type": "code",
      "source": [
        "# To be used for home assignment: 'You can notice a bump in the price after the IPO? And after that the price goes down\n",
        "# You're asked to design a simple strategy to buy and hold for X days (at 'Adj.Close' price, no fees)\n",
        "# Find an optimal X between 1 and 30, that delivers you a MAX mean return on ALL 2023 IPOs?\n",
        "# Write down the answer X (a number between 1 and 30)\n",
        "\n",
        "# What is the distribution of other returns 25-50-75% quantiles? Compare mean and median returns for 2023 (median may be more robust),\n",
        "  # are you losing money in 25% cases (if 25% quantile returns is < 0)\n",
        "  # Try the same X for all deals in 2024.  How the mean return in 2024 (out of sample data) is different from 2023 data?\n",
        "\n",
        "# REDDIT - recent IPO\n",
        "# https://finance.yahoo.com/quote/RDDT/\n",
        "reddit = yf.download(tickers = \"RDDT\",\n",
        "                     period = \"max\",\n",
        "                     interval = \"1d\")\n",
        "\n",
        "reddit.tail()"
      ],
      "metadata": {
        "id": "0vI0QWKOUqar"
      },
      "execution_count": null,
      "outputs": []
    },
    {
      "cell_type": "code",
      "source": [
        "reddit['Adj Close'].plot.line(title='Reddit\\'s (RDDT) price after the IPO')"
      ],
      "metadata": {
        "id": "-By9vaa7gE0u"
      },
      "execution_count": null,
      "outputs": []
    },
    {
      "cell_type": "markdown",
      "source": [
        "#2) OHLCV data transformations"
      ],
      "metadata": {
        "id": "wD_W15Vt8lwm"
      }
    },
    {
      "cell_type": "markdown",
      "source": [
        "## 2.1 [Code Snippet 2] Time series for OHLCV"
      ],
      "metadata": {
        "id": "VPtDOTZMEklX"
      }
    },
    {
      "cell_type": "code",
      "source": [
        "nvo_df = yf.download(tickers = \"NVO\",\n",
        "                     period = \"max\",\n",
        "                     interval = \"1d\")"
      ],
      "metadata": {
        "id": "XApIB8H48kvg"
      },
      "execution_count": null,
      "outputs": []
    },
    {
      "cell_type": "code",
      "source": [
        "# big plus of an API's data: good typing from the box!\n",
        "# notice DatetimeIndex - it is a recognised date\n",
        "nvo_df.info()"
      ],
      "metadata": {
        "id": "2tr51dvFDcGt"
      },
      "execution_count": null,
      "outputs": []
    },
    {
      "cell_type": "code",
      "source": [
        "nvo_df.tail()"
      ],
      "metadata": {
        "id": "PpbjLKaUBU3U"
      },
      "execution_count": null,
      "outputs": []
    },
    {
      "cell_type": "code",
      "source": [
        "# filter on date (index)\n",
        "nvo_df_filtered_from_2020 = nvo_df[nvo_df.index>='2020-01-01']\n",
        "nvo_df_filtered_from_2024 = nvo_df[nvo_df.index>='2024-01-01']"
      ],
      "metadata": {
        "id": "uMMKwcaLqdTx"
      },
      "execution_count": null,
      "outputs": []
    },
    {
      "cell_type": "code",
      "source": [
        "# Chaining: select one column, draw a plot, of a type line\n",
        "nvo_df_filtered_from_2020['Adj Close'].plot.line(title='Novo Nordisk A/S (NVO) price daily')"
      ],
      "metadata": {
        "id": "BxH8MYXYA-E8"
      },
      "execution_count": null,
      "outputs": []
    },
    {
      "cell_type": "code",
      "source": [
        "# generating new fields (using DateTime features):\n",
        "\n",
        "nvo_df['Ticker'] = 'NVO'\n",
        "nvo_df['Year']= nvo_df.index.year\n",
        "nvo_df['Month'] = nvo_df.index.month\n",
        "nvo_df['Weekday'] = nvo_df.index.weekday\n",
        "nvo_df['Date'] = nvo_df.index.date # to be used in joins"
      ],
      "metadata": {
        "id": "Ufz3gVHwKfOG"
      },
      "execution_count": null,
      "outputs": []
    },
    {
      "cell_type": "code",
      "source": [
        "nvo_df.tail()"
      ],
      "metadata": {
        "id": "99RMXooJKxU2"
      },
      "execution_count": null,
      "outputs": []
    },
    {
      "cell_type": "code",
      "source": [
        "# shift ALL values (on x periods forward (+1) and backward (-1))\n",
        "# equivalent of joining with a dataframe of the same vector, but with shifted date index\n",
        "nvo_df['adj_close_minus_1'] = nvo_df['Adj Close'].shift(-1)\n",
        "nvo_df['adj_close_plus_1'] = nvo_df['Adj Close'].shift(1)\n",
        "\n",
        "nvo_df.tail()"
      ],
      "metadata": {
        "id": "vGpUHbWTK4si"
      },
      "execution_count": null,
      "outputs": []
    },
    {
      "cell_type": "code",
      "source": [
        "# historical growth\n",
        "nvo_df['growth_1d'] = nvo_df['Adj Close'] / nvo_df['Adj Close'].shift(1)           # nvo_df['adj_close_plus_1']\n",
        "nvo_df['growth_30d'] = nvo_df['Adj Close'] / nvo_df['Adj Close'].shift(30)\n",
        "\n",
        "# FUTURE Growth : for regression models\n",
        "nvo_df['growth_future_1d'] = nvo_df['Adj Close'].shift(-1) / nvo_df['Adj Close']   # nvo_df['adj_close_minus_1']\n",
        "\n",
        "# FUTURE Growth: for binary models\n",
        "nvo_df['is_positive_growth_1d_future'] = np.where(nvo_df['growth_future_1d'] > 1, 1, 0)"
      ],
      "metadata": {
        "id": "VxgubabQNq1z"
      },
      "execution_count": null,
      "outputs": []
    },
    {
      "cell_type": "code",
      "source": [
        "# normally the growth in 1 day is +-10%, while a lot of it is around 0% (around 1.)\n",
        "plt.title('Distribution of Daily Growth Rates for ticker =\"NVO\"')\n",
        "nvo_df.growth_1d.hist(bins=200)\n",
        "plt.show()"
      ],
      "metadata": {
        "id": "jthFMyd5RCZx"
      },
      "execution_count": null,
      "outputs": []
    },
    {
      "cell_type": "code",
      "source": [
        "# you can see that the growth is can be much wider in 30 days (+- 30%)\n",
        "plt.title('Distribution of 2-days Growth Rates for ticker = \"NVO\"')\n",
        "\n",
        "nvo_df.growth_30d.hist(bins=200)"
      ],
      "metadata": {
        "id": "nhxfDPYkRdxb"
      },
      "execution_count": null,
      "outputs": []
    },
    {
      "cell_type": "code",
      "source": [
        "# for modeling: we use growth_1d, growth_2d as feature\n",
        "COLUMNS = [k for k in nvo_df.keys() if k.find('growth')>=0 or k=='Adj Close']\n",
        "nvo_df[COLUMNS].tail()"
      ],
      "metadata": {
        "id": "xqi5Di0iOkF9"
      },
      "execution_count": null,
      "outputs": []
    },
    {
      "cell_type": "code",
      "source": [
        "# Calculate the distribution if future growth\n",
        "nvo_df.is_positive_growth_1d_future.value_counts() / len(nvo_df)"
      ],
      "metadata": {
        "id": "3BXHktV6I_zm"
      },
      "execution_count": null,
      "outputs": []
    },
    {
      "cell_type": "code",
      "source": [
        "# Calculate value counts\n",
        "value_counts = nvo_df['is_positive_growth_1d_future'].value_counts()\n",
        "\n",
        "# Calculate percentage of each category\n",
        "percentage = (value_counts / len(nvo_df)) * 100\n",
        "\n",
        "# Plot as a bar chart\n",
        "plt.bar(percentage.index.astype(str), percentage)\n",
        "plt.xlabel('Category')\n",
        "plt.ylabel('Percentage')\n",
        "plt.title('Percentage of Categories for Positive Future Growth for ticker=\"NVO\"')\n",
        "\n",
        "# Add percentage values on top of each bar\n",
        "for i, value in enumerate(percentage):\n",
        "    plt.text(i, value + 0, f'{value:.1f}%', ha='center')\n",
        "\n",
        "plt.show()"
      ],
      "metadata": {
        "id": "vW7D-CMcJWrg"
      },
      "execution_count": null,
      "outputs": []
    },
    {
      "cell_type": "markdown",
      "source": [
        "## 2.2) [Code Snippet 6] Candlestick chart for OHLCV"
      ],
      "metadata": {
        "id": "bFmCyN12E5af"
      }
    },
    {
      "cell_type": "code",
      "source": [
        "# Candlestick charts : https://plotly.com/python/candlestick-charts/\n",
        "import plotly.graph_objects as go\n",
        "\n",
        "fig = go.Figure(data=[go.Candlestick(x=nvo_df_filtered_from_2020.index,\n",
        "                open=nvo_df_filtered_from_2020.Open,\n",
        "                high=nvo_df_filtered_from_2020.High,\n",
        "                low=nvo_df_filtered_from_2020.Low,\n",
        "                close=nvo_df_filtered_from_2020.Close)\n",
        "               ])\n",
        "\n",
        "fig.update_layout(\n",
        "    title=\"NVO's daily candlestick chart from 2020\",\n",
        "    title_x=0.5,  # Set title x-position to center\n",
        "    xaxis_rangeslider_visible=True\n",
        "    )\n",
        "\n",
        "fig.show()"
      ],
      "metadata": {
        "id": "-jkLJmvGpEWD"
      },
      "execution_count": null,
      "outputs": []
    },
    {
      "cell_type": "markdown",
      "source": [
        "# 3) Macro Indicators"
      ],
      "metadata": {
        "id": "xBMxyzmTsril"
      }
    },
    {
      "cell_type": "markdown",
      "source": [
        "## 3.0) Previous indicators from module 1"
      ],
      "metadata": {
        "id": "Z0NuZizc_hjU"
      }
    },
    {
      "cell_type": "code",
      "source": [
        "end = date.today()\n",
        "print(f'Year = {end.year}; month= {end.month}; day={end.day}')\n",
        "\n",
        "start = date(year=end.year-70, month=end.month, day=end.day)\n",
        "print(f'Period for indexes: {start} to {end} ')"
      ],
      "metadata": {
        "id": "vhkMoZ2gBmu1"
      },
      "execution_count": null,
      "outputs": []
    },
    {
      "cell_type": "code",
      "source": [
        "# reuse code for ealier covered indicators\n",
        "dax_daily = yf.download(tickers = \"^GDAXI\",\n",
        "                     period = \"max\",\n",
        "                     interval = \"1d\")"
      ],
      "metadata": {
        "id": "lLM197yB8Ftk"
      },
      "execution_count": null,
      "outputs": []
    },
    {
      "cell_type": "code",
      "source": [
        "for i in [1,3,7,30,90,365]:\n",
        "  #DEBUG: dax_daily['Adj Close_sh_m_'+str(i)+'d'] = dax_daily['Adj Close'].shift(i)\n",
        "  dax_daily['growth_dax_'+str(i)+'d'] = dax_daily['Adj Close'] / dax_daily['Adj Close'].shift(i)"
      ],
      "metadata": {
        "id": "uRF4_9fcC1qY"
      },
      "execution_count": null,
      "outputs": []
    },
    {
      "cell_type": "code",
      "source": [
        "dax_daily.head()"
      ],
      "metadata": {
        "id": "glJLx6w2Drs-"
      },
      "execution_count": null,
      "outputs": []
    },
    {
      "cell_type": "code",
      "source": [
        "dax_daily.tail(2)"
      ],
      "metadata": {
        "id": "C3Msv7omDXxO"
      },
      "execution_count": null,
      "outputs": []
    },
    {
      "cell_type": "code",
      "source": [
        "GROWTH_KEYS = [k for k in dax_daily.keys() if k.startswith('growth')]\n",
        "dax_daily_to_merge = dax_daily[GROWTH_KEYS]\n",
        "dax_daily_to_merge.tail(1)"
      ],
      "metadata": {
        "id": "yNGLB0UZFxzj"
      },
      "execution_count": null,
      "outputs": []
    },
    {
      "cell_type": "code",
      "source": [
        "def get_growth_df(df:pd.DataFrame, prefix:str)->pd.DataFrame:\n",
        "  for i in [1,3,7,30,90,365]:\n",
        "    df['growth_'+prefix+'_'+str(i)+'d'] = df['Adj Close'] / df['Adj Close'].shift(i)\n",
        "    GROWTH_KEYS = [k for k in df.keys() if k.startswith('growth')]\n",
        "  return df[GROWTH_KEYS]"
      ],
      "metadata": {
        "id": "6BfGTFAfKcNn"
      },
      "execution_count": null,
      "outputs": []
    },
    {
      "cell_type": "code",
      "source": [
        "# https://finance.yahoo.com/quote/%5EGSPC/\n",
        "# SNP - SNP Real Time Price. Currency in USD\n",
        "snp500_daily = yf.download(tickers = \"^GSPC\",\n",
        "                     period = \"max\",\n",
        "                     interval = \"1d\")"
      ],
      "metadata": {
        "id": "NjOwI8Gx_xFd"
      },
      "execution_count": null,
      "outputs": []
    },
    {
      "cell_type": "code",
      "source": [
        "snp500_to_merge = get_growth_df(snp500_daily,'snp500')\n",
        "snp500_to_merge.tail(2)"
      ],
      "metadata": {
        "id": "4y2aeX-jLalJ"
      },
      "execution_count": null,
      "outputs": []
    },
    {
      "cell_type": "code",
      "source": [
        "# Dow Jones Industrial Average: https://finance.yahoo.com/quote/%5EDJI?.tsrc=fin-srch\n",
        "dji_daily = yf.download(tickers = \"^DJI\",\n",
        "                     period = \"max\",\n",
        "                     interval = \"1d\")"
      ],
      "metadata": {
        "id": "fYoOkcBnApFc"
      },
      "execution_count": null,
      "outputs": []
    },
    {
      "cell_type": "code",
      "source": [
        "dji_daily_to_merge = get_growth_df(dji_daily,'dji')\n",
        "dji_daily_to_merge.tail(2)"
      ],
      "metadata": {
        "id": "-7AjDTiHFeVy"
      },
      "execution_count": null,
      "outputs": []
    },
    {
      "cell_type": "code",
      "source": [
        "# ETFs\n",
        "# WisdomTree India Earnings Fund (EPI)\n",
        "# NYSEArca - Nasdaq Real Time Price. Currency in USD\n",
        "# WEB: https://finance.yahoo.com/quote/EPI/history?p=EPI\n",
        "epi_etf_daily = yf.download(tickers = \"EPI\",\n",
        "                     period = \"max\",\n",
        "                     interval = \"1d\")\n",
        "epi_etf_daily.tail(2)"
      ],
      "metadata": {
        "id": "t7XxuOBnAuLi"
      },
      "execution_count": null,
      "outputs": []
    },
    {
      "cell_type": "code",
      "source": [
        "epi_etf_daily_to_merge = get_growth_df(epi_etf_daily,'epi')\n",
        "epi_etf_daily_to_merge.tail(2)"
      ],
      "metadata": {
        "id": "jaMasMNwFipT"
      },
      "execution_count": null,
      "outputs": []
    },
    {
      "cell_type": "code",
      "source": [
        "# Real Potential Gross Domestic Product (GDPPOT), Billions of Chained 2012 Dollars, QUARTERLY\n",
        "# https://fred.stlouisfed.org/series/GDPPOT\n",
        "gdppot = pdr.DataReader(\"GDPPOT\", \"fred\", start=start)\n",
        "gdppot['gdppot_us_yoy'] = gdppot.GDPPOT/gdppot.GDPPOT.shift(4)-1\n",
        "gdppot['gdppot_us_qoq'] = gdppot.GDPPOT/gdppot.GDPPOT.shift(1)-1\n",
        "gdppot.tail(2)"
      ],
      "metadata": {
        "id": "fYpxyVT7Biil"
      },
      "execution_count": null,
      "outputs": []
    },
    {
      "cell_type": "code",
      "source": [
        "gdppot_to_merge = gdppot[['gdppot_us_yoy','gdppot_us_qoq']]\n",
        "gdppot_to_merge.tail(1)"
      ],
      "metadata": {
        "id": "OtEZuoG0MHJD"
      },
      "execution_count": null,
      "outputs": []
    },
    {
      "cell_type": "code",
      "source": [
        "# # \"Core CPI index\", MONTHLY\n",
        "# https://fred.stlouisfed.org/series/CPILFESL\n",
        "# The \"Consumer Price Index for All Urban Consumers: All Items Less Food & Energy\"\n",
        "# is an aggregate of prices paid by urban consumers for a typical basket of goods, excluding food and energy.\n",
        "# This measurement, known as \"Core CPI,\" is widely used by economists because food and energy have very volatile prices.\n",
        "cpilfesl = pdr.DataReader(\"CPILFESL\", \"fred\", start=start)\n",
        "cpilfesl['cpi_core_yoy'] = cpilfesl.CPILFESL/cpilfesl.CPILFESL.shift(12)-1\n",
        "cpilfesl['cpi_core_mom'] = cpilfesl.CPILFESL/cpilfesl.CPILFESL.shift(1)-1\n",
        "\n",
        "cpilfesl.tail(2)"
      ],
      "metadata": {
        "id": "Ihe57quMBqn-"
      },
      "execution_count": null,
      "outputs": []
    },
    {
      "cell_type": "code",
      "source": [
        "cpilfesl_to_merge = cpilfesl[['cpi_core_yoy','cpi_core_mom']]\n",
        "cpilfesl_to_merge.tail(2)"
      ],
      "metadata": {
        "id": "6UmMyhB2MU28"
      },
      "execution_count": null,
      "outputs": []
    },
    {
      "cell_type": "code",
      "source": [
        "# Fed rate https://fred.stlouisfed.org/series/FEDFUNDS\n",
        "fedfunds = pdr.DataReader(\"FEDFUNDS\", \"fred\", start=start)\n",
        "fedfunds.tail(2)"
      ],
      "metadata": {
        "id": "P2R6u86oB_XG"
      },
      "execution_count": null,
      "outputs": []
    },
    {
      "cell_type": "code",
      "source": [
        "# https://fred.stlouisfed.org/series/DGS1\n",
        "dgs1 = pdr.DataReader(\"DGS1\", \"fred\", start=start)\n",
        "dgs1.tail(2)"
      ],
      "metadata": {
        "id": "2ss_lIxbCStp"
      },
      "execution_count": null,
      "outputs": []
    },
    {
      "cell_type": "code",
      "source": [
        "# https://fred.stlouisfed.org/series/DGS5\n",
        "dgs5 = pdr.DataReader(\"DGS5\", \"fred\", start=start)\n",
        "dgs5.tail(2)"
      ],
      "metadata": {
        "id": "Mm9DsRHnCV5Z"
      },
      "execution_count": null,
      "outputs": []
    },
    {
      "cell_type": "code",
      "source": [
        "# https://fred.stlouisfed.org/series/DGS10\n",
        "dgs10 = pdr.DataReader(\"DGS10\", \"fred\", start=start)\n",
        "dgs10.tail(2)"
      ],
      "metadata": {
        "id": "tVntWuVsCXua"
      },
      "execution_count": null,
      "outputs": []
    },
    {
      "cell_type": "markdown",
      "source": [
        "## 3.1) [Code snippet 3] VIX - Volatility Index"
      ],
      "metadata": {
        "id": "5KAIeIw6jT1L"
      }
    },
    {
      "cell_type": "code",
      "source": [
        "# VIX - Volatility Index\n",
        "# https://finance.yahoo.com/quote/%5EVIX/\n",
        "vix = yf.download(tickers = \"^VIX\",\n",
        "                     period = \"max\",\n",
        "                     interval = \"1d\")"
      ],
      "metadata": {
        "id": "81sphjF6dcZo"
      },
      "execution_count": null,
      "outputs": []
    },
    {
      "cell_type": "code",
      "source": [
        "vix.tail(2)"
      ],
      "metadata": {
        "id": "rxsaAVpigqYq"
      },
      "execution_count": null,
      "outputs": []
    },
    {
      "cell_type": "code",
      "source": [
        "vix_to_merge = vix['Adj Close']\n",
        "vix_to_merge.tail()"
      ],
      "metadata": {
        "id": "h2YoOdUmNBu-"
      },
      "execution_count": null,
      "outputs": []
    },
    {
      "cell_type": "code",
      "source": [
        "# Static graphs: hard to zoom in and get the exact dates of spikes\n",
        "vix['Adj Close'].plot.line(title = \"VIX value over time\")"
      ],
      "metadata": {
        "id": "Hm2PWcUxgWxe"
      },
      "execution_count": null,
      "outputs": []
    },
    {
      "cell_type": "code",
      "source": [
        "# Dynamic visualisation of VIX prices\n",
        "fig = px.line(vix,\n",
        "              x=vix.index,\n",
        "              y=\"Adj Close\",\n",
        "              title='VIX over time')\n",
        "fig.update_layout(title_x=0.5)  # This will center the title horizontally\n",
        "\n",
        "fig.show()"
      ],
      "metadata": {
        "id": "VByngeNrgDNu"
      },
      "execution_count": null,
      "outputs": []
    },
    {
      "cell_type": "markdown",
      "source": [
        "## 3.2) Gold - other assets"
      ],
      "metadata": {
        "id": "-zPZY3yTjYPs"
      }
    },
    {
      "cell_type": "code",
      "source": [
        "# GOLD\n",
        "# WEB: https://finance.yahoo.com/quote/GC%3DF\n",
        "gold = yf.download(tickers = \"GC=F\",\n",
        "                     period = \"max\",\n",
        "                     interval = \"1d\")"
      ],
      "metadata": {
        "id": "d1_mQUJXj4Xw"
      },
      "execution_count": null,
      "outputs": []
    },
    {
      "cell_type": "code",
      "source": [
        "gold.tail(1)"
      ],
      "metadata": {
        "id": "Luv1CFH9j_tj"
      },
      "execution_count": null,
      "outputs": []
    },
    {
      "cell_type": "code",
      "source": [
        "gold_to_merge = get_growth_df(gold,'gold')\n",
        "gold_to_merge.tail(2)"
      ],
      "metadata": {
        "id": "EdjM0nUhNVQh"
      },
      "execution_count": null,
      "outputs": []
    },
    {
      "cell_type": "code",
      "source": [
        "# Dynamic visualisation of GOLD prices\n",
        "fig = px.line(gold,\n",
        "              x=gold.index,\n",
        "              y=\"Adj Close\",\n",
        "              title='GOLD over time')\n",
        "fig.update_layout(title_x=0.5)  # This will center the title horizontally\n",
        "\n",
        "fig.show()"
      ],
      "metadata": {
        "id": "n-jMX__ptD_w"
      },
      "execution_count": null,
      "outputs": []
    },
    {
      "cell_type": "markdown",
      "source": [
        "## 3.3) WTI Crude and Brent Oil"
      ],
      "metadata": {
        "id": "CPGmhBiOkZO1"
      }
    },
    {
      "cell_type": "code",
      "source": [
        "# WTI Crude Oil\n",
        "# WEB: https://uk.finance.yahoo.com/quote/CL=F/\n",
        "crude_oil = yf.download(tickers = \"CL=F\",\n",
        "                     period = \"max\",\n",
        "                     interval = \"1d\")"
      ],
      "metadata": {
        "id": "Z1_k0CHTmS1V"
      },
      "execution_count": null,
      "outputs": []
    },
    {
      "cell_type": "code",
      "source": [
        "crude_oil.tail(2)"
      ],
      "metadata": {
        "id": "1co0ojFomXhC"
      },
      "execution_count": null,
      "outputs": []
    },
    {
      "cell_type": "code",
      "source": [
        "crude_oil_to_merge = get_growth_df(crude_oil,'wti_oil')\n",
        "crude_oil_to_merge.tail(2)"
      ],
      "metadata": {
        "id": "Nl3fzqMzNizw"
      },
      "execution_count": null,
      "outputs": []
    },
    {
      "cell_type": "code",
      "source": [
        "# Dynamic visualisation\n",
        "fig = px.line(crude_oil,\n",
        "              x=crude_oil.index,\n",
        "              y=\"Adj Close\",\n",
        "              title='WTI Crude Oil over time')\n",
        "fig.update_layout(title_x=0.5)  # This will center the title horizontally\n",
        "\n",
        "fig.show()"
      ],
      "metadata": {
        "id": "CnjwYowztaEp"
      },
      "execution_count": null,
      "outputs": []
    },
    {
      "cell_type": "code",
      "source": [
        "# Brent Oil\n",
        "# WEB: https://uk.finance.yahoo.com/quote/BZ=F/\n",
        "brent_oil = yf.download(tickers = \"BZ=F\",\n",
        "                     period = \"max\",\n",
        "                     interval = \"1d\")\n",
        "\n",
        "brent_oil.tail(2)"
      ],
      "metadata": {
        "id": "vwEGt3cmmniR"
      },
      "execution_count": null,
      "outputs": []
    },
    {
      "cell_type": "code",
      "source": [
        "brent_oil_to_merge = get_growth_df(brent_oil,'brent_oil')\n",
        "brent_oil_to_merge.tail(2)"
      ],
      "metadata": {
        "id": "qAnPkwB8Nw8f"
      },
      "execution_count": null,
      "outputs": []
    },
    {
      "cell_type": "code",
      "source": [
        "# Dynamic visualisation\n",
        "fig = px.line(brent_oil,\n",
        "              x=brent_oil.index,\n",
        "              y=\"Adj Close\",\n",
        "              title='Brent Oil over time')\n",
        "fig.update_layout(title_x=0.5)  # This will center the title horizontally\n",
        "\n",
        "fig.show()\n"
      ],
      "metadata": {
        "id": "WG13nxMam8Rq"
      },
      "execution_count": null,
      "outputs": []
    },
    {
      "cell_type": "markdown",
      "source": [
        "## 3.4) Bitcoin prices: BTC_USD"
      ],
      "metadata": {
        "id": "AeKCRetbsS_D"
      }
    },
    {
      "cell_type": "code",
      "source": [
        "# https://finance.yahoo.com/quote/BTC-USD/\n",
        "btc_usd =  yf.download(tickers = \"BTC-USD\",\n",
        "                     period = \"max\",\n",
        "                     interval = \"1d\")\n",
        "\n",
        "btc_usd.tail(2)"
      ],
      "metadata": {
        "id": "ltrorZ97sVyt"
      },
      "execution_count": null,
      "outputs": []
    },
    {
      "cell_type": "code",
      "source": [
        "btc_usd_to_merge = get_growth_df(btc_usd,'btc_usd')\n",
        "btc_usd_to_merge.tail(2)"
      ],
      "metadata": {
        "id": "u6RR0w9FN7eP"
      },
      "execution_count": null,
      "outputs": []
    },
    {
      "cell_type": "code",
      "source": [
        "# Dynamic visualisation\n",
        "fig = px.line(btc_usd,\n",
        "              x=btc_usd.index,\n",
        "              y=\"Adj Close\",\n",
        "              title='Bitcoin price daily')\n",
        "fig.update_layout(title_x=0.5)  # This will center the title horizontally\n",
        "\n",
        "fig.show()\n"
      ],
      "metadata": {
        "id": "YbBgDa5otxm5"
      },
      "execution_count": null,
      "outputs": []
    },
    {
      "cell_type": "markdown",
      "source": [
        "## 3.5 [Code snippet 4] Eurostat: \"The home of high-quality statistics and data on Europe\"\n"
      ],
      "metadata": {
        "id": "1u8kzSwyuYGA"
      }
    },
    {
      "cell_type": "code",
      "source": [
        "!pip install eurostat\n",
        "\n",
        "# https://pypi.org/project/eurostat/\n",
        "# https://ec.europa.eu/eurostat/web/main/data/database"
      ],
      "metadata": {
        "id": "1fSMS5XHuav-"
      },
      "execution_count": null,
      "outputs": []
    },
    {
      "cell_type": "code",
      "source": [
        "import eurostat"
      ],
      "metadata": {
        "id": "q1IzEeGVuffX"
      },
      "execution_count": null,
      "outputs": []
    },
    {
      "cell_type": "code",
      "source": [
        "# LONG WAIT TIME ~15 min, unless you filter data\n",
        "\n",
        "# https://ec.europa.eu/eurostat/cache/metadata/en/irt_euryld_esms.htm\n",
        "  # Euro yield curves (irt_euryld)\n",
        "  # Reference Metadata in Euro SDMX Metadata Structure (ESMS)\n",
        "  # Compiling agency: Eurostat, the statistical office of the European Uni\n",
        "\n",
        "# the service is slow, you need to specify addtional params : https://pypi.org/project/eurostat/0.2.3/\n",
        "\n",
        "filter_pars = {'startPeriod':'2024-04-01', 'endPeriod':'2024-05-01'}\n",
        "\n",
        "code = 'irt_euryld_d'\n",
        "eurostat_euro_yield_df = eurostat.get_data_df(code, flags=True, filter_pars=filter_pars,  verbose=True)"
      ],
      "metadata": {
        "id": "2ytGNE2Du2qC"
      },
      "execution_count": null,
      "outputs": []
    },
    {
      "cell_type": "code",
      "source": [
        "eurostat_euro_yield_df.info()"
      ],
      "metadata": {
        "id": "WK_YFY93vcMq"
      },
      "execution_count": null,
      "outputs": []
    },
    {
      "cell_type": "code",
      "source": [
        "eurostat_euro_yield_df.head()"
      ],
      "metadata": {
        "id": "3NGgPemhvXPh"
      },
      "execution_count": null,
      "outputs": []
    },
    {
      "cell_type": "code",
      "source": [
        "eurostat_euro_yield_df['bonds'].value_counts()"
      ],
      "metadata": {
        "id": "0Jx_HqzyxZOY"
      },
      "execution_count": null,
      "outputs": []
    },
    {
      "cell_type": "code",
      "source": [
        "eurostat_euro_yield_df['maturity'].value_counts()\n"
      ],
      "metadata": {
        "id": "ahrJB0rMxfYE"
      },
      "execution_count": null,
      "outputs": []
    },
    {
      "cell_type": "code",
      "source": [
        "eurostat_euro_yield_df['yld_curv'].value_counts()"
      ],
      "metadata": {
        "id": "xAaa3x-uxk-D"
      },
      "execution_count": null,
      "outputs": []
    },
    {
      "cell_type": "code",
      "source": [
        "eurostat_euro_yield_df"
      ],
      "metadata": {
        "id": "GV5VeQEWqjAC"
      },
      "execution_count": null,
      "outputs": []
    },
    {
      "cell_type": "code",
      "source": [
        "# Visual graph: https://www.ecb.europa.eu/stats/financial_markets_and_interest_rates/euro_area_yield_curves/html/index.en.html\n",
        "FILTER = (eurostat_euro_yield_df.yld_curv=='SPOT_RT')& (eurostat_euro_yield_df.bonds=='CGB_EA_AAA')\n",
        "filtered_eurostat_euro_yield_df = eurostat_euro_yield_df[FILTER]"
      ],
      "metadata": {
        "id": "fVnR3f06yW1T"
      },
      "execution_count": null,
      "outputs": []
    },
    {
      "cell_type": "code",
      "source": [
        "filtered_eurostat_euro_yield_df.sort_values(by='maturity')[['maturity','2024-04-18_value']].head(20)"
      ],
      "metadata": {
        "id": "N6ADwydjyrGy"
      },
      "execution_count": null,
      "outputs": []
    },
    {
      "cell_type": "code",
      "source": [
        "import re\n",
        "\n",
        "def extract_numbers(input_string):\n",
        "    y_match = re.search(r'Y(\\d+)', input_string)\n",
        "    m_match = re.search(r'M(\\d+)', input_string)\n",
        "\n",
        "    y_number = int(y_match.group(1)) if y_match else 0\n",
        "    m_number = int(m_match.group(1)) if m_match else 0\n",
        "\n",
        "\n",
        "    return y_number*12 + m_number\n",
        "\n",
        "# Examples\n",
        "examples = [\"Y10_M2\", \"M3\", \"Y1\"]\n",
        "for example in examples:\n",
        "    res = extract_numbers(example)\n",
        "    print(f\"{example} ==> {res}\")"
      ],
      "metadata": {
        "id": "b-GPf7Me0lPy"
      },
      "execution_count": null,
      "outputs": []
    },
    {
      "cell_type": "code",
      "source": [
        "# define new field: \"maturity in months\"\n",
        "filtered_eurostat_euro_yield_df['maturity_in_months'] = filtered_eurostat_euro_yield_df.maturity.apply(lambda x:extract_numbers(x))"
      ],
      "metadata": {
        "id": "A6HY8ZNn0pLM"
      },
      "execution_count": null,
      "outputs": []
    },
    {
      "cell_type": "code",
      "source": [
        "filtered_eurostat_euro_yield_df.sort_values(by='maturity_in_months')[['maturity','maturity_in_months','2024-04-18_value']].head(20)"
      ],
      "metadata": {
        "id": "aAySkxfz1VQ1"
      },
      "execution_count": null,
      "outputs": []
    },
    {
      "cell_type": "code",
      "source": [
        "filtered_eurostat_euro_yield_df.loc[:,'maturity_in_years'] = filtered_eurostat_euro_yield_df.maturity_in_months/12.0"
      ],
      "metadata": {
        "id": "tbSf-VR8f3xo"
      },
      "execution_count": null,
      "outputs": []
    },
    {
      "cell_type": "code",
      "source": [
        "# exactly the same as on the Web:  https://www.ecb.europa.eu/stats/financial_markets_and_interest_rates/euro_area_yield_curves/html/index.en.html\n",
        "filtered_eurostat_euro_yield_df \\\n",
        "  .sort_values(by='maturity_in_months')[['maturity_in_years','2024-04-18_value']] \\\n",
        "  .plot.line(x='maturity_in_years',\n",
        "            y='2024-04-18_value',\n",
        "            title='AAA rated bonds spot yield curve')"
      ],
      "metadata": {
        "id": "jQdbd50lzXl2"
      },
      "execution_count": null,
      "outputs": []
    },
    {
      "cell_type": "markdown",
      "source": [
        "# 4) [Code Snippet 5] Fundamental indicators\n",
        "\n",
        "* Read about \"Ratio Analysis\" to learn about more ratios: https://www.investopedia.com/terms/r/ratioanalysis.asp\n",
        "* https://algotrading101.com/learn/yahoo-finance-api-guide/"
      ],
      "metadata": {
        "id": "vVR_r57tuCzA"
      }
    },
    {
      "cell_type": "code",
      "source": [
        "# let's select some set of stocks: e.g. top US companies on 'Employees':\n",
        "# https://companiesmarketcap.com/usa/largest-american-companies-by-number-of-employees/\n",
        "\n",
        "US_TOP_EMPLOYEES_STOCKS = ['WMT','AMZN','UPS','HD','CNXC','TGT','KR','UNH','BRK-B','SBUX']\n",
        "\n",
        "# WMT\n",
        "ticker = US_TOP_EMPLOYEES_STOCKS[0]\n",
        "\n",
        "# WMT ticker\n",
        "one_company = yf.Ticker(ticker)"
      ],
      "metadata": {
        "id": "4zkODJGVhHdK"
      },
      "execution_count": null,
      "outputs": []
    },
    {
      "cell_type": "code",
      "source": [
        "# Fundamental info appears close earning dates, you need to download it and use quickly (before/after trading day),\n",
        "#  unless you're a fundamental long-term investor looking for a several months-quarters-years strategy (period between buy and sell)\n",
        "# This dfthis is the easiest thing to join with the main dataset and get \"some\" technical indicators present\n",
        "eps_earnings = one_company.earnings_dates\n",
        "eps_earnings['Ticker'] = ticker\n",
        "eps_earnings"
      ],
      "metadata": {
        "id": "CNL04wu8m5Sg"
      },
      "execution_count": null,
      "outputs": []
    },
    {
      "cell_type": "code",
      "source": [
        "one_company.calendar"
      ],
      "metadata": {
        "id": "yjir9ivHAIhQ"
      },
      "execution_count": null,
      "outputs": []
    },
    {
      "cell_type": "code",
      "source": [
        "one_company.financials"
      ],
      "metadata": {
        "id": "FurdOBL4AjyZ"
      },
      "execution_count": null,
      "outputs": []
    },
    {
      "cell_type": "code",
      "source": [
        "EPS = one_company.financials.loc['Basic EPS']\n",
        "EPS"
      ],
      "metadata": {
        "id": "3RzAr8iaA2nb"
      },
      "execution_count": null,
      "outputs": []
    },
    {
      "cell_type": "code",
      "source": [
        "# or should we use NORMALIZED_EBITDA?\n",
        "EBITDA = one_company.financials.loc['EBITDA']\n",
        "EBITDA_margin = one_company.financials.loc['EBITDA'] /  one_company.financials.loc['Total Revenue']"
      ],
      "metadata": {
        "id": "1yBM0vD0BA4a"
      },
      "execution_count": null,
      "outputs": []
    },
    {
      "cell_type": "code",
      "source": [
        "EBITDA_margin"
      ],
      "metadata": {
        "id": "Oq01FXbYBre-"
      },
      "execution_count": null,
      "outputs": []
    },
    {
      "cell_type": "code",
      "source": [
        "NET_INCOME = one_company.financials.loc['Net Income']\n",
        "NET_INCOME_margin = one_company.financials.loc['Net Income'] /  one_company.financials.loc['Total Revenue']"
      ],
      "metadata": {
        "id": "UeMNaVGzBvb3"
      },
      "execution_count": null,
      "outputs": []
    },
    {
      "cell_type": "code",
      "source": [
        "NET_INCOME"
      ],
      "metadata": {
        "id": "6HJj1ljUCa4L"
      },
      "execution_count": null,
      "outputs": []
    },
    {
      "cell_type": "code",
      "source": [
        "# Compare with Public information - you can fully replicate the numbers (yearly and/or quarterly):\n",
        "# https://www.wsj.com/market-data/quotes/WMT/financials/annual/income-statement\n",
        "NET_INCOME_margin"
      ],
      "metadata": {
        "id": "ltBM7ZgvCVZS"
      },
      "execution_count": null,
      "outputs": []
    },
    {
      "cell_type": "code",
      "source": [
        "# Combine the series into a DataFrame\n",
        "df_fin_ratios = pd.DataFrame({\n",
        "    'NET_INCOME_margin': 100.0 * NET_INCOME_margin, #for visualisation -- Margin in %\n",
        "    'EBITDA_margin': 100.0 *EBITDA_margin, #for visualisation -- Margin in %\n",
        "    'EPS': EPS\n",
        "})"
      ],
      "metadata": {
        "id": "52CQRE1pDzeL"
      },
      "execution_count": null,
      "outputs": []
    },
    {
      "cell_type": "code",
      "source": [
        "import pandas as pd\n",
        "import matplotlib.pyplot as plt\n",
        "import matplotlib.ticker as mtick\n",
        "\n",
        "# Assuming df_fin_ratios is your DataFrame containing the financial ratios\n",
        "# Make sure you have already created this DataFrame\n",
        "\n",
        "# Plotting the specified columns\n",
        "ax = df_fin_ratios[['NET_INCOME_margin','EBITDA_margin']].plot.line()\n",
        "\n",
        "# Setting the y-axis formatter to display values as percentages\n",
        "ax.yaxis.set_major_formatter(mtick.PercentFormatter())\n",
        "\n",
        "# Adding title\n",
        "plt.title('NET INCOME Margin vs EBITDA Margin')\n",
        "\n",
        "# Displaying the plot\n",
        "plt.show()"
      ],
      "metadata": {
        "id": "W976MwX5EJC9"
      },
      "execution_count": null,
      "outputs": []
    },
    {
      "cell_type": "code",
      "source": [
        "EPS_year = df_fin_ratios['EPS'].index.year\n",
        "\n",
        "df_fin_ratios['EPS'].plot.bar(title = 'EPS yearly for Walmart (WMT)')\n",
        "\n",
        "plt.xticks(range(len(EPS_year)), EPS_year)\n",
        "# Displaying the plot\n",
        "plt.show()"
      ],
      "metadata": {
        "id": "e-6t4-ONFVO-"
      },
      "execution_count": null,
      "outputs": []
    },
    {
      "cell_type": "markdown",
      "source": [
        "# 5) [Code snippet 7] Daily OHCLV data for a set of stocks"
      ],
      "metadata": {
        "id": "rf7pT1HNUyqo"
      }
    },
    {
      "cell_type": "code",
      "source": [
        "# https://companiesmarketcap.com/usa/largest-companies-in-the-usa-by-market-cap/\n",
        "US_STOCKS = ['MSFT', 'AAPL', 'GOOG', 'NVDA', 'AMZN', 'META', 'BRK-B', 'LLY', 'AVGO','V', 'JPM']\n",
        "\n",
        "# You're required to add EU_STOCKS and INDIA_STOCS\n",
        "# https://companiesmarketcap.com/european-union/largest-companies-in-the-eu-by-market-cap/\n",
        "EU_STOCKS = ['NVO','MC.PA', 'ASML', 'RMS.PA', 'OR.PA', 'SAP', 'ACN', 'TTE', 'SIE.DE','IDEXY','CDI.PA']\n",
        "\n",
        "# https://companiesmarketcap.com/india/largest-companies-in-india-by-market-cap/\n",
        "INDIA_STOCKS = ['RELIANCE.NS','TCS.NS','HDB','BHARTIARTL.NS','IBN','SBIN.NS','LICI.NS','INFY','ITC.NS','HINDUNILVR.NS','LT.NS']"
      ],
      "metadata": {
        "id": "pTBIjdJqnQze"
      },
      "execution_count": null,
      "outputs": []
    },
    {
      "cell_type": "code",
      "source": [
        "ALL_TICKERS = US_STOCKS  + EU_STOCKS + INDIA_STOCKS\n",
        "ALL_TICKERS"
      ],
      "metadata": {
        "id": "j2ycezGlpPmV"
      },
      "execution_count": null,
      "outputs": []
    },
    {
      "cell_type": "code",
      "source": [
        "import time\n",
        "\n",
        "stocks_df = pd.DataFrame({'A' : []})\n",
        "\n",
        "for i,ticker in enumerate(ALL_TICKERS):\n",
        "  print(i,ticker)\n",
        "\n",
        "  # Work with stock prices\n",
        "  historyPrices = yf.download(tickers = ticker,\n",
        "                     period = \"max\",\n",
        "                     interval = \"1d\")\n",
        "\n",
        "  # generate features for historical prices, and what we want to predict\n",
        "  historyPrices['Ticker'] = ticker\n",
        "  historyPrices['Year']= historyPrices.index.year\n",
        "  historyPrices['Month'] = historyPrices.index.month\n",
        "  historyPrices['Weekday'] = historyPrices.index.weekday\n",
        "  historyPrices['Date'] = historyPrices.index.date\n",
        "\n",
        "  # historical returns\n",
        "  for i in [1,3,7,30,90,365]:\n",
        "    historyPrices['growth_'+str(i)+'d'] = historyPrices['Adj Close'] / historyPrices['Adj Close'].shift(i)\n",
        "  historyPrices['growth_future_5d'] = historyPrices['Adj Close'].shift(-5) / historyPrices['Adj Close']\n",
        "\n",
        "  # Technical indicators\n",
        "  # SimpleMovingAverage 10 days and 20 days\n",
        "  historyPrices['SMA10']= historyPrices['Close'].rolling(10).mean()\n",
        "  historyPrices['SMA20']= historyPrices['Close'].rolling(20).mean()\n",
        "  historyPrices['growing_moving_average'] = np.where(historyPrices['SMA10'] > historyPrices['SMA20'], 1, 0)\n",
        "  historyPrices['high_minus_low_relative'] = (historyPrices.High - historyPrices.Low) / historyPrices['Adj Close']\n",
        "\n",
        "  # 30d rolling volatility : https://ycharts.com/glossary/terms/rolling_vol_30\n",
        "  historyPrices['volatility'] =   historyPrices['Adj Close'].rolling(30).std() * np.sqrt(252)\n",
        "\n",
        "  # what we want to predict\n",
        "  historyPrices['is_positive_growth_5d_future'] = np.where(historyPrices['growth_future_5d'] > 1, 1, 0)\n",
        "\n",
        "  # sleep 1 sec between downloads - not to overload the API server\n",
        "  time.sleep(1)\n",
        "\n",
        "\n",
        "  if stocks_df.empty:\n",
        "    stocks_df = historyPrices\n",
        "  else:\n",
        "    stocks_df = pd.concat([stocks_df, historyPrices], ignore_index=True)"
      ],
      "metadata": {
        "id": "QX5Bb-Yw79UO"
      },
      "execution_count": null,
      "outputs": []
    },
    {
      "cell_type": "code",
      "source": [
        "def get_ticker_type(ticker:str, us_stocks_list, eu_stocks_list, india_stocks_list):\n",
        "  if ticker in us_stocks_list:\n",
        "    return 'US'\n",
        "  elif ticker in eu_stocks_list:\n",
        "    return 'EU'\n",
        "  elif ticker in india_stocks_list:\n",
        "    return 'INDIA'\n",
        "  else:\n",
        "    return 'ERROR'\n"
      ],
      "metadata": {
        "id": "lLIKK4OEi7pD"
      },
      "execution_count": null,
      "outputs": []
    },
    {
      "cell_type": "code",
      "source": [
        "stocks_df['ticker_type'] = stocks_df.Ticker.apply(lambda x:get_ticker_type(x, US_STOCKS, EU_STOCKS, INDIA_STOCKS))"
      ],
      "metadata": {
        "id": "w9GtGdAbjuaC"
      },
      "execution_count": null,
      "outputs": []
    },
    {
      "cell_type": "code",
      "source": [
        "# count of observations between US-EU-INDIA stocks\n",
        "stocks_df.ticker_type.value_counts()"
      ],
      "metadata": {
        "id": "v3pnATUWj6rB"
      },
      "execution_count": null,
      "outputs": []
    },
    {
      "cell_type": "code",
      "source": [
        "# unique tickers\n",
        "stocks_df.Ticker.nunique()"
      ],
      "metadata": {
        "id": "joUE3-BRilaH"
      },
      "execution_count": null,
      "outputs": []
    },
    {
      "cell_type": "code",
      "source": [
        "# count of observations by stock\n",
        "stocks_df.Ticker.value_counts()"
      ],
      "metadata": {
        "id": "OL_JMIIMisRj"
      },
      "execution_count": null,
      "outputs": []
    },
    {
      "cell_type": "code",
      "source": [
        "stocks_df.groupby(['Ticker','ticker_type']).Date.agg(['min','max'])"
      ],
      "metadata": {
        "id": "uT2WbgS_mi92"
      },
      "execution_count": null,
      "outputs": []
    },
    {
      "cell_type": "code",
      "source": [
        "#  average growth 365days\n",
        "stocks_df[stocks_df.Year>=2020].groupby(by=['Year','ticker_type']).growth_365d.mean()"
      ],
      "metadata": {
        "id": "SpvE4cw8ltoo"
      },
      "execution_count": null,
      "outputs": []
    },
    {
      "cell_type": "code",
      "source": [
        "stocks_df['Date'] = pd.to_datetime(stocks_df['Date'])"
      ],
      "metadata": {
        "id": "vsuxSWJOmK1z"
      },
      "execution_count": null,
      "outputs": []
    },
    {
      "cell_type": "code",
      "source": [
        "# filtering only on stats after 2000\n",
        "stocks_df[stocks_df.Date>='2000-01-01'].info()"
      ],
      "metadata": {
        "id": "VdS7Lj22l76L"
      },
      "execution_count": null,
      "outputs": []
    },
    {
      "cell_type": "code",
      "source": [
        "stocks_df[stocks_df.Date=='2024-04-01'].tail()"
      ],
      "metadata": {
        "id": "1ldV3wsPn1gx"
      },
      "execution_count": null,
      "outputs": []
    },
    {
      "cell_type": "markdown",
      "source": [
        "#6) [Code Snippet 8] Technical Indicators with TA-lib\n",
        "* PythonInvest article on Tech. Indicators\n",
        "* Code for generating 100+ tech. indicators/patterns : https://github.com/realmistic/PythonInvest-basic-fin-analysis/blob/master/colab_notebooks/Part14_Exploring_Tech_Indicators_For_Stocks_and_Crypto.ipynb"
      ],
      "metadata": {
        "id": "C93CbHIz3UzE"
      }
    },
    {
      "cell_type": "markdown",
      "source": [
        "Indicator groups: https://github.com/TA-Lib/ta-lib-python/blob/master/README.md\n",
        "\n",
        "* Overlap Studies (17)\n",
        "* Momentum Indicators (30+)\n",
        "* Volume Indicators (3)\n",
        "* Cycle Indicators (5)\n",
        "* Price Transform (4)\n",
        "* Volatility Indicators (3)\n",
        "* Pattern Recognition (60)"
      ],
      "metadata": {
        "id": "-ik0WXhH5bsH"
      }
    },
    {
      "cell_type": "code",
      "source": [
        "# https://stackoverflow.com/questions/49648391/how-to-install-ta-lib-in-google-colab\n",
        "# Update (apr 2023): Colab is now Python 3.10\n",
        "# there are some other (older) ways to install talib\n",
        "\n",
        "url = 'https://anaconda.org/conda-forge/libta-lib/0.4.0/download/linux-64/libta-lib-0.4.0-h166bdaf_1.tar.bz2'\n",
        "!curl -L $url | tar xj -C /usr/lib/x86_64-linux-gnu/ lib --strip-components=1\n",
        "url = 'https://anaconda.org/conda-forge/ta-lib/0.4.19/download/linux-64/ta-lib-0.4.19-py310hde88566_4.tar.bz2'\n",
        "!curl -L $url | tar xj -C /usr/local/lib/python3.10/dist-packages/ lib/python3.10/site-packages/talib --strip-components=3\n",
        "import talib"
      ],
      "metadata": {
        "id": "ZFxonKSR4jvG"
      },
      "execution_count": null,
      "outputs": []
    },
    {
      "cell_type": "markdown",
      "source": [
        "## 6.1) Momentum indicators\n",
        "https://github.com/TA-Lib/ta-lib-python/blob/master/docs/func_groups/momentum_indicators.md"
      ],
      "metadata": {
        "id": "3tMLcQv95lrJ"
      }
    },
    {
      "cell_type": "code",
      "source": [
        "def talib_get_momentum_indicators_for_one_ticker(df: pd.DataFrame) -> pd.DataFrame:\n",
        "  # ADX - Average Directional Movement Index\n",
        "  talib_momentum_adx = talib.ADX(df.High.values, df.Low.values, df.Close.values, timeperiod=14)\n",
        "  # ADXR - Average Directional Movement Index Rating\n",
        "  talib_momentum_adxr = talib.ADXR(df.High.values, df.Low.values, df.Close.values, timeperiod=14 )\n",
        "  # APO - Absolute Price Oscillator\n",
        "  talib_momentum_apo = talib.APO(df.Close.values, fastperiod=12, slowperiod=26, matype=0 )\n",
        "  # AROON - Aroon\n",
        "  talib_momentum_aroon = talib.AROON(df.High.values, df.Low.values, timeperiod=14 )\n",
        "  # talib_momentum_aroon[0].size\n",
        "  # talib_momentum_aroon[1].size\n",
        "  # AROONOSC - Aroon Oscillator\n",
        "  talib_momentum_aroonosc = talib.AROONOSC(df.High.values, df.Low.values, timeperiod=14)\n",
        "  # BOP - Balance of Power\n",
        "  # https://school.stockcharts.com/doku.php?id=technical_indicators:balance_of_power\n",
        "     #calculate open prices as shifted closed prices from the prev day\n",
        "     # open = df.Last.shift(1)\n",
        "  talib_momentum_bop = talib.BOP(df.Open.values, df.High.values, df.Low.values, df.Close.values)\n",
        "  # CCI - Commodity Channel Index\n",
        "  talib_momentum_cci = talib.CCI(df.High.values, df.Low.values, df.Close.values, timeperiod=14)\n",
        "  # CMO - Chande Momentum Oscillator\n",
        "  talib_momentum_cmo = talib.CMO(df.Close.values, timeperiod=14)\n",
        "  # DX - Directional Movement Index\n",
        "  talib_momentum_dx = talib.DX(df.High.values, df.Low.values, df.Close.values, timeperiod=14)\n",
        "  # MACD - Moving Average Convergence/Divergence\n",
        "  talib_momentum_macd, talib_momentum_macdsignal, talib_momentum_macdhist = talib.MACD(df.Close.values, fastperiod=12, \\\n",
        "                                                                                       slowperiod=26, signalperiod=9)\n",
        "  # MACDEXT - MACD with controllable MA type\n",
        "  talib_momentum_macd_ext, talib_momentum_macdsignal_ext, talib_momentum_macdhist_ext = talib.MACDEXT(df.Close.values, \\\n",
        "                                                                                                    fastperiod=12, \\\n",
        "                                                                                                    fastmatype=0, \\\n",
        "                                                                                                    slowperiod=26, \\\n",
        "                                                                                                    slowmatype=0, \\\n",
        "                                                                                                    signalperiod=9, \\\n",
        "                                                                                                  signalmatype=0)\n",
        "  # MACDFIX - Moving Average Convergence/Divergence Fix 12/26\n",
        "  talib_momentum_macd_fix, talib_momentum_macdsignal_fix, talib_momentum_macdhist_fix = talib.MACDFIX(df.Close.values, \\\n",
        "                                                                                                      signalperiod=9)\n",
        "  # MFI - Money Flow Index\n",
        "  talib_momentum_mfi = talib.MFI(df.High.values, df.Low.values, df.Close.values, df.Volume.values, timeperiod=14)\n",
        "  # MINUS_DI - Minus Directional Indicator\n",
        "  talib_momentum_minus_di = talib.MINUS_DM(df.High.values, df.Low.values, timeperiod=14)\n",
        "  # MOM - Momentum\n",
        "  talib_momentum_mom = talib.MOM(df.Close.values, timeperiod=10)\n",
        "  # PLUS_DI - Plus Directional Indicator\n",
        "  talib_momentum_plus_di = talib.PLUS_DI(df.High.values, df.Low.values, df.Close.values, timeperiod=14)\n",
        "  # PLUS_DM - Plus Directional Movement\n",
        "  talib_momentum_plus_dm = talib.PLUS_DM(df.High.values, df.Low.values, timeperiod=14)\n",
        "  # PPO - Percentage Price Oscillator\n",
        "  talib_momentum_ppo = talib.PPO(df.Close.values, fastperiod=12, slowperiod=26, matype=0)\n",
        "  # ROC - Rate of change : ((price/prevPrice)-1)*100\n",
        "  talib_momentum_roc = talib.ROC(df.Close.values, timeperiod=10)\n",
        "  # ROCP - Rate of change Percentage: (price-prevPrice)/prevPrice\n",
        "  talib_momentum_rocp = talib.ROCP(df.Close.values, timeperiod=10)\n",
        "  # ROCR - Rate of change ratio: (price/prevPrice)\n",
        "  talib_momentum_rocr = talib.ROCR(df.Close.values, timeperiod=10)\n",
        "  # ROCR100 - Rate of change ratio 100 scale: (price/prevPrice)*100\n",
        "  talib_momentum_rocr100 = talib.ROCR100(df.Close.values, timeperiod=10)\n",
        "  # RSI - Relative Strength Index\n",
        "  talib_momentum_rsi = talib.RSI(df.Close.values, timeperiod=14)\n",
        "  # STOCH - Stochastic\n",
        "  talib_momentum_slowk, talib_momentum_slowd = talib.STOCH(df.High.values, df.Low.values, df.Close.values, \\\n",
        "                                                           fastk_period=5, slowk_period=3, slowk_matype=0, slowd_period=3, slowd_matype=0)\n",
        "  # STOCHF - Stochastic Fast\n",
        "  talib_momentum_fastk, talib_momentum_fastd = talib.STOCHF(df.High.values, df.Low.values, df.Close.values, \\\n",
        "                                                            fastk_period=5, fastd_period=3, fastd_matype=0)\n",
        "  # STOCHRSI - Stochastic Relative Strength Index\n",
        "  talib_momentum_fastk_rsi, talib_momentum_fastd_rsi = talib.STOCHRSI(df.Close.values, timeperiod=14, \\\n",
        "                                                                      fastk_period=5, fastd_period=3, fastd_matype=0)\n",
        "  # TRIX - 1-day Rate-Of-Change (ROC) of a Triple Smooth EMA\n",
        "  talib_momentum_trix = talib.TRIX(df.Close.values, timeperiod=30)\n",
        "  # ULTOSC - Ultimate Oscillator\n",
        "  talib_momentum_ultosc = talib.ULTOSC(df.High.values, df.Low.values, df.Close.values, timeperiod1=7, timeperiod2=14, timeperiod3=28)\n",
        "  # WILLR - Williams' %R\n",
        "  talib_momentum_willr = talib.WILLR(df.High.values, df.Low.values, df.Close.values, timeperiod=14)\n",
        "\n",
        "  momentum_df =   pd.DataFrame(\n",
        "    {\n",
        "      # assume here multi-index <dateTime, ticker>\n",
        "      # 'datetime': df.index.get_level_values(0),\n",
        "      # 'ticker': df.index.get_level_values(1) ,\n",
        "\n",
        "      # old way with separate columns\n",
        "      'Date': df.Date.values,\n",
        "      'Ticker': df.Ticker,\n",
        "\n",
        "      'adx': talib_momentum_adx,\n",
        "      'adxr': talib_momentum_adxr,\n",
        "      'apo': talib_momentum_apo,\n",
        "      'aroon_1': talib_momentum_aroon[0] ,\n",
        "      'aroon_2': talib_momentum_aroon[1],\n",
        "      'aroonosc': talib_momentum_aroonosc,\n",
        "      'bop': talib_momentum_bop,\n",
        "      'cci': talib_momentum_cci,\n",
        "      'cmo': talib_momentum_cmo,\n",
        "      'dx': talib_momentum_dx,\n",
        "      'macd': talib_momentum_macd,\n",
        "      'macdsignal': talib_momentum_macdsignal,\n",
        "      'macdhist': talib_momentum_macdhist,\n",
        "      'macd_ext': talib_momentum_macd_ext,\n",
        "      'macdsignal_ext': talib_momentum_macdsignal_ext,\n",
        "      'macdhist_ext': talib_momentum_macdhist_ext,\n",
        "      'macd_fix': talib_momentum_macd_fix,\n",
        "      'macdsignal_fix': talib_momentum_macdsignal_fix,\n",
        "      'macdhist_fix': talib_momentum_macdhist_fix,\n",
        "      'mfi': talib_momentum_mfi,\n",
        "      'minus_di': talib_momentum_minus_di,\n",
        "      'mom': talib_momentum_mom,\n",
        "      'plus_di': talib_momentum_plus_di,\n",
        "      'dm': talib_momentum_plus_dm,\n",
        "      'ppo': talib_momentum_ppo,\n",
        "      'roc': talib_momentum_roc,\n",
        "      'rocp': talib_momentum_rocp,\n",
        "      'rocr': talib_momentum_rocr,\n",
        "      'rocr100': talib_momentum_rocr100,\n",
        "      'rsi': talib_momentum_rsi,\n",
        "      'slowk': talib_momentum_slowk,\n",
        "      'slowd': talib_momentum_slowd,\n",
        "      'fastk': talib_momentum_fastk,\n",
        "      'fastd': talib_momentum_fastd,\n",
        "      'fastk_rsi': talib_momentum_fastk_rsi,\n",
        "      'fastd_rsi': talib_momentum_fastd_rsi,\n",
        "      'trix': talib_momentum_trix,\n",
        "      'ultosc': talib_momentum_ultosc,\n",
        "      'willr': talib_momentum_willr,\n",
        "     }\n",
        "  )\n",
        "  return momentum_df"
      ],
      "metadata": {
        "id": "pR2V-69k5jBg"
      },
      "execution_count": null,
      "outputs": []
    },
    {
      "cell_type": "markdown",
      "source": [
        "## 6.2 Volume, Volatility, Cycle, Price indicators\n",
        "https://github.com/TA-Lib/ta-lib-python/blob/master/docs/func_groups/volume_indicators.md"
      ],
      "metadata": {
        "id": "Q2oFbmvn51md"
      }
    },
    {
      "cell_type": "code",
      "source": [
        "def talib_get_volume_volatility_cycle_price_indicators(df: pd.DataFrame) -> pd.DataFrame:\n",
        "        # TA-Lib Volume indicators\n",
        "        # https://github.com/TA-Lib/ta-lib-python/blob/master/docs/func_groups/volume_indicators.md\n",
        "        # AD - Chaikin A/D Line\n",
        "        talib_ad = talib.AD(\n",
        "            df.High.values, df.Low.values, df.Close.values, df.Volume.values)\n",
        "        # ADOSC - Chaikin A/D Oscillator\n",
        "        talib_adosc = talib.ADOSC(\n",
        "            df.High.values, df.Low.values, df.Close.values, df.Volume.values, fastperiod=3, slowperiod=10)\n",
        "        # OBV - On Balance Volume\n",
        "        talib_obv = talib.OBV(\n",
        "            df.Close.values, df.Volume.values)\n",
        "\n",
        "        # TA-Lib Volatility indicators\n",
        "        # https://github.com/TA-Lib/ta-lib-python/blob/master/docs/func_groups/volatility_indicators.md\n",
        "        # ATR - Average True Range\n",
        "        talib_atr = talib.ATR(\n",
        "            df.High.values, df.Low.values, df.Close.values, timeperiod=14)\n",
        "        # NATR - Normalized Average True Range\n",
        "        talib_natr = talib.NATR(\n",
        "            df.High.values, df.Low.values, df.Close.values, timeperiod=14)\n",
        "        # OBV - On Balance Volume\n",
        "        talib_obv = talib.OBV(\n",
        "            df.Close.values, df.Volume.values)\n",
        "\n",
        "        # TA-Lib Cycle Indicators\n",
        "        # https://github.com/TA-Lib/ta-lib-python/blob/master/docs/func_groups/cycle_indicators.md\n",
        "        # HT_DCPERIOD - Hilbert Transform - Dominant Cycle Period\n",
        "        talib_ht_dcperiod = talib.HT_DCPERIOD(df.Close.values)\n",
        "        # HT_DCPHASE - Hilbert Transform - Dominant Cycle Phase\n",
        "        talib_ht_dcphase = talib.HT_DCPHASE(df.Close.values)\n",
        "        # HT_PHASOR - Hilbert Transform - Phasor Components\n",
        "        talib_ht_phasor_inphase, talib_ht_phasor_quadrature = talib.HT_PHASOR(\n",
        "            df.Close.values)\n",
        "        # HT_SINE - Hilbert Transform - SineWave\n",
        "        talib_ht_sine_sine, talib_ht_sine_leadsine = talib.HT_SINE(\n",
        "            df.Close.values)\n",
        "        # HT_TRENDMODE - Hilbert Transform - Trend vs Cycle Mode\n",
        "        talib_ht_trendmode = talib.HT_TRENDMODE(df.Close.values)\n",
        "\n",
        "        # TA-Lib Price Transform Functions\n",
        "        # https://github.com/TA-Lib/ta-lib-python/blob/master/docs/func_groups/price_transform.md\n",
        "        # AVGPRICE - Average Price\n",
        "        talib_avgprice = talib.AVGPRICE(\n",
        "            df.Open.values, df.High.values, df.Low.values, df.Close.values)\n",
        "        # MEDPRICE - Median Price\n",
        "        talib_medprice = talib.MEDPRICE(df.High.values, df.Low.values)\n",
        "        # TYPPRICE - Typical Price\n",
        "        talib_typprice = talib.TYPPRICE(\n",
        "            df.High.values, df.Low.values, df.Close.values)\n",
        "        # WCLPRICE - Weighted Close Price\n",
        "        talib_wclprice = talib.WCLPRICE(\n",
        "            df.High.values, df.Low.values, df.Close.values)\n",
        "\n",
        "        volume_volatility_cycle_price_df = pd.DataFrame(\n",
        "            {'Date': df.Date.values,\n",
        "             'Ticker': df.Ticker,\n",
        "             # TA-Lib Volume indicators\n",
        "             'ad': talib_ad,\n",
        "             'adosc': talib_adosc,\n",
        "             'obv': talib_obv,\n",
        "             # TA-Lib Volatility indicators\n",
        "             'atr': talib_atr,\n",
        "             'natr': talib_natr,\n",
        "             'obv': talib_obv,\n",
        "             # TA-Lib Cycle Indicators\n",
        "             'ht_dcperiod': talib_ht_dcperiod,\n",
        "             'ht_dcphase': talib_ht_dcphase,\n",
        "             'ht_phasor_inphase': talib_ht_phasor_inphase,\n",
        "             'ht_phasor_quadrature': talib_ht_phasor_quadrature,\n",
        "             'ht_sine_sine': talib_ht_sine_sine,\n",
        "             'ht_sine_leadsine': talib_ht_sine_leadsine,\n",
        "             'ht_trendmod': talib_ht_trendmode,\n",
        "             # TA-Lib Price Transform Functions\n",
        "             'avgprice': talib_avgprice,\n",
        "             'medprice': talib_medprice,\n",
        "             'typprice': talib_typprice,\n",
        "             'wclprice': talib_wclprice,\n",
        "             }\n",
        "        )\n",
        "\n",
        "        # Need a proper date type\n",
        "        volume_volatility_cycle_price_df['Date'] = pd.to_datetime(\n",
        "            volume_volatility_cycle_price_df['Date'])\n",
        "\n",
        "        return volume_volatility_cycle_price_df"
      ],
      "metadata": {
        "id": "SoxVG0os4kLV"
      },
      "execution_count": null,
      "outputs": []
    },
    {
      "cell_type": "markdown",
      "source": [
        "## 6.3) Pattern indicators\n",
        "https://github.com/TA-Lib/ta-lib-python/blob/master/docs/func_groups/pattern_recognition.md"
      ],
      "metadata": {
        "id": "F-Iucz4n6FS6"
      }
    },
    {
      "cell_type": "code",
      "source": [
        "def talib_get_pattern_recognition_indicators(df: pd.DataFrame) -> pd.DataFrame:\n",
        "# TA-Lib Pattern Recognition indicators\n",
        "        # https://github.com/TA-Lib/ta-lib-python/blob/master/docs/func_groups/pattern_recognition.md\n",
        "        # Nice article about candles (pattern recognition) https://medium.com/analytics-vidhya/recognizing-over-50-candlestick-patterns-with-python-4f02a1822cb5\n",
        "\n",
        "        # CDL2CROWS - Two Crows\n",
        "        talib_cdl2crows = talib.CDL2CROWS(\n",
        "            df.Open.values, df.High.values, df.Low.values, df.Close.values)\n",
        "        # CDL3BLACKCROWS - Three Black Crows\n",
        "        talib_cdl3blackrows = talib.CDL3BLACKCROWS(\n",
        "            df.Open.values, df.High.values, df.Low.values, df.Close.values)\n",
        "        # CDL3INSIDE - Three Inside Up/Down\n",
        "        talib_cdl3inside = talib.CDL3INSIDE(\n",
        "            df.Open.values, df.High.values, df.Low.values, df.Close.values)\n",
        "        # CDL3LINESTRIKE - Three-Line Strike\n",
        "        talib_cdl3linestrike = talib.CDL3LINESTRIKE(\n",
        "            df.Open.values, df.High.values, df.Low.values, df.Close.values)\n",
        "        # CDL3OUTSIDE - Three Outside Up/Down\n",
        "        talib_cdl3outside = talib.CDL3OUTSIDE(\n",
        "            df.Open.values, df.High.values, df.Low.values, df.Close.values)\n",
        "        # CDL3STARSINSOUTH - Three Stars In The South\n",
        "        talib_cdl3starsinsouth = talib.CDL3STARSINSOUTH(\n",
        "            df.Open.values, df.High.values, df.Low.values, df.Close.values)\n",
        "        # CDL3WHITESOLDIERS - Three Advancing White Soldiers\n",
        "        talib_cdl3whitesoldiers = talib.CDL3WHITESOLDIERS(\n",
        "            df.Open.values, df.High.values, df.Low.values, df.Close.values)\n",
        "        # CDLABANDONEDBABY - Abandoned Baby\n",
        "        talib_cdlabandonedbaby = talib.CDLABANDONEDBABY(\n",
        "            df.Open.values, df.High.values, df.Low.values, df.Close.values, penetration=0)\n",
        "        # CDLADVANCEBLOCK - Advance Block\n",
        "        talib_cdladvancedblock = talib.CDLADVANCEBLOCK(\n",
        "            df.Open.values, df.High.values, df.Low.values, df.Close.values)\n",
        "        # CDLBELTHOLD - Belt-hold\n",
        "        talib_cdlbelthold = talib.CDLBELTHOLD(\n",
        "            df.Open.values, df.High.values, df.Low.values, df.Close.values)\n",
        "        # CDLBREAKAWAY - Breakaway\n",
        "        talib_cdlbreakaway = talib.CDLBREAKAWAY(\n",
        "            df.Open.values, df.High.values, df.Low.values, df.Close.values)\n",
        "        # CDLCLOSINGMARUBOZU - Closing Marubozu\n",
        "        talib_cdlclosingmarubozu = talib.CDLCLOSINGMARUBOZU(\n",
        "            df.Open.values, df.High.values, df.Low.values, df.Close.values)\n",
        "        # CDLCONCEALBABYSWALL - Concealing Baby Swallow\n",
        "        talib_cdlconcealbabyswall = talib.CDLCONCEALBABYSWALL(\n",
        "            df.Open.values, df.High.values, df.Low.values, df.Close.values)\n",
        "        # CDLCOUNTERATTACK - Counterattack\n",
        "        talib_cdlcounterattack = talib.CDLCOUNTERATTACK(\n",
        "            df.Open.values, df.High.values, df.Low.values, df.Close.values)\n",
        "        # CDLDARKCLOUDCOVER - Dark Cloud Cover\n",
        "        talib_cdldarkcloudcover = talib.CDLDARKCLOUDCOVER(\n",
        "            df.Open.values, df.High.values, df.Low.values, df.Close.values, penetration=0)\n",
        "        # CDLDOJI - Doji\n",
        "        talib_cdldoji = talib.CDLDOJI(\n",
        "            df.Open.values, df.High.values, df.Low.values, df.Close.values)\n",
        "        # CDLDOJISTAR - Doji Star\n",
        "        talib_cdldojistar = talib.CDLDOJISTAR(\n",
        "            df.Open.values, df.High.values, df.Low.values, df.Close.values)\n",
        "        # CDLDRAGONFLYDOJI - Dragonfly Doji\n",
        "        talib_cdldragonflydoji = talib.CDLDRAGONFLYDOJI(\n",
        "            df.Open.values, df.High.values, df.Low.values, df.Close.values)\n",
        "        # CDLENGULFING - Engulfing Pattern\n",
        "        talib_cdlengulfing = talib.CDLENGULFING(\n",
        "            df.Open.values, df.High.values, df.Low.values, df.Close.values)\n",
        "\n",
        "        # CDLEVENINGDOJISTAR - Evening Doji Star\n",
        "        talib_cdleveningdojistar = talib.CDLEVENINGDOJISTAR(\n",
        "            df.Open.values, df.High.values, df.Low.values, df.Close.values, penetration=0)\n",
        "        # CDLEVENINGSTAR - Evening Star\n",
        "        talib_cdleveningstar = talib.CDLEVENINGSTAR(\n",
        "            df.Open.values, df.High.values, df.Low.values, df.Close.values, penetration=0)\n",
        "        # CDLGAPSIDESIDEWHITE - Up/Down-gap side-by-side white lines\n",
        "        talib_cdlgapsidesidewhite = talib.CDLGAPSIDESIDEWHITE(\n",
        "            df.Open.values, df.High.values, df.Low.values, df.Close.values)\n",
        "        # CDLGRAVESTONEDOJI - Gravestone Doji\n",
        "        talib_cdlgravestonedoji = talib.CDLGRAVESTONEDOJI(\n",
        "            df.Open.values, df.High.values, df.Low.values, df.Close.values)\n",
        "        # CDLHAMMER - Hammer\n",
        "        talib_cdlhammer = talib.CDLHAMMER(\n",
        "            df.Open.values, df.High.values, df.Low.values, df.Close.values)\n",
        "        # CDLHANGINGMAN - Hanging Man\n",
        "        talib_cdlhangingman = talib.CDLHANGINGMAN(\n",
        "            df.Open.values, df.High.values, df.Low.values, df.Close.values)\n",
        "        # CDLHARAMI - Harami Pattern\n",
        "        talib_cdlharami = talib.CDLHARAMI(\n",
        "            df.Open.values, df.High.values, df.Low.values, df.Close.values)\n",
        "        # CDLHARAMICROSS - Harami Cross Pattern\n",
        "        talib_cdlharamicross = talib.CDLHARAMICROSS(\n",
        "            df.Open.values, df.High.values, df.Low.values, df.Close.values)\n",
        "        # CDLHIGHWAVE - High-Wave Candle\n",
        "        talib_cdlhighwave = talib.CDLHIGHWAVE(\n",
        "            df.Open.values, df.High.values, df.Low.values, df.Close.values)\n",
        "        # CDLHIKKAKE - Hikkake Pattern\n",
        "        talib_cdlhikkake = talib.CDLHIKKAKE(\n",
        "            df.Open.values, df.High.values, df.Low.values, df.Close.values)\n",
        "        # CDLHIKKAKEMOD - Modified Hikkake Pattern\n",
        "        talib_cdlhikkakemod = talib.CDLHIKKAKEMOD(\n",
        "            df.Open.values, df.High.values, df.Low.values, df.Close.values)\n",
        "\n",
        "        # CDLHOMINGPIGEON - Homing Pigeon\n",
        "        talib_cdlhomingpigeon = talib.CDLHOMINGPIGEON(\n",
        "            df.Open.values, df.High.values, df.Low.values, df.Close.values)\n",
        "        # CDLIDENTICAL3CROWS - Identical Three Crows\n",
        "        talib_cdlidentical3crows = talib.CDLIDENTICAL3CROWS(\n",
        "            df.Open.values, df.High.values, df.Low.values, df.Close.values)\n",
        "        # CDLINNECK - In-Neck Pattern\n",
        "        talib_cdlinneck = talib.CDLINNECK(\n",
        "            df.Open.values, df.High.values, df.Low.values, df.Close.values)\n",
        "        # CDLINVERTEDHAMMER - Inverted Hammer\n",
        "        talib_cdlinvertedhammer = talib.CDLINVERTEDHAMMER(\n",
        "            df.Open.values, df.High.values, df.Low.values, df.Close.values)\n",
        "        # CDLKICKING - Kicking\n",
        "        talib_cdlkicking = talib.CDLKICKING(\n",
        "            df.Open.values, df.High.values, df.Low.values, df.Close.values)\n",
        "        # CDLKICKINGBYLENGTH - Kicking - bull/bear determined by the longer marubozu\n",
        "        talib_cdlkickingbylength = talib.CDLKICKINGBYLENGTH(\n",
        "            df.Open.values, df.High.values, df.Low.values, df.Close.values)\n",
        "        # CDLLADDERBOTTOM - Ladder Bottom\n",
        "        talib_cdlladderbottom = talib.CDLLADDERBOTTOM(\n",
        "            df.Open.values, df.High.values, df.Low.values, df.Close.values)\n",
        "        # CDLLONGLEGGEDDOJI - Long Legged Doji\n",
        "        talib_cdllongleggeddoji = talib.CDLLONGLEGGEDDOJI(\n",
        "            df.Open.values, df.High.values, df.Low.values, df.Close.values)\n",
        "        # CDLLONGLINE - Long Line Candle\n",
        "        talib_cdllongline = talib.CDLLONGLINE(\n",
        "            df.Open.values, df.High.values, df.Low.values, df.Close.values)\n",
        "        # CDLMARUBOZU - Marubozu\n",
        "        talib_cdlmarubozu = talib.CDLMARUBOZU(\n",
        "            df.Open.values, df.High.values, df.Low.values, df.Close.values)\n",
        "        # CDLMATCHINGLOW - Matching Low\n",
        "        talib_cdlmatchinglow = talib.CDLMATCHINGLOW(\n",
        "            df.Open.values, df.High.values, df.Low.values, df.Close.values)\n",
        "\n",
        "        # CDLMATHOLD - Mat Hold\n",
        "        talib_cdlmathold = talib.CDLMATHOLD(\n",
        "            df.Open.values, df.High.values, df.Low.values, df.Close.values, penetration=0)\n",
        "        # CDLMORNINGDOJISTAR - Morning Doji Star\n",
        "        talib_cdlmorningdojistar = talib.CDLMORNINGDOJISTAR(\n",
        "            df.Open.values, df.High.values, df.Low.values, df.Close.values, penetration=0)\n",
        "        # CDLMORNINGSTAR - Morning Star\n",
        "        talib_cdlmorningstar = talib.CDLMORNINGSTAR(\n",
        "            df.Open.values, df.High.values, df.Low.values, df.Close.values, penetration=0)\n",
        "        # CDLONNECK - On-Neck Pattern\n",
        "        talib_cdlonneck = talib.CDLONNECK(\n",
        "            df.Open.values, df.High.values, df.Low.values, df.Close.values)\n",
        "        # CDLPIERCING - Piercing Pattern\n",
        "        talib_cdlpiercing = talib.CDLPIERCING(\n",
        "            df.Open.values, df.High.values, df.Low.values, df.Close.values)\n",
        "        # CDLRICKSHAWMAN - Rickshaw Man\n",
        "        talib_cdlrickshawman = talib.CDLRICKSHAWMAN(\n",
        "            df.Open.values, df.High.values, df.Low.values, df.Close.values)\n",
        "        # CDLRISEFALL3METHODS - Rising/Falling Three Methods\n",
        "        talib_cdlrisefall3methods = talib.CDLRISEFALL3METHODS(\n",
        "            df.Open.values, df.High.values, df.Low.values, df.Close.values)\n",
        "        # CDLSEPARATINGLINES - Separating Lines\n",
        "        talib_cdlseparatinglines = talib.CDLSEPARATINGLINES(\n",
        "            df.Open.values, df.High.values, df.Low.values, df.Close.values)\n",
        "        # CDLSHOOTINGSTAR - Shooting Star\n",
        "        talib_cdlshootingstar = talib.CDLSHOOTINGSTAR(\n",
        "            df.Open.values, df.High.values, df.Low.values, df.Close.values)\n",
        "        # CDLSHORTLINE - Short Line Candle\n",
        "        talib_cdlshortline = talib.CDLSHORTLINE(\n",
        "            df.Open.values, df.High.values, df.Low.values, df.Close.values)\n",
        "        # CDLSPINNINGTOP - Spinning Top\n",
        "        talib_cdlspinningtop = talib.CDLSPINNINGTOP(\n",
        "            df.Open.values, df.High.values, df.Low.values, df.Close.values)\n",
        "\n",
        "        # CDLSTALLEDPATTERN - Stalled Pattern\n",
        "        talib_cdlstalledpattern = talib.CDLSTALLEDPATTERN(\n",
        "            df.Open.values, df.High.values, df.Low.values, df.Close.values)\n",
        "        # CDLSTICKSANDWICH - Stick Sandwich\n",
        "        talib_cdlsticksandwich = talib.CDLSTICKSANDWICH(\n",
        "            df.Open.values, df.High.values, df.Low.values, df.Close.values)\n",
        "        # CDLTAKURI - Takuri (Dragonfly Doji with very long lower shadow)\n",
        "        talib_cdltakuru = talib.CDLTAKURI(\n",
        "            df.Open.values, df.High.values, df.Low.values, df.Close.values)\n",
        "        # CDLTASUKIGAP - Tasuki Gap\n",
        "        talib_cdltasukigap = talib.CDLTASUKIGAP(\n",
        "            df.Open.values, df.High.values, df.Low.values, df.Close.values)\n",
        "        # CDLTHRUSTING - Thrusting Pattern\n",
        "        talib_cdlthrusting = talib.CDLTHRUSTING(\n",
        "            df.Open.values, df.High.values, df.Low.values, df.Close.values)\n",
        "        # CDLTRISTAR - Tristar Pattern\n",
        "        talib_cdltristar = talib.CDLTRISTAR(\n",
        "            df.Open.values, df.High.values, df.Low.values, df.Close.values)\n",
        "        # CDLUNIQUE3RIVER - Unique 3 River\n",
        "        talib_cdlunique3river = talib.CDLUNIQUE3RIVER(\n",
        "            df.Open.values, df.High.values, df.Low.values, df.Close.values)\n",
        "        # CDLUPSIDEGAP2CROWS - Upside Gap Two Crows\n",
        "        talib_cdlupsidegap2crows = talib.CDLUPSIDEGAP2CROWS(\n",
        "            df.Open.values, df.High.values, df.Low.values, df.Close.values)\n",
        "        # CDLXSIDEGAP3METHODS - Upside/Downside Gap Three Methods\n",
        "        talib_cdlxsidegap3methods = talib.CDLXSIDEGAP3METHODS(\n",
        "            df.Open.values, df.High.values, df.Low.values, df.Close.values)\n",
        "\n",
        "        pattern_indicators_df = pd.DataFrame(\n",
        "            {'Date': df.Date.values,\n",
        "             'Ticker': df.Ticker,\n",
        "             # TA-Lib Pattern Recognition indicators\n",
        "             'cdl2crows': talib_cdl2crows,\n",
        "             'cdl3blackrows': talib_cdl3blackrows,\n",
        "             'cdl3inside': talib_cdl3inside,\n",
        "             'cdl3linestrike': talib_cdl3linestrike,\n",
        "             'cdl3outside': talib_cdl3outside,\n",
        "             'cdl3starsinsouth': talib_cdl3starsinsouth,\n",
        "             'cdl3whitesoldiers': talib_cdl3whitesoldiers,\n",
        "             'cdlabandonedbaby': talib_cdlabandonedbaby,\n",
        "             'cdladvancedblock': talib_cdladvancedblock,\n",
        "             'cdlbelthold': talib_cdlbelthold,\n",
        "             'cdlbreakaway': talib_cdlbreakaway,\n",
        "             'cdlclosingmarubozu': talib_cdlclosingmarubozu,\n",
        "             'cdlconcealbabyswall': talib_cdlconcealbabyswall,\n",
        "             'cdlcounterattack': talib_cdlcounterattack,\n",
        "             'cdldarkcloudcover': talib_cdldarkcloudcover,\n",
        "             'cdldoji': talib_cdldoji,\n",
        "             'cdldojistar': talib_cdldojistar,\n",
        "             'cdldragonflydoji': talib_cdldragonflydoji,\n",
        "             'cdlengulfing': talib_cdlengulfing,\n",
        "             'cdleveningdojistar': talib_cdleveningdojistar,\n",
        "             'cdleveningstar': talib_cdleveningstar,\n",
        "             'cdlgapsidesidewhite': talib_cdlgapsidesidewhite,\n",
        "             'cdlgravestonedoji': talib_cdlgravestonedoji,\n",
        "             'cdlhammer': talib_cdlhammer,\n",
        "             'cdlhangingman': talib_cdlhangingman,\n",
        "             'cdlharami': talib_cdlharami,\n",
        "             'cdlharamicross': talib_cdlharamicross,\n",
        "             'cdlhighwave': talib_cdlhighwave,\n",
        "             'cdlhikkake': talib_cdlhikkake,\n",
        "             'cdlhikkakemod': talib_cdlhikkakemod,\n",
        "             'cdlhomingpigeon': talib_cdlhomingpigeon,\n",
        "             'cdlidentical3crows': talib_cdlidentical3crows,\n",
        "             'cdlinneck': talib_cdlinneck,\n",
        "             'cdlinvertedhammer': talib_cdlinvertedhammer,\n",
        "             'cdlkicking': talib_cdlkicking,\n",
        "             'cdlkickingbylength': talib_cdlkickingbylength,\n",
        "             'cdlladderbottom': talib_cdlladderbottom,\n",
        "             'cdllongleggeddoji': talib_cdllongleggeddoji,\n",
        "             'cdllongline': talib_cdllongline,\n",
        "             'cdlmarubozu': talib_cdlmarubozu,\n",
        "             'cdlmatchinglow': talib_cdlmatchinglow,\n",
        "             'cdlmathold': talib_cdlmathold,\n",
        "             'cdlmorningdojistar': talib_cdlmorningdojistar,\n",
        "             'cdlmorningstar': talib_cdlmorningstar,\n",
        "             'cdlonneck': talib_cdlonneck,\n",
        "             'cdlpiercing': talib_cdlpiercing,\n",
        "             'cdlrickshawman': talib_cdlrickshawman,\n",
        "             'cdlrisefall3methods': talib_cdlrisefall3methods,\n",
        "             'cdlseparatinglines': talib_cdlseparatinglines,\n",
        "             'cdlshootingstar': talib_cdlshootingstar,\n",
        "             'cdlshortline': talib_cdlshortline,\n",
        "             'cdlspinningtop': talib_cdlspinningtop,\n",
        "             'cdlstalledpattern': talib_cdlstalledpattern,\n",
        "             'cdlsticksandwich': talib_cdlsticksandwich,\n",
        "             'cdltakuru': talib_cdltakuru,\n",
        "             'cdltasukigap': talib_cdltasukigap,\n",
        "             'cdlthrusting': talib_cdlthrusting,\n",
        "             'cdltristar': talib_cdltristar,\n",
        "             'cdlunique3river': talib_cdlunique3river,\n",
        "             'cdlupsidegap2crows': talib_cdlupsidegap2crows,\n",
        "             'cdlxsidegap3methods': talib_cdlxsidegap3methods\n",
        "             }\n",
        "        )\n",
        "\n",
        "        # Need a proper date type\n",
        "        pattern_indicators_df['Date'] = pd.to_datetime(\n",
        "            pattern_indicators_df['Date'])\n",
        "\n",
        "        return pattern_indicators_df"
      ],
      "metadata": {
        "id": "yBmmuh0155--"
      },
      "execution_count": null,
      "outputs": []
    },
    {
      "cell_type": "markdown",
      "source": [
        "## 6.4) Calculate Tech Indicators and Merge to the original dataframe"
      ],
      "metadata": {
        "id": "aBh0JcLs6WJR"
      }
    },
    {
      "cell_type": "code",
      "source": [
        "# Volume needs to be float, not int\n",
        "stocks_df['Volume'] = stocks_df['Volume']*1.0"
      ],
      "metadata": {
        "id": "BKf6fdaJ8odu"
      },
      "execution_count": null,
      "outputs": []
    },
    {
      "cell_type": "code",
      "source": [
        "# to resolve an error \"Exception: input array type is not double\"\n",
        "# https://stackoverflow.com/questions/51712269/how-to-run-ta-lib-on-multiple-columns-of-a-pandas-dataframe\n",
        "for f in ['Open','High','Low','Close', 'Volume', 'Adj Close']:\n",
        "  stocks_df.loc[:,f] = stocks_df.loc[:,f].astype('float64')"
      ],
      "metadata": {
        "id": "EzKBQu0m8H7Y"
      },
      "execution_count": null,
      "outputs": []
    },
    {
      "cell_type": "code",
      "source": [
        "stocks_df.info()"
      ],
      "metadata": {
        "id": "1u6msnGh7P1d"
      },
      "execution_count": null,
      "outputs": []
    },
    {
      "cell_type": "code",
      "source": [
        "import pandas as pd\n",
        "# supress warnings\n",
        "pd.options.mode.chained_assignment = None  # default='warn'\n",
        "\n",
        "# adding Momentum / Pattern/ Volume features to all tickers - one by one\n",
        "merged_df_with_tech_ind = pd.DataFrame({'A' : []})\n",
        "\n",
        "current_ticker_data = None\n",
        "i=0\n",
        "for ticker in ALL_TICKERS:\n",
        "  i+=1\n",
        "  print(f'{i}/{len(ALL_TICKERS)} Current ticker is {ticker}')\n",
        "  current_ticker_data = stocks_df[stocks_df.Ticker.isin([ticker])]\n",
        "  # need to have same 'utc' time on both sides\n",
        "  # https://stackoverflow.com/questions/73964894/you-are-trying-to-merge-on-datetime64ns-utc-and-datetime64ns-columns-if-yo\n",
        "  current_ticker_data['Date']= pd.to_datetime(current_ticker_data['Date'], utc=True)\n",
        "\n",
        "  # 3 calls to get additional features\n",
        "  df_current_ticker_momentum_indicators = talib_get_momentum_indicators_for_one_ticker(current_ticker_data)\n",
        "  df_current_ticker_momentum_indicators[\"Date\"]= pd.to_datetime(df_current_ticker_momentum_indicators['Date'], utc=True)\n",
        "  # df_current_ticker_momentum_indicators.loc[:,\"Date\"]= pd.to_datetime(df_current_ticker_momentum_indicators['Date'], utc=True)\n",
        "\n",
        "  df_current_ticker_volume_indicators = talib_get_volume_volatility_cycle_price_indicators(current_ticker_data)\n",
        "  df_current_ticker_volume_indicators[\"Date\"]= pd.to_datetime(df_current_ticker_volume_indicators['Date'], utc=True)\n",
        "  # df_current_ticker_volume_indicators.loc[:,\"Date\"]= pd.to_datetime(df_current_ticker_volume_indicators['Date'], utc=True)\n",
        "\n",
        "  df_current_ticker_pattern_indicators = talib_get_pattern_recognition_indicators(current_ticker_data)\n",
        "  df_current_ticker_pattern_indicators[\"Date\"]= pd.to_datetime(df_current_ticker_pattern_indicators['Date'], utc=True)\n",
        "  # df_current_ticker_pattern_indicators.loc[:,\"Date\"]= pd.to_datetime(df_current_ticker_pattern_indicators['Date'], utc=True)\n",
        "\n",
        "  # merge to one df\n",
        "  m1 = pd.merge(current_ticker_data, df_current_ticker_momentum_indicators.reset_index(), how = 'left', on = [\"Date\",\"Ticker\"], validate = \"one_to_one\")\n",
        "  m2 = pd.merge(m1, df_current_ticker_volume_indicators.reset_index(), how = 'left', on = [\"Date\",\"Ticker\"], validate = \"one_to_one\")\n",
        "  m3 = pd.merge(m2, df_current_ticker_pattern_indicators.reset_index(), how = 'left', on = [\"Date\",\"Ticker\"], validate = \"one_to_one\")\n",
        "\n",
        "  if merged_df_with_tech_ind.empty:\n",
        "    merged_df_with_tech_ind = m3\n",
        "  else:\n",
        "    merged_df_with_tech_ind = pd.concat([merged_df_with_tech_ind,m3], ignore_index = False)"
      ],
      "metadata": {
        "id": "xY_r8uPA6d0s"
      },
      "execution_count": null,
      "outputs": []
    },
    {
      "cell_type": "code",
      "source": [
        "merged_df_with_tech_ind[merged_df_with_tech_ind.Date=='2024-04-01'].tail()"
      ],
      "metadata": {
        "id": "vWL_r7gc8zZM"
      },
      "execution_count": null,
      "outputs": []
    },
    {
      "cell_type": "code",
      "source": [
        "merged_df_with_tech_ind.info()"
      ],
      "metadata": {
        "id": "PkSS1Yow8z_L"
      },
      "execution_count": null,
      "outputs": []
    },
    {
      "cell_type": "markdown",
      "source": [
        "# 7) [Code snippet 9] Merge All Together"
      ],
      "metadata": {
        "id": "4ZehaGeiOJza"
      }
    },
    {
      "cell_type": "code",
      "source": [
        "merged_df_with_tech_ind.head(1)"
      ],
      "metadata": {
        "id": "A4qChvt7OFap"
      },
      "execution_count": null,
      "outputs": []
    },
    {
      "cell_type": "code",
      "source": [
        "merged_df_with_tech_ind.shape"
      ],
      "metadata": {
        "id": "Gk3mQGTxPUu4"
      },
      "execution_count": null,
      "outputs": []
    },
    {
      "cell_type": "code",
      "source": [
        "# make sure it is dateTime with no timezone\n",
        "merged_df_with_tech_ind['Date'] = pd.to_datetime(merged_df_with_tech_ind['Date']).dt.tz_localize(None)"
      ],
      "metadata": {
        "id": "RVIkHrOxPEKU"
      },
      "execution_count": null,
      "outputs": []
    },
    {
      "cell_type": "code",
      "source": [
        "# merge with dax_daily_to_merge\n",
        "dax_daily_to_merge.tail(1)"
      ],
      "metadata": {
        "id": "i12K4FVHPiym"
      },
      "execution_count": null,
      "outputs": []
    },
    {
      "cell_type": "code",
      "source": [
        "m2 = pd.merge(merged_df_with_tech_ind,\n",
        "              dax_daily_to_merge,\n",
        "              how='left',\n",
        "              left_on='Date',\n",
        "              right_index=True,\n",
        "              validate = \"many_to_one\"\n",
        "              )"
      ],
      "metadata": {
        "id": "m6zv_u4DOyZO"
      },
      "execution_count": null,
      "outputs": []
    },
    {
      "cell_type": "code",
      "source": [
        "m2.tail(1)"
      ],
      "metadata": {
        "id": "Wcx52RhzONuS"
      },
      "execution_count": null,
      "outputs": []
    },
    {
      "cell_type": "code",
      "source": [
        "# check the same number of records, but columns increased\n",
        "m2.shape"
      ],
      "metadata": {
        "id": "cRURgsL7Rk39"
      },
      "execution_count": null,
      "outputs": []
    },
    {
      "cell_type": "code",
      "source": [
        "# merge with dax_daily_to_merge\n",
        "snp500_to_merge.tail(1)"
      ],
      "metadata": {
        "id": "chl5osZCPdkM"
      },
      "execution_count": null,
      "outputs": []
    },
    {
      "cell_type": "code",
      "source": [
        "m3 = pd.merge(m2,\n",
        "              snp500_to_merge,\n",
        "              how='left',\n",
        "              left_on='Date',\n",
        "              right_index=True,\n",
        "              validate = \"many_to_one\"\n",
        "              )"
      ],
      "metadata": {
        "id": "PQ_lDEyRRZ5W"
      },
      "execution_count": null,
      "outputs": []
    },
    {
      "cell_type": "code",
      "source": [
        "m3.tail(1)"
      ],
      "metadata": {
        "id": "dREew7ALR7dM"
      },
      "execution_count": null,
      "outputs": []
    },
    {
      "cell_type": "code",
      "source": [
        "m3.shape"
      ],
      "metadata": {
        "id": "LfxrYPgvR-ga"
      },
      "execution_count": null,
      "outputs": []
    },
    {
      "cell_type": "code",
      "source": [
        "m4 = pd.merge(m3,\n",
        "              dji_daily_to_merge,\n",
        "              how='left',\n",
        "              left_on='Date',\n",
        "              right_index=True,\n",
        "              validate = \"many_to_one\"\n",
        "              )"
      ],
      "metadata": {
        "id": "0SZaS4moSDBZ"
      },
      "execution_count": null,
      "outputs": []
    },
    {
      "cell_type": "code",
      "source": [
        "m4.shape"
      ],
      "metadata": {
        "id": "S5hEJGvnSKUY"
      },
      "execution_count": null,
      "outputs": []
    },
    {
      "cell_type": "code",
      "source": [
        "m4.tail(1)"
      ],
      "metadata": {
        "id": "FtfMTzXtSLgH"
      },
      "execution_count": null,
      "outputs": []
    },
    {
      "cell_type": "code",
      "source": [
        "m5 = pd.merge(m4,\n",
        "              epi_etf_daily_to_merge,\n",
        "              how='left',\n",
        "              left_on='Date',\n",
        "              right_index=True,\n",
        "              validate = \"many_to_one\"\n",
        "              )"
      ],
      "metadata": {
        "id": "rq6UxnqoSNLn"
      },
      "execution_count": null,
      "outputs": []
    },
    {
      "cell_type": "code",
      "source": [
        "m5.shape"
      ],
      "metadata": {
        "id": "Xf5XYpH2SR3X"
      },
      "execution_count": null,
      "outputs": []
    },
    {
      "cell_type": "code",
      "source": [
        "# define quarter as the first date of qtr\n",
        "m5['Quarter'] = m5['Date'].dt.to_period('Q').dt.to_timestamp()\n",
        "m5['Quarter']"
      ],
      "metadata": {
        "id": "ltwbWmHtS2-T"
      },
      "execution_count": null,
      "outputs": []
    },
    {
      "cell_type": "code",
      "source": [
        "gdppot_to_merge.tail(1)"
      ],
      "metadata": {
        "id": "XFi1VNamTyeQ"
      },
      "execution_count": null,
      "outputs": []
    },
    {
      "cell_type": "code",
      "source": [
        "m6 = pd.merge(m5,\n",
        "              gdppot_to_merge,\n",
        "              how='left',\n",
        "              left_on='Quarter',\n",
        "              right_index=True,\n",
        "              validate = \"many_to_one\"\n",
        "              )"
      ],
      "metadata": {
        "id": "W1VF8Lk8Sios"
      },
      "execution_count": null,
      "outputs": []
    },
    {
      "cell_type": "code",
      "source": [
        "m6.tail(2)"
      ],
      "metadata": {
        "id": "AJzL1HlAT3gY"
      },
      "execution_count": null,
      "outputs": []
    },
    {
      "cell_type": "code",
      "source": [
        "m6.shape"
      ],
      "metadata": {
        "id": "kmmMg3YdUDn4"
      },
      "execution_count": null,
      "outputs": []
    },
    {
      "cell_type": "code",
      "source": [
        "m6['Month'] = m6['Date'].dt.to_period('M').dt.to_timestamp()\n",
        "m6['Month']"
      ],
      "metadata": {
        "id": "zfa4-YbhUJBp"
      },
      "execution_count": null,
      "outputs": []
    },
    {
      "cell_type": "code",
      "source": [
        "cpilfesl_to_merge.tail(1)"
      ],
      "metadata": {
        "id": "ji2cH2XwT38A"
      },
      "execution_count": null,
      "outputs": []
    },
    {
      "cell_type": "code",
      "source": [
        "m7 = pd.merge(m6,\n",
        "              cpilfesl_to_merge,\n",
        "              how='left',\n",
        "              left_on='Month',\n",
        "              right_index=True,\n",
        "              validate = \"many_to_one\"\n",
        "              )"
      ],
      "metadata": {
        "id": "J6UxXsbRUG5O"
      },
      "execution_count": null,
      "outputs": []
    },
    {
      "cell_type": "code",
      "source": [
        "# PROBLEM! Last month is not defined\n",
        "m7.tail(1)"
      ],
      "metadata": {
        "id": "dya_F70JUVsu"
      },
      "execution_count": null,
      "outputs": []
    },
    {
      "cell_type": "code",
      "source": [
        "fields_to_fill = ['cpi_core_yoy',\t'cpi_core_mom']\n",
        "# Fill missing values in selected fields with the last defined value\n",
        "for field in fields_to_fill:\n",
        "    m7[field] = m7[field].fillna(method='ffill')\n"
      ],
      "metadata": {
        "id": "Q9ip_gtHUXL_"
      },
      "execution_count": null,
      "outputs": []
    },
    {
      "cell_type": "code",
      "source": [
        "m7.tail(1)"
      ],
      "metadata": {
        "id": "1S9w5f3DVBZa"
      },
      "execution_count": null,
      "outputs": []
    },
    {
      "cell_type": "code",
      "source": [
        "fedfunds.tail(1)"
      ],
      "metadata": {
        "id": "M6lghXeFVU0q"
      },
      "execution_count": null,
      "outputs": []
    },
    {
      "cell_type": "code",
      "source": [
        "m8 = pd.merge(m7,\n",
        "              fedfunds,\n",
        "              how='left',\n",
        "              left_on='Month',\n",
        "              right_index=True,\n",
        "              validate = \"many_to_one\"\n",
        "              )"
      ],
      "metadata": {
        "id": "p-XQKNiAVDTa"
      },
      "execution_count": null,
      "outputs": []
    },
    {
      "cell_type": "code",
      "source": [
        "m8.tail(1)"
      ],
      "metadata": {
        "id": "bWuUD644VM78"
      },
      "execution_count": null,
      "outputs": []
    },
    {
      "cell_type": "code",
      "source": [
        "fields_to_fill = ['FEDFUNDS']\n",
        "# Fill missing values in selected fields with the last defined value\n",
        "for field in fields_to_fill:\n",
        "    m8[field] = m8[field].fillna(method='ffill')\n"
      ],
      "metadata": {
        "id": "J5wpL8xuVX06"
      },
      "execution_count": null,
      "outputs": []
    },
    {
      "cell_type": "code",
      "source": [
        "m8.tail(1)"
      ],
      "metadata": {
        "id": "G4BslanRViyb"
      },
      "execution_count": null,
      "outputs": []
    },
    {
      "cell_type": "code",
      "source": [
        "dgs1.tail(1)"
      ],
      "metadata": {
        "id": "vE7Ir6QnVs9a"
      },
      "execution_count": null,
      "outputs": []
    },
    {
      "cell_type": "code",
      "source": [
        "m9 = pd.merge(m8,\n",
        "              dgs1,\n",
        "              how='left',\n",
        "              left_on='Date',\n",
        "              right_index=True,\n",
        "              validate = \"many_to_one\"\n",
        "              )"
      ],
      "metadata": {
        "id": "ltE-7agiVjsK"
      },
      "execution_count": null,
      "outputs": []
    },
    {
      "cell_type": "code",
      "source": [
        "# fix last day later\n",
        "m9.tail(2)"
      ],
      "metadata": {
        "id": "tpbEOmt0Vwxr"
      },
      "execution_count": null,
      "outputs": []
    },
    {
      "cell_type": "code",
      "source": [
        "m10 = pd.merge(m9,\n",
        "              dgs5,\n",
        "              how='left',\n",
        "              left_on='Date',\n",
        "              right_index=True,\n",
        "              validate = \"many_to_one\"\n",
        "              )"
      ],
      "metadata": {
        "id": "YlACTzcXWCBO"
      },
      "execution_count": null,
      "outputs": []
    },
    {
      "cell_type": "code",
      "source": [
        "# fix last day later\n",
        "m10.tail(2)"
      ],
      "metadata": {
        "id": "NtmnTxRaWP2E"
      },
      "execution_count": null,
      "outputs": []
    },
    {
      "cell_type": "code",
      "source": [
        "m11 = pd.merge(m10,\n",
        "              dgs10,\n",
        "              how='left',\n",
        "              left_on='Date',\n",
        "              right_index=True,\n",
        "              validate = \"many_to_one\"\n",
        "              )"
      ],
      "metadata": {
        "id": "LJ5clvQMWSH9"
      },
      "execution_count": null,
      "outputs": []
    },
    {
      "cell_type": "code",
      "source": [
        "m11.tail(2)"
      ],
      "metadata": {
        "id": "YtiH81acWbLi"
      },
      "execution_count": null,
      "outputs": []
    },
    {
      "cell_type": "code",
      "source": [
        "vix_to_merge"
      ],
      "metadata": {
        "id": "74fvS-eWWnzw"
      },
      "execution_count": null,
      "outputs": []
    },
    {
      "cell_type": "code",
      "source": [
        "m12 = pd.merge(m11,\n",
        "              vix_to_merge,\n",
        "              how='left',\n",
        "              left_on='Date',\n",
        "              right_index=True,\n",
        "              validate = \"many_to_one\"\n",
        "              )"
      ],
      "metadata": {
        "id": "kQ0rvTpaWeeF"
      },
      "execution_count": null,
      "outputs": []
    },
    {
      "cell_type": "code",
      "source": [
        "m12.tail(2)"
      ],
      "metadata": {
        "id": "FHzVqkyfWqsM"
      },
      "execution_count": null,
      "outputs": []
    },
    {
      "cell_type": "code",
      "source": [
        "gold_to_merge.tail(2)"
      ],
      "metadata": {
        "id": "LsbKI3mMW2DT"
      },
      "execution_count": null,
      "outputs": []
    },
    {
      "cell_type": "code",
      "source": [
        "m13 = pd.merge(m12,\n",
        "              gold_to_merge,\n",
        "              how='left',\n",
        "              left_on='Date',\n",
        "              right_index=True,\n",
        "              validate = \"many_to_one\"\n",
        "              )"
      ],
      "metadata": {
        "id": "0Cn2ZRyzWv5P"
      },
      "execution_count": null,
      "outputs": []
    },
    {
      "cell_type": "code",
      "source": [
        "m13.tail(2)"
      ],
      "metadata": {
        "id": "I_Os84CoW6pD"
      },
      "execution_count": null,
      "outputs": []
    },
    {
      "cell_type": "code",
      "source": [
        "m14 = pd.merge(m13,\n",
        "              crude_oil_to_merge,\n",
        "              how='left',\n",
        "              left_on='Date',\n",
        "              right_index=True,\n",
        "              validate = \"many_to_one\"\n",
        "              )"
      ],
      "metadata": {
        "id": "Xo0QlxnPXFm3"
      },
      "execution_count": null,
      "outputs": []
    },
    {
      "cell_type": "code",
      "source": [
        "m14.tail(2)"
      ],
      "metadata": {
        "id": "uPLSFUtHXPC1"
      },
      "execution_count": null,
      "outputs": []
    },
    {
      "cell_type": "code",
      "source": [
        "m15 = pd.merge(m14,\n",
        "              brent_oil_to_merge,\n",
        "              how='left',\n",
        "              left_on='Date',\n",
        "              right_index=True,\n",
        "              validate = \"many_to_one\"\n",
        "              )"
      ],
      "metadata": {
        "id": "xai5kvFIXReA"
      },
      "execution_count": null,
      "outputs": []
    },
    {
      "cell_type": "code",
      "source": [
        "m15.tail(2)"
      ],
      "metadata": {
        "id": "oBTOFoMlXWLe"
      },
      "execution_count": null,
      "outputs": []
    },
    {
      "cell_type": "code",
      "source": [
        "m16 = pd.merge(m15,\n",
        "              btc_usd_to_merge,\n",
        "              how='left',\n",
        "              left_on='Date',\n",
        "              right_index=True,\n",
        "              validate = \"many_to_one\"\n",
        "              )"
      ],
      "metadata": {
        "id": "rKBRg6i5XZIO"
      },
      "execution_count": null,
      "outputs": []
    },
    {
      "cell_type": "code",
      "source": [
        "m16.tail(2)"
      ],
      "metadata": {
        "id": "16BGGTrMXgaP"
      },
      "execution_count": null,
      "outputs": []
    },
    {
      "cell_type": "code",
      "source": [
        "fields_to_fill = ['gdppot_us_yoy','gdppot_us_qoq','cpi_core_yoy','cpi_core_mom','FEDFUNDS','DGS1','DGS5','DGS10']\n",
        "# Fill missing values in selected fields with the last defined value\n",
        "for field in fields_to_fill:\n",
        "    m16[field] = m16[field].fillna(method='ffill')"
      ],
      "metadata": {
        "id": "Rh6g9zE5VxVr"
      },
      "execution_count": null,
      "outputs": []
    },
    {
      "cell_type": "code",
      "source": [
        "m16.tail(2)"
      ],
      "metadata": {
        "id": "fpL0I22FYT-O"
      },
      "execution_count": null,
      "outputs": []
    },
    {
      "cell_type": "code",
      "source": [
        "m16.info()"
      ],
      "metadata": {
        "id": "9_PDNm_AYVOd"
      },
      "execution_count": null,
      "outputs": []
    },
    {
      "cell_type": "code",
      "source": [
        "date = m16.Date.max()\n",
        "date_str = date.strftime('%Y_%m_%d')\n",
        "print(date_str)"
      ],
      "metadata": {
        "id": "ukRk37WLa-41"
      },
      "execution_count": null,
      "outputs": []
    },
    {
      "cell_type": "code",
      "source": [
        "m16.to_parquet(f'stocks_df_combined_{date_str}.parquet.brotli',\n",
        "              compression='brotli')"
      ],
      "metadata": {
        "id": "4hsSogrlYYMt"
      },
      "execution_count": null,
      "outputs": []
    }
  ]
}